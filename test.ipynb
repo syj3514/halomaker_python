{
 "cells": [
  {
   "cell_type": "code",
   "execution_count": 41,
   "metadata": {},
   "outputs": [],
   "source": [
    "import numpy as np\n",
    "from multiprocessing import Pool\n",
    "import time"
   ]
  },
  {
   "cell_type": "code",
   "execution_count": 46,
   "metadata": {},
   "outputs": [],
   "source": [
    "def arr2oct(arr):\n",
    "    length = len(arr)\n",
    "    temp = 8**np.arange(length)[::-1]\n",
    "    print(np.sum(arr*temp))\n",
    "    print(f\"0o{np.sum(arr*temp):o}\")\n",
    "    return oct(np.sum(arr*temp))"
   ]
  },
  {
   "cell_type": "code",
   "execution_count": 47,
   "metadata": {},
   "outputs": [],
   "source": [
    "import halo_defs as H\n",
    "def pos2oct(pos):\n",
    "    from num_rec import icellid, icellids\n",
    "    sizeroot = 1\n",
    "    nlevelmax = 6\n",
    "    octarr = np.zeros((pos.shape[0], nlevelmax), dtype=np.int8)\n",
    "    cpos = np.zeros((pos.shape[0],3), dtype=np.float64)\n",
    "    for ilevel in range(nlevelmax):\n",
    "        icids = icellids(pos - cpos)\n",
    "        octarr[:,ilevel] = icids\n",
    "        print(ilevel, octarr[:5,ilevel])\n",
    "        # cpos += H.sizeroot*H.pos_ref_0[:3,icids] * 2**(-ilevel-2)\n",
    "        cpos += sizeroot*H.pos_ref_0[:3,icids].T * 2**(-ilevel-2)\n",
    "    temp = 8**np.arange(nlevelmax)[::-1]\n",
    "    return np.sum(octarr*temp, axis=1)"
   ]
  },
  {
   "cell_type": "code",
   "execution_count": 54,
   "metadata": {},
   "outputs": [
    {
     "name": "stdout",
     "output_type": "stream",
     "text": [
      "[Output 00187] Age (Gyr) : 13.741 / 13.741, z = -0.00000 (a = 1.0000)\n",
      "Reading 768 part files (2.136 GiB) in /storage3/Clusters/07206/snapshots/output_00187... \n",
      "Done (1.768s).\n"
     ]
    }
   ],
   "source": [
    "from rur import uri\n",
    "repo = '/storage3/Clusters/07206'\n",
    "snap = uri.RamsesSnapshot(repo, 187, mode='yzics')\n",
    "dm = snap.get_part(pname='star', nthread=32)"
   ]
  },
  {
   "cell_type": "code",
   "execution_count": 55,
   "metadata": {},
   "outputs": [
    {
     "name": "stdout",
     "output_type": "stream",
     "text": [
      "[(0, 0, 0, False, 0, 0) (0, 0, 0, False, 0, 0) (0, 0, 0, False, 0, 0) ...\n",
      " (0, 0, 0, False, 0, 0) (0, 0, 0, False, 0, 0) (0, 0, 0, False, 0, 0)]\n"
     ]
    }
   ],
   "source": [
    "pos = dm['pos']-np.array([0.5,0.5,0.5])\n",
    "nlevelmax = 30\n"
   ]
  },
  {
   "cell_type": "code",
   "execution_count": 56,
   "metadata": {},
   "outputs": [],
   "source": [
    "kdtree = {}\n",
    "ncellmx = 2*pos.shape[0]+1\n",
    "kdtree['mass_cell'] = np.zeros(ncellmx, dtype=np.int64)\n",
    "kdtree['pos_cell'] = np.zeros((ncellmx,3), dtype=np.float64)\n",
    "kdtree['size_cell'] = np.zeros(ncellmx, dtype=np.int64)\n",
    "kdtree['sister'] = np.zeros(ncellmx, dtype=np.int64)\n",
    "kdtree['firstchild'] = np.zeros(ncellmx, dtype=np.int64)"
   ]
  },
  {
   "cell_type": "code",
   "execution_count": null,
   "metadata": {},
   "outputs": [],
   "source": []
  },
  {
   "cell_type": "code",
   "execution_count": 64,
   "metadata": {},
   "outputs": [],
   "source": [
    "def refine(pos, octarr, cpos, base=8):\n",
    "    from num_rec import icellid, icellids\n",
    "    sizeroot=1\n",
    "    yet = ~octarr[\"done\"]\n",
    "    ncell_new = 1\n",
    "    while(True in yet):\n",
    "        nlevel = int( np.max(octarr[\"lvl\"]) )\n",
    "        octid = octarr['oct1'] if(nlevel < 15) else octarr['oct1']+1j*octarr['oct2']\n",
    "        ncell_old = ncell_new\n",
    "        icids = icellids(pos[yet]-cpos[yet])+1\n",
    "        if(nlevel > 14):\n",
    "            octarr['oct2'] *= base\n",
    "            octarr['oct2'][yet] += icids\n",
    "        else:\n",
    "            octarr['oct1'] *= base\n",
    "            octarr['oct1'][yet] += icids\n",
    "        octarr['lvl'][yet] += 1\n",
    "        if(nlevel >= 30): break\n",
    "\n",
    "        octid = octarr['oct1'] if(nlevel < 15) else octarr['oct1']+1j*octarr['oct2']\n",
    "        uni, count = np.unique(octid[yet], return_counts=True)\n",
    "        if(True in (count<=20)):\n",
    "            leafind = np.where(count<=20)[0]\n",
    "            leaf = uni[leafind]\n",
    "            isin = np.isin(octid, leaf)\n",
    "            octarr[\"done\"][isin] = True\n",
    "        a,b = np.unique(octarr['lvl'], return_counts=True)\n",
    "        ncell_new = np.sum(b[:-1]) + len( np.unique(octid[octarr['lvl'] == a[-1]]) )\n",
    "        print(f\"[lvl={nlevel}] {ncell_old} -> {ncell_new} [{octarr[0]}, {octarr[yet][0]}]\")\n",
    "        cpos[yet] += sizeroot*H.pos_ref_0[:3,icids-1].T * 2**(-nlevel-2)\n",
    "        yet = ~octarr[\"done\"]\n",
    "    print(f\"[lvl={nlevel}] KDtree done\")\n",
    "    return octarr"
   ]
  },
  {
   "cell_type": "code",
   "execution_count": 65,
   "metadata": {},
   "outputs": [
    {
     "name": "stdout",
     "output_type": "stream",
     "text": [
      "[(0, 0, 0, False, 0, 0) (0, 0, 0, False, 0, 0) (0, 0, 0, False, 0, 0) ...\n",
      " (0, 0, 0, False, 0, 0) (0, 0, 0, False, 0, 0) (0, 0, 0, False, 0, 0)]\n"
     ]
    }
   ],
   "source": [
    "cpos = np.zeros((pos.shape[0],3), dtype=np.float128)\n",
    "octarr = np.zeros(pos.shape[0],dtype=[\n",
    "            (\"oct1\", np.int64),(\"oct2\", np.int64), (\"lvl\", np.int8), (\"done\", bool), \n",
    "            (\"inccell\", np.int64), (\"idmother\", np.int64)\n",
    "            ])\n",
    "octarr[\"done\"] = False\n",
    "print(octarr)"
   ]
  },
  {
   "cell_type": "code",
   "execution_count": 66,
   "metadata": {},
   "outputs": [
    {
     "name": "stdout",
     "output_type": "stream",
     "text": [
      "[lvl=0] 1 -> 2 [(1, 0, 1, False, 0, 0), (1, 0, 1, False, 0, 0)]\n",
      "[lvl=1] 2 -> 4 [(18, 0, 2, True, 0, 0), (18, 0, 2, True, 0, 0)]\n"
     ]
    },
    {
     "ename": "KeyboardInterrupt",
     "evalue": "",
     "output_type": "error",
     "traceback": [
      "\u001b[0;31m---------------------------------------------------------------------------\u001b[0m",
      "\u001b[0;31mKeyboardInterrupt\u001b[0m                         Traceback (most recent call last)",
      "\u001b[1;32m/home/jeon/halomaker_python/test.ipynb Cell 10\u001b[0m line \u001b[0;36m<cell line: 1>\u001b[0;34m()\u001b[0m\n\u001b[0;32m----> <a href='vscode-notebook-cell://ssh-remote%2B7b22686f73744e616d65223a22474336227d/home/jeon/halomaker_python/test.ipynb#X22sdnNjb2RlLXJlbW90ZQ%3D%3D?line=0'>1</a>\u001b[0m octarr \u001b[39m=\u001b[39m refine(pos, octarr, cpos, base\u001b[39m=\u001b[39;49m\u001b[39m10\u001b[39;49m)\n",
      "\u001b[1;32m/home/jeon/halomaker_python/test.ipynb Cell 10\u001b[0m line \u001b[0;36mrefine\u001b[0;34m(pos, octarr, cpos, base)\u001b[0m\n\u001b[1;32m      <a href='vscode-notebook-cell://ssh-remote%2B7b22686f73744e616d65223a22474336227d/home/jeon/halomaker_python/test.ipynb#X22sdnNjb2RlLXJlbW90ZQ%3D%3D?line=3'>4</a>\u001b[0m yet \u001b[39m=\u001b[39m \u001b[39m~\u001b[39moctarr[\u001b[39m\"\u001b[39m\u001b[39mdone\u001b[39m\u001b[39m\"\u001b[39m]\n\u001b[1;32m      <a href='vscode-notebook-cell://ssh-remote%2B7b22686f73744e616d65223a22474336227d/home/jeon/halomaker_python/test.ipynb#X22sdnNjb2RlLXJlbW90ZQ%3D%3D?line=4'>5</a>\u001b[0m ncell_new \u001b[39m=\u001b[39m \u001b[39m1\u001b[39m\n\u001b[0;32m----> <a href='vscode-notebook-cell://ssh-remote%2B7b22686f73744e616d65223a22474336227d/home/jeon/halomaker_python/test.ipynb#X22sdnNjb2RlLXJlbW90ZQ%3D%3D?line=5'>6</a>\u001b[0m \u001b[39mwhile\u001b[39;00m(\u001b[39mTrue\u001b[39;00m \u001b[39min\u001b[39;00m yet):\n\u001b[1;32m      <a href='vscode-notebook-cell://ssh-remote%2B7b22686f73744e616d65223a22474336227d/home/jeon/halomaker_python/test.ipynb#X22sdnNjb2RlLXJlbW90ZQ%3D%3D?line=6'>7</a>\u001b[0m     nlevel \u001b[39m=\u001b[39m \u001b[39mint\u001b[39m( np\u001b[39m.\u001b[39mmax(octarr[\u001b[39m\"\u001b[39m\u001b[39mlvl\u001b[39m\u001b[39m\"\u001b[39m]) )\n\u001b[1;32m      <a href='vscode-notebook-cell://ssh-remote%2B7b22686f73744e616d65223a22474336227d/home/jeon/halomaker_python/test.ipynb#X22sdnNjb2RlLXJlbW90ZQ%3D%3D?line=7'>8</a>\u001b[0m     octid \u001b[39m=\u001b[39m octarr[\u001b[39m'\u001b[39m\u001b[39moct1\u001b[39m\u001b[39m'\u001b[39m] \u001b[39mif\u001b[39;00m(nlevel \u001b[39m<\u001b[39m \u001b[39m15\u001b[39m) \u001b[39melse\u001b[39;00m octarr[\u001b[39m'\u001b[39m\u001b[39moct1\u001b[39m\u001b[39m'\u001b[39m]\u001b[39m+\u001b[39m\u001b[39m1\u001b[39mj\u001b[39m*\u001b[39moctarr[\u001b[39m'\u001b[39m\u001b[39moct2\u001b[39m\u001b[39m'\u001b[39m]\n",
      "\u001b[0;31mKeyboardInterrupt\u001b[0m: "
     ]
    }
   ],
   "source": [
    "octarr = refine(pos, octarr, cpos, base=10)"
   ]
  },
  {
   "cell_type": "code",
   "execution_count": 63,
   "metadata": {},
   "outputs": [
    {
     "data": {
      "text/plain": [
       "('0o1', '0o20', '0o200', '0o20067')"
      ]
     },
     "execution_count": 63,
     "metadata": {},
     "output_type": "execute_result"
    }
   ],
   "source": [
    "oct(1), oct(16), oct(128), oct(8247)"
   ]
  },
  {
   "cell_type": "code",
   "execution_count": null,
   "metadata": {},
   "outputs": [],
   "source": [
    "        # mem['pos_cell'][:3,inccell-1]=pos_this_node[:3]\n",
    "        # mem['mass_cell'][inccell-1]=npart_this_node\n",
    "        # mem['size_cell'][inccell-1]=2.**(-nlevel)*H.sizeroot*0.5\n",
    "        # if (idmother>0):\n",
    "        #     # If this is not the root cell, we link it to its mother\n",
    "        #     mem['sister'][inccell-1]=mem['firstchild'][idmother-1]\n",
    "        #     mem['firstchild'][idmother-1]=inccell\n",
    "        # if ((npart_this_node <= H.npartpercell) or (nlevel==H.nlevelmax)):\n",
    "        #     # If there is only one particle in the H.node_0 or we have reach\n",
    "        #     # maximum level of refinement, we are done\n",
    "        #     mem['firstchild'][inccell-1]=-(first_pos_this_node+1)"
   ]
  },
  {
   "cell_type": "code",
   "execution_count": null,
   "metadata": {},
   "outputs": [],
   "source": []
  },
  {
   "cell_type": "code",
   "execution_count": 341,
   "metadata": {},
   "outputs": [
    {
     "data": {
      "text/plain": [
       "array([(111111100000000, 0, 7,  True, 0, 0),\n",
       "       (111111100000000, 0, 7,  True, 0, 0),\n",
       "       (111111100000000, 0, 7,  True, 0, 0), ...,\n",
       "       (888888800000000, 0, 7,  True, 0, 0),\n",
       "       (888888800000000, 0, 7,  True, 0, 0),\n",
       "       (888888800000000, 0, 7,  True, 0, 0)],\n",
       "      dtype=[('oct1', '<i8'), ('oct2', '<i8'), ('lvl', 'i1'), ('done', '?'), ('inccell', '<i8'), ('idmother', '<i8')])"
      ]
     },
     "execution_count": 341,
     "metadata": {},
     "output_type": "execute_result"
    }
   ],
   "source": [
    "lexsort = np.lexsort((octarr['oct2'], octarr['oct1']))\n",
    "octarr[lexsort]"
   ]
  },
  {
   "cell_type": "code",
   "execution_count": null,
   "metadata": {},
   "outputs": [],
   "source": [
    "f\"{}\""
   ]
  },
  {
   "cell_type": "code",
   "execution_count": 447,
   "metadata": {},
   "outputs": [],
   "source": [
    "ids = np.arange(octarr.shape[0])+1\n",
    "ids = ids[lexsort]"
   ]
  },
  {
   "cell_type": "code",
   "execution_count": 389,
   "metadata": {},
   "outputs": [],
   "source": [
    "octree = octarr[lexsort]"
   ]
  },
  {
   "cell_type": "code",
   "execution_count": 464,
   "metadata": {},
   "outputs": [],
   "source": [
    "def bign(ilevel):\n",
    "    return int( 10**(15-ilevel) )"
   ]
  },
  {
   "cell_type": "code",
   "execution_count": 501,
   "metadata": {},
   "outputs": [
    {
     "data": {
      "text/plain": [
       "(11134418,)"
      ]
     },
     "execution_count": 501,
     "metadata": {},
     "output_type": "execute_result"
    }
   ],
   "source": [
    "octree.shape"
   ]
  },
  {
   "cell_type": "code",
   "execution_count": 503,
   "metadata": {},
   "outputs": [],
   "source": [
    "octids = [f\"{i['oct1']}{i['oct2']}\" for i in octree]"
   ]
  },
  {
   "cell_type": "code",
   "execution_count": 511,
   "metadata": {},
   "outputs": [],
   "source": [
    "octids = np.array(octids)"
   ]
  },
  {
   "cell_type": "code",
   "execution_count": 512,
   "metadata": {},
   "outputs": [
    {
     "data": {
      "text/plain": [
       "array(['1111111000000000', '1111111000000000', '1111111000000000', ...,\n",
       "       '8888888000000000', '8888888000000000', '8888888000000000'],\n",
       "      dtype='<U19')"
      ]
     },
     "execution_count": 512,
     "metadata": {},
     "output_type": "execute_result"
    }
   ],
   "source": [
    "octids"
   ]
  },
  {
   "cell_type": "code",
   "execution_count": 506,
   "metadata": {},
   "outputs": [
    {
     "data": {
      "text/plain": [
       "array([1, 1, 1, ..., 8, 8, 8])"
      ]
     },
     "execution_count": 506,
     "metadata": {},
     "output_type": "execute_result"
    }
   ],
   "source": [
    "np.array([i[0] for i in octids], dtype=int)"
   ]
  },
  {
   "cell_type": "code",
   "execution_count": 517,
   "metadata": {},
   "outputs": [
    {
     "name": "stdout",
     "output_type": "stream",
     "text": [
      "inccell= 100000\n",
      "inccell= 200000\n",
      "inccell= 300000\n",
      "inccell= 400000\n"
     ]
    },
    {
     "ename": "KeyboardInterrupt",
     "evalue": "",
     "output_type": "error",
     "traceback": [
      "\u001b[0;31m---------------------------------------------------------------------------\u001b[0m",
      "\u001b[0;31mKeyboardInterrupt\u001b[0m                         Traceback (most recent call last)",
      "\u001b[1;32m/home/jeon/halomaker_python/test.ipynb Cell 29\u001b[0m line \u001b[0;36m<cell line: 21>\u001b[0;34m()\u001b[0m\n\u001b[1;32m     <a href='vscode-notebook-cell://ssh-remote%2B7b22686f73744e616d65223a22474336227d/home/jeon/halomaker_python/test.ipynb#Y433sdnNjb2RlLXJlbW90ZQ%3D%3D?line=17'>18</a>\u001b[0m             \u001b[39mif\u001b[39;00m(temp[\u001b[39m0\u001b[39m]\u001b[39m==\u001b[39m\u001b[39m0\u001b[39m): \u001b[39mcontinue\u001b[39;00m\n\u001b[1;32m     <a href='vscode-notebook-cell://ssh-remote%2B7b22686f73744e616d65223a22474336227d/home/jeon/halomaker_python/test.ipynb#Y433sdnNjb2RlLXJlbW90ZQ%3D%3D?line=18'>19</a>\u001b[0m             gogo(ilevel, temp)\n\u001b[0;32m---> <a href='vscode-notebook-cell://ssh-remote%2B7b22686f73744e616d65223a22474336227d/home/jeon/halomaker_python/test.ipynb#Y433sdnNjb2RlLXJlbW90ZQ%3D%3D?line=20'>21</a>\u001b[0m gogo(ilevel, other)\n\u001b[1;32m     <a href='vscode-notebook-cell://ssh-remote%2B7b22686f73744e616d65223a22474336227d/home/jeon/halomaker_python/test.ipynb#Y433sdnNjb2RlLXJlbW90ZQ%3D%3D?line=22'>23</a>\u001b[0m \u001b[39m# ilevel += 1\u001b[39;00m\n\u001b[1;32m     <a href='vscode-notebook-cell://ssh-remote%2B7b22686f73744e616d65223a22474336227d/home/jeon/halomaker_python/test.ipynb#Y433sdnNjb2RlLXJlbW90ZQ%3D%3D?line=23'>24</a>\u001b[0m \u001b[39m# N = bign(ilevel)\u001b[39;00m\n\u001b[1;32m     <a href='vscode-notebook-cell://ssh-remote%2B7b22686f73744e616d65223a22474336227d/home/jeon/halomaker_python/test.ipynb#Y433sdnNjb2RlLXJlbW90ZQ%3D%3D?line=24'>25</a>\u001b[0m \u001b[39m# n = other//N\u001b[39;00m\n\u001b[0;32m   (...)\u001b[0m\n\u001b[1;32m     <a href='vscode-notebook-cell://ssh-remote%2B7b22686f73744e616d65223a22474336227d/home/jeon/halomaker_python/test.ipynb#Y433sdnNjb2RlLXJlbW90ZQ%3D%3D?line=68'>69</a>\u001b[0m \u001b[39m# other = other[n==1]%N\u001b[39;00m\n\u001b[1;32m     <a href='vscode-notebook-cell://ssh-remote%2B7b22686f73744e616d65223a22474336227d/home/jeon/halomaker_python/test.ipynb#Y433sdnNjb2RlLXJlbW90ZQ%3D%3D?line=69'>70</a>\u001b[0m \u001b[39m# print(n[0],other[0])\u001b[39;00m\n\u001b[1;32m     <a href='vscode-notebook-cell://ssh-remote%2B7b22686f73744e616d65223a22474336227d/home/jeon/halomaker_python/test.ipynb#Y433sdnNjb2RlLXJlbW90ZQ%3D%3D?line=75'>76</a>\u001b[0m mass_cell[:\u001b[39m10\u001b[39m]\n",
      "\u001b[1;32m/home/jeon/halomaker_python/test.ipynb Cell 29\u001b[0m line \u001b[0;36mgogo\u001b[0;34m(ilevel, other)\u001b[0m\n\u001b[1;32m     <a href='vscode-notebook-cell://ssh-remote%2B7b22686f73744e616d65223a22474336227d/home/jeon/halomaker_python/test.ipynb#Y433sdnNjb2RlLXJlbW90ZQ%3D%3D?line=16'>17</a>\u001b[0m temp \u001b[39m=\u001b[39m np\u001b[39m.\u001b[39marray([i[\u001b[39m1\u001b[39m:] \u001b[39mfor\u001b[39;00m i \u001b[39min\u001b[39;00m other[ind]])\n\u001b[1;32m     <a href='vscode-notebook-cell://ssh-remote%2B7b22686f73744e616d65223a22474336227d/home/jeon/halomaker_python/test.ipynb#Y433sdnNjb2RlLXJlbW90ZQ%3D%3D?line=17'>18</a>\u001b[0m \u001b[39mif\u001b[39;00m(temp[\u001b[39m0\u001b[39m]\u001b[39m==\u001b[39m\u001b[39m0\u001b[39m): \u001b[39mcontinue\u001b[39;00m\n\u001b[0;32m---> <a href='vscode-notebook-cell://ssh-remote%2B7b22686f73744e616d65223a22474336227d/home/jeon/halomaker_python/test.ipynb#Y433sdnNjb2RlLXJlbW90ZQ%3D%3D?line=18'>19</a>\u001b[0m gogo(ilevel, temp)\n",
      "\u001b[1;32m/home/jeon/halomaker_python/test.ipynb Cell 29\u001b[0m line \u001b[0;36mgogo\u001b[0;34m(ilevel, other)\u001b[0m\n\u001b[1;32m     <a href='vscode-notebook-cell://ssh-remote%2B7b22686f73744e616d65223a22474336227d/home/jeon/halomaker_python/test.ipynb#Y433sdnNjb2RlLXJlbW90ZQ%3D%3D?line=16'>17</a>\u001b[0m temp \u001b[39m=\u001b[39m np\u001b[39m.\u001b[39marray([i[\u001b[39m1\u001b[39m:] \u001b[39mfor\u001b[39;00m i \u001b[39min\u001b[39;00m other[ind]])\n\u001b[1;32m     <a href='vscode-notebook-cell://ssh-remote%2B7b22686f73744e616d65223a22474336227d/home/jeon/halomaker_python/test.ipynb#Y433sdnNjb2RlLXJlbW90ZQ%3D%3D?line=17'>18</a>\u001b[0m \u001b[39mif\u001b[39;00m(temp[\u001b[39m0\u001b[39m]\u001b[39m==\u001b[39m\u001b[39m0\u001b[39m): \u001b[39mcontinue\u001b[39;00m\n\u001b[0;32m---> <a href='vscode-notebook-cell://ssh-remote%2B7b22686f73744e616d65223a22474336227d/home/jeon/halomaker_python/test.ipynb#Y433sdnNjb2RlLXJlbW90ZQ%3D%3D?line=18'>19</a>\u001b[0m gogo(ilevel, temp)\n",
      "    \u001b[0;31m[... skipping similar frames: gogo at line 19 (10 times)]\u001b[0m\n",
      "\u001b[1;32m/home/jeon/halomaker_python/test.ipynb Cell 29\u001b[0m line \u001b[0;36mgogo\u001b[0;34m(ilevel, other)\u001b[0m\n\u001b[1;32m     <a href='vscode-notebook-cell://ssh-remote%2B7b22686f73744e616d65223a22474336227d/home/jeon/halomaker_python/test.ipynb#Y433sdnNjb2RlLXJlbW90ZQ%3D%3D?line=16'>17</a>\u001b[0m temp \u001b[39m=\u001b[39m np\u001b[39m.\u001b[39marray([i[\u001b[39m1\u001b[39m:] \u001b[39mfor\u001b[39;00m i \u001b[39min\u001b[39;00m other[ind]])\n\u001b[1;32m     <a href='vscode-notebook-cell://ssh-remote%2B7b22686f73744e616d65223a22474336227d/home/jeon/halomaker_python/test.ipynb#Y433sdnNjb2RlLXJlbW90ZQ%3D%3D?line=17'>18</a>\u001b[0m \u001b[39mif\u001b[39;00m(temp[\u001b[39m0\u001b[39m]\u001b[39m==\u001b[39m\u001b[39m0\u001b[39m): \u001b[39mcontinue\u001b[39;00m\n\u001b[0;32m---> <a href='vscode-notebook-cell://ssh-remote%2B7b22686f73744e616d65223a22474336227d/home/jeon/halomaker_python/test.ipynb#Y433sdnNjb2RlLXJlbW90ZQ%3D%3D?line=18'>19</a>\u001b[0m gogo(ilevel, temp)\n",
      "\u001b[1;32m/home/jeon/halomaker_python/test.ipynb Cell 29\u001b[0m line \u001b[0;36mgogo\u001b[0;34m(ilevel, other)\u001b[0m\n\u001b[1;32m     <a href='vscode-notebook-cell://ssh-remote%2B7b22686f73744e616d65223a22474336227d/home/jeon/halomaker_python/test.ipynb#Y433sdnNjb2RlLXJlbW90ZQ%3D%3D?line=11'>12</a>\u001b[0m ind \u001b[39m=\u001b[39m n \u001b[39m==\u001b[39m j\u001b[39m+\u001b[39m\u001b[39m1\u001b[39m\n\u001b[1;32m     <a href='vscode-notebook-cell://ssh-remote%2B7b22686f73744e616d65223a22474336227d/home/jeon/halomaker_python/test.ipynb#Y433sdnNjb2RlLXJlbW90ZQ%3D%3D?line=12'>13</a>\u001b[0m \u001b[39mif\u001b[39;00m(\u001b[39mTrue\u001b[39;00m \u001b[39min\u001b[39;00m ind):\n\u001b[0;32m---> <a href='vscode-notebook-cell://ssh-remote%2B7b22686f73744e616d65223a22474336227d/home/jeon/halomaker_python/test.ipynb#Y433sdnNjb2RlLXJlbW90ZQ%3D%3D?line=13'>14</a>\u001b[0m     mass_cell[inccell] \u001b[39m=\u001b[39m np\u001b[39m.\u001b[39;49msum(ind); inccell\u001b[39m+\u001b[39m\u001b[39m=\u001b[39m\u001b[39m1\u001b[39m\n\u001b[1;32m     <a href='vscode-notebook-cell://ssh-remote%2B7b22686f73744e616d65223a22474336227d/home/jeon/halomaker_python/test.ipynb#Y433sdnNjb2RlLXJlbW90ZQ%3D%3D?line=14'>15</a>\u001b[0m     \u001b[39mif\u001b[39;00m((inccell\u001b[39m%\u001b[39m\u001b[39m100000\u001b[39m)\u001b[39m==\u001b[39m\u001b[39m0\u001b[39m): \u001b[39mprint\u001b[39m(\u001b[39m'\u001b[39m\u001b[39minccell=\u001b[39m\u001b[39m'\u001b[39m,inccell)\n\u001b[1;32m     <a href='vscode-notebook-cell://ssh-remote%2B7b22686f73744e616d65223a22474336227d/home/jeon/halomaker_python/test.ipynb#Y433sdnNjb2RlLXJlbW90ZQ%3D%3D?line=15'>16</a>\u001b[0m     \u001b[39m# print(ilevel, j+1, mass_cell[inccell-1])\u001b[39;00m\n",
      "File \u001b[0;32m<__array_function__ internals>:180\u001b[0m, in \u001b[0;36msum\u001b[0;34m(*args, **kwargs)\u001b[0m\n",
      "File \u001b[0;32m~/.conda/envs/jeonpy/lib/python3.10/site-packages/numpy/core/fromnumeric.py:2285\u001b[0m, in \u001b[0;36msum\u001b[0;34m(a, axis, dtype, out, keepdims, initial, where)\u001b[0m\n\u001b[1;32m   2162\u001b[0m \u001b[39m@array_function_dispatch\u001b[39m(_sum_dispatcher)\n\u001b[1;32m   2163\u001b[0m \u001b[39mdef\u001b[39;00m \u001b[39msum\u001b[39m(a, axis\u001b[39m=\u001b[39m\u001b[39mNone\u001b[39;00m, dtype\u001b[39m=\u001b[39m\u001b[39mNone\u001b[39;00m, out\u001b[39m=\u001b[39m\u001b[39mNone\u001b[39;00m, keepdims\u001b[39m=\u001b[39mnp\u001b[39m.\u001b[39m_NoValue,\n\u001b[1;32m   2164\u001b[0m         initial\u001b[39m=\u001b[39mnp\u001b[39m.\u001b[39m_NoValue, where\u001b[39m=\u001b[39mnp\u001b[39m.\u001b[39m_NoValue):\n\u001b[1;32m   2165\u001b[0m     \u001b[39m\"\"\"\u001b[39;00m\n\u001b[1;32m   2166\u001b[0m \u001b[39m    Sum of array elements over a given axis.\u001b[39;00m\n\u001b[1;32m   2167\u001b[0m \n\u001b[0;32m   (...)\u001b[0m\n\u001b[1;32m   2283\u001b[0m \u001b[39m    15\u001b[39;00m\n\u001b[1;32m   2284\u001b[0m \u001b[39m    \"\"\"\u001b[39;00m\n\u001b[0;32m-> 2285\u001b[0m     \u001b[39mif\u001b[39;00m \u001b[39misinstance\u001b[39;49m(a, _gentype):\n\u001b[1;32m   2286\u001b[0m         \u001b[39m# 2018-02-25, 1.15.0\u001b[39;00m\n\u001b[1;32m   2287\u001b[0m         warnings\u001b[39m.\u001b[39mwarn(\n\u001b[1;32m   2288\u001b[0m             \u001b[39m\"\u001b[39m\u001b[39mCalling np.sum(generator) is deprecated, and in the future will give a different result. \u001b[39m\u001b[39m\"\u001b[39m\n\u001b[1;32m   2289\u001b[0m             \u001b[39m\"\u001b[39m\u001b[39mUse np.sum(np.fromiter(generator)) or the python sum builtin instead.\u001b[39m\u001b[39m\"\u001b[39m,\n\u001b[1;32m   2290\u001b[0m             \u001b[39mDeprecationWarning\u001b[39;00m, stacklevel\u001b[39m=\u001b[39m\u001b[39m3\u001b[39m)\n\u001b[1;32m   2292\u001b[0m         res \u001b[39m=\u001b[39m _sum_(a)\n",
      "\u001b[0;31mKeyboardInterrupt\u001b[0m: "
     ]
    }
   ],
   "source": [
    "mass_cell = np.zeros(ncellmx, dtype=np.int64)-1\n",
    "inccell=0\n",
    "ilevel = 0\n",
    "mass_cell[inccell] = len(octree); inccell+=1\n",
    "other = octids\n",
    "\n",
    "def gogo(ilevel, other):\n",
    "    global inccell, mass_cell\n",
    "    ilevel += 1\n",
    "    n = np.array([i[0] for i in other], dtype=np.int8)\n",
    "    for j in range(8):\n",
    "        ind = n == j+1\n",
    "        if(True in ind):\n",
    "            mass_cell[inccell] = np.sum(ind); inccell+=1\n",
    "            if((inccell%100000)==0): print('inccell=',inccell)\n",
    "            # print(ilevel, j+1, mass_cell[inccell-1])\n",
    "            temp = np.array([i[1:] for i in other[ind]])\n",
    "            if(temp[0]==0): continue\n",
    "            gogo(ilevel, temp)\n",
    "\n",
    "gogo(ilevel, other)\n",
    "\n",
    "# ilevel += 1\n",
    "# N = bign(ilevel)\n",
    "# n = other//N\n",
    "# mass_cell[inccell] = np.sum(n==1); inccell+=1\n",
    "# other = other[n==1]%N\n",
    "# print(n[0],other[0])\n",
    "\n",
    "# ilevel += 1\n",
    "# N = bign(ilevel)\n",
    "# n = other//N\n",
    "# mass_cell[inccell] = np.sum(n==1); inccell+=1\n",
    "# other = other[n==1]%N\n",
    "# print(n[0],other[0])\n",
    "\n",
    "# ilevel += 1\n",
    "# N = bign(ilevel)\n",
    "# n = other//N\n",
    "# mass_cell[inccell] = np.sum(n==1); inccell+=1\n",
    "# other = other[n==1]%N\n",
    "# print(n[0],other[0])\n",
    "\n",
    "# ilevel += 1\n",
    "# N = bign(ilevel)\n",
    "# n = other//N\n",
    "# mass_cell[inccell] = np.sum(n==1); inccell+=1\n",
    "# other = other[n==1]%N\n",
    "# print(n[0],other[0])\n",
    "\n",
    "# ilevel += 1\n",
    "# N = bign(ilevel)\n",
    "# n = other//N\n",
    "# mass_cell[inccell] = np.sum(n==1); inccell+=1\n",
    "# other = other[n==1]%N\n",
    "# print(n[0],other[0])\n",
    "\n",
    "# ilevel += 1\n",
    "# N = bign(ilevel)\n",
    "# n = other//N\n",
    "# mass_cell[inccell] = np.sum(n==1); inccell+=1\n",
    "# other = other[n==1]%N\n",
    "# print(n[0],other[0])\n",
    "\n",
    "# ilevel += 1\n",
    "# N = bign(ilevel)\n",
    "# n = other//N\n",
    "# mass_cell[inccell] = np.sum(n==1); inccell+=1\n",
    "# other = other[n==1]%N\n",
    "# print(n[0],other[0])\n",
    "\n",
    "\n",
    "\n",
    "\n",
    "\n",
    "mass_cell[:10]"
   ]
  },
  {
   "cell_type": "code",
   "execution_count": 518,
   "metadata": {},
   "outputs": [
    {
     "data": {
      "text/plain": [
       "array([11134418,  4401030,    30283,     7327,      510,       81,\n",
       "             27,        3,       14,        4,        1,        3,\n",
       "              2,        7,        5,       16,        5,        3,\n",
       "              8,       10,       31,        5,        5,        2,\n",
       "              2,        5,        7,        3,        2,       81])"
      ]
     },
     "execution_count": 518,
     "metadata": {},
     "output_type": "execute_result"
    }
   ],
   "source": [
    "mass_cell[:30]"
   ]
  },
  {
   "cell_type": "code",
   "execution_count": 390,
   "metadata": {},
   "outputs": [
    {
     "data": {
      "text/plain": [
       "array([(111111100000000, 0, 7,  True, 0, 0),\n",
       "       (111111100000000, 0, 7,  True, 0, 0),\n",
       "       (111111100000000, 0, 7,  True, 0, 0), ...,\n",
       "       (888888800000000, 0, 7,  True, 0, 0),\n",
       "       (888888800000000, 0, 7,  True, 0, 0),\n",
       "       (888888800000000, 0, 7,  True, 0, 0)],\n",
       "      dtype=[('oct1', '<i8'), ('oct2', '<i8'), ('lvl', 'i1'), ('done', '?'), ('inccell', '<i8'), ('idmother', '<i8')])"
      ]
     },
     "execution_count": 390,
     "metadata": {},
     "output_type": "execute_result"
    }
   ],
   "source": [
    "octree"
   ]
  },
  {
   "cell_type": "code",
   "execution_count": 388,
   "metadata": {},
   "outputs": [
    {
     "data": {
      "text/plain": [
       "array([(111323000000000, 0, 6,  True, 0, 0),\n",
       "       (111324300000000, 0, 7,  True, 0, 0),\n",
       "       (111525780000000, 0, 8,  True, 0, 0), ...,\n",
       "       (241888000000000, 0, 6,  True, 0, 0),\n",
       "       (241888000000000, 0, 6,  True, 0, 0),\n",
       "       (241888000000000, 0, 6,  True, 0, 0)],\n",
       "      dtype=[('oct1', '<i8'), ('oct2', '<i8'), ('lvl', 'i1'), ('done', '?'), ('inccell', '<i8'), ('idmother', '<i8')])"
      ]
     },
     "execution_count": 388,
     "metadata": {},
     "output_type": "execute_result"
    }
   ],
   "source": [
    "octarr"
   ]
  },
  {
   "cell_type": "code",
   "execution_count": 360,
   "metadata": {},
   "outputs": [
    {
     "data": {
      "text/plain": [
       "int"
      ]
     },
     "execution_count": 360,
     "metadata": {},
     "output_type": "execute_result"
    }
   ],
   "source": [
    "int"
   ]
  },
  {
   "cell_type": "code",
   "execution_count": 346,
   "metadata": {},
   "outputs": [
    {
     "data": {
      "text/plain": [
       "array([14, 14, 14, ..., 14, 14, 14])"
      ]
     },
     "execution_count": 346,
     "metadata": {},
     "output_type": "execute_result"
    }
   ],
   "source": [
    "np.log10(octarr['oct1']).astype(int)"
   ]
  },
  {
   "cell_type": "code",
   "execution_count": 356,
   "metadata": {},
   "outputs": [
    {
     "data": {
      "text/plain": [
       "array([1., 1., 1., ..., 2., 2., 2.])"
      ]
     },
     "execution_count": 356,
     "metadata": {},
     "output_type": "execute_result"
    }
   ],
   "source": [
    "octarr['oct1'] // 1e14"
   ]
  },
  {
   "cell_type": "code",
   "execution_count": 358,
   "metadata": {},
   "outputs": [
    {
     "data": {
      "text/plain": [
       "1.11323"
      ]
     },
     "execution_count": 358,
     "metadata": {},
     "output_type": "execute_result"
    }
   ],
   "source": [
    "octarr[0]['oct1'] / 1e14"
   ]
  },
  {
   "cell_type": "code",
   "execution_count": 367,
   "metadata": {},
   "outputs": [],
   "source": [
    "kdtree['mass_cell'] = []"
   ]
  },
  {
   "cell_type": "code",
   "execution_count": 384,
   "metadata": {},
   "outputs": [
    {
     "name": "stdout",
     "output_type": "stream",
     "text": [
      "[11134418, [-1, -1, -1, -1, -1, -1, -1, -1]]\n",
      "[[4401030, [-1, -1, -1, -1, -1, -1, -1, -1]], [269003, [-1, -1, -1, -1, -1, -1, -1, -1]], [240826, [-1, -1, -1, -1, -1, -1, -1, -1]], [264320, [-1, -1, -1, -1, -1, -1, -1, -1]], [5175286, [-1, -1, -1, -1, -1, -1, -1, -1]], [242939, [-1, -1, -1, -1, -1, -1, -1, -1]], [260857, [-1, -1, -1, -1, -1, -1, -1, -1]], [280157, [-1, -1, -1, -1, -1, -1, -1, -1]]]\n"
     ]
    },
    {
     "ename": "IndexError",
     "evalue": "list assignment index out of range",
     "output_type": "error",
     "traceback": [
      "\u001b[0;31m---------------------------------------------------------------------------\u001b[0m",
      "\u001b[0;31mIndexError\u001b[0m                                Traceback (most recent call last)",
      "\u001b[1;32m/home/jeon/halomaker_python/test.ipynb Cell 25\u001b[0m line \u001b[0;36m<cell line: 6>\u001b[0;34m()\u001b[0m\n\u001b[1;32m     <a href='vscode-notebook-cell://ssh-remote%2B7b22686f73744e616d65223a22474336227d/home/jeon/halomaker_python/test.ipynb#Y360sdnNjb2RlLXJlbW90ZQ%3D%3D?line=9'>10</a>\u001b[0m \u001b[39mfor\u001b[39;00m i \u001b[39min\u001b[39;00m \u001b[39mrange\u001b[39m(\u001b[39m8\u001b[39m):\n\u001b[1;32m     <a href='vscode-notebook-cell://ssh-remote%2B7b22686f73744e616d65223a22474336227d/home/jeon/halomaker_python/test.ipynb#Y360sdnNjb2RlLXJlbW90ZQ%3D%3D?line=10'>11</a>\u001b[0m     tmp \u001b[39m=\u001b[39m octarr[\u001b[39m'\u001b[39m\u001b[39moct1\u001b[39m\u001b[39m'\u001b[39m] \u001b[39m/\u001b[39m\u001b[39m/\u001b[39m \u001b[39m1e14\u001b[39m\n\u001b[0;32m---> <a href='vscode-notebook-cell://ssh-remote%2B7b22686f73744e616d65223a22474336227d/home/jeon/halomaker_python/test.ipynb#Y360sdnNjb2RlLXJlbW90ZQ%3D%3D?line=11'>12</a>\u001b[0m     temparr[i] \u001b[39m=\u001b[39m [np\u001b[39m.\u001b[39msum(tmp \u001b[39m==\u001b[39m (i\u001b[39m+\u001b[39m\u001b[39m1\u001b[39m)), [\u001b[39m-\u001b[39m\u001b[39m1\u001b[39m]\u001b[39m*\u001b[39m\u001b[39m8\u001b[39m]\n",
      "\u001b[0;31mIndexError\u001b[0m: list assignment index out of range"
     ]
    }
   ],
   "source": [
    "kdtree['mass_cell'] = []\n",
    "kdtree['mass_cell'].append(octarr.shape[0])\n",
    "kdtree['mass_cell'].append([-1]*8)\n",
    "nlevelmax = np.max(octarr['lvl'])\n",
    "temparr = kdtree['mass_cell']\n",
    "for ilevel in range(1,nlevelmax+1):\n",
    "    if(ilevel>2): break\n",
    "    print(temparr)\n",
    "    temparr = temparr[1]\n",
    "    for i in range(8):\n",
    "        tmp = octarr['oct1'] // 1e14\n",
    "        temparr[i] = [np.sum(tmp == (i+1)), [-1]*8]"
   ]
  },
  {
   "cell_type": "code",
   "execution_count": 386,
   "metadata": {},
   "outputs": [],
   "source": [
    "ilevel = 1\n",
    "myoct = 1\n",
    "tmp = octarr['oct1'] // int( 10**(15-ilevel) )\n",
    "mychild = octarr['oct1'][tmp == myoct] - myoct*int( 10**(15-ilevel) )\n",
    "\n",
    "for j in range(1,8+1):\n",
    "    tmp = mychild // int( 10**(15-ilevel-1) )\n",
    "    jthchild = mychild[tmp == j] - j*int( 10**(15-ilevel-1) )"
   ]
  },
  {
   "cell_type": "code",
   "execution_count": 393,
   "metadata": {},
   "outputs": [
    {
     "data": {
      "text/plain": [
       "0.0"
      ]
     },
     "execution_count": 393,
     "metadata": {},
     "output_type": "execute_result"
    }
   ],
   "source": [
    "octree[-1]['oct1'] // 1e15"
   ]
  },
  {
   "cell_type": "code",
   "execution_count": 439,
   "metadata": {},
   "outputs": [
    {
     "data": {
      "text/plain": [
       "19"
      ]
     },
     "execution_count": 439,
     "metadata": {},
     "output_type": "execute_result"
    }
   ],
   "source": [
    "np.max(octree['lvl'])"
   ]
  },
  {
   "cell_type": "code",
   "execution_count": 453,
   "metadata": {},
   "outputs": [
    {
     "name": "stdout",
     "output_type": "stream",
     "text": [
      "100000\n",
      "200000\n",
      "300000\n",
      "400000\n",
      "500000\n",
      "600000\n",
      "700000\n",
      "800000\n",
      "900000\n",
      "1000000\n",
      "1100000\n",
      "1200000\n",
      "1300000\n",
      "1400000\n",
      "1500000\n",
      "1600000\n",
      "1700000\n",
      "1800000\n",
      "1900000\n",
      "2000000\n",
      "2100000\n",
      "2200000\n",
      "2300000\n"
     ]
    }
   ],
   "source": [
    "kdtree['mass_cell'] = [None] * 10000000\n",
    "\n",
    "inccell = 1\n",
    "class node:\n",
    "    def __init__(self, lvl, j,mine, idlists):\n",
    "        global inccell, kdtree\n",
    "        self.inccell = inccell; inccell += 1\n",
    "        if(inccell%100000 ==0): print(inccell)\n",
    "        # if(inccell > 30): raise ValueError(\"stop\")\n",
    "        self.lvl = lvl\n",
    "        self.j = j\n",
    "        self.mine = mine\n",
    "        self.ids = idlists\n",
    "        self.npart = len(self.mine)\n",
    "        # print(self.inccell, lvl, j, self.npart)\n",
    "        self.childs = [None]*8\n",
    "        self.mother = None\n",
    "        self.done = False\n",
    "        kdtree['mass_cell'][self.inccell-1] = self.npart\n",
    "        self.init_tree()\n",
    "    \n",
    "    def init_tree(self):\n",
    "        if(self.npart <= 20):\n",
    "            self.done = True\n",
    "            return\n",
    "        \n",
    "        global octree\n",
    "        mine = self.mine%(10**(15-self.lvl))\n",
    "        for j in range(8):\n",
    "            ind = mine//(10**(15-self.lvl-1)) == j+1\n",
    "            jmine = self.mine[ind]\n",
    "            jids = self.ids[ind]\n",
    "            child = node(self.lvl+1, j+1, jmine, jids)\n",
    "            child.mother = self\n",
    "            self.childs[j] = child\n",
    "\n",
    "root = node(0, 0, octree['oct1'], ids)"
   ]
  },
  {
   "cell_type": "code",
   "execution_count": 456,
   "metadata": {},
   "outputs": [
    {
     "data": {
      "text/plain": [
       "19"
      ]
     },
     "execution_count": 456,
     "metadata": {},
     "output_type": "execute_result"
    }
   ],
   "source": [
    "np.max(octree['lvl'])"
   ]
  },
  {
   "cell_type": "code",
   "execution_count": 455,
   "metadata": {},
   "outputs": [
    {
     "data": {
      "text/plain": [
       "1909031"
      ]
     },
     "execution_count": 455,
     "metadata": {},
     "output_type": "execute_result"
    }
   ],
   "source": [
    "len(np.unique(octree['oct1']))"
   ]
  },
  {
   "cell_type": "code",
   "execution_count": 454,
   "metadata": {},
   "outputs": [
    {
     "data": {
      "text/plain": [
       "[11134418,\n",
       " 4401030,\n",
       " 30283,\n",
       " 7327,\n",
       " 510,\n",
       " 81,\n",
       " 27,\n",
       " 3,\n",
       " 14,\n",
       " 0,\n",
       " 4,\n",
       " 1,\n",
       " 3,\n",
       " 0,\n",
       " 2,\n",
       " 7,\n",
       " 5,\n",
       " 16,\n",
       " 5,\n",
       " 3,\n",
       " 8,\n",
       " 10,\n",
       " 31,\n",
       " 5,\n",
       " 5,\n",
       " 2,\n",
       " 2,\n",
       " 5,\n",
       " 7,\n",
       " 3,\n",
       " 2,\n",
       " 81,\n",
       " 4,\n",
       " 22,\n",
       " 2,\n",
       " 3,\n",
       " 0,\n",
       " 4,\n",
       " 2,\n",
       " 3,\n",
       " 2,\n",
       " 6,\n",
       " 4,\n",
       " 12,\n",
       " 5,\n",
       " 20,\n",
       " 1,\n",
       " 13,\n",
       " 58,\n",
       " 6,\n",
       " 2,\n",
       " 29,\n",
       " 7,\n",
       " 0,\n",
       " 11,\n",
       " 4,\n",
       " 2,\n",
       " 0,\n",
       " 3,\n",
       " 2,\n",
       " 3,\n",
       " 6,\n",
       " 2,\n",
       " 5,\n",
       " 5,\n",
       " 37,\n",
       " 2,\n",
       " 8,\n",
       " 3,\n",
       " 6,\n",
       " 2,\n",
       " 7,\n",
       " 3,\n",
       " 6,\n",
       " 28,\n",
       " 3,\n",
       " 3,\n",
       " 7,\n",
       " 4,\n",
       " 3,\n",
       " 1,\n",
       " 5,\n",
       " 2,\n",
       " 62,\n",
       " 10,\n",
       " 4,\n",
       " 8,\n",
       " 21,\n",
       " 4,\n",
       " 2,\n",
       " 5,\n",
       " 1,\n",
       " 1,\n",
       " 2,\n",
       " 5,\n",
       " 1,\n",
       " 5,\n",
       " 2,\n",
       " 4,\n",
       " 8,\n",
       " 132,\n",
       " 13,\n",
       " 8,\n",
       " 7,\n",
       " 14,\n",
       " 12,\n",
       " 15,\n",
       " 13,\n",
       " 50,\n",
       " 2,\n",
       " 7,\n",
       " 7,\n",
       " 10,\n",
       " 2,\n",
       " 6,\n",
       " 15,\n",
       " 1,\n",
       " 724,\n",
       " 30,\n",
       " 6,\n",
       " 4,\n",
       " 3,\n",
       " 1,\n",
       " 9,\n",
       " 2,\n",
       " 3,\n",
       " 2,\n",
       " 46,\n",
       " 4,\n",
       " 4,\n",
       " 2,\n",
       " 13,\n",
       " 2,\n",
       " 8,\n",
       " 3,\n",
       " 10,\n",
       " 36,\n",
       " 1,\n",
       " 5,\n",
       " 4,\n",
       " 3,\n",
       " 3,\n",
       " 3,\n",
       " 7,\n",
       " 10,\n",
       " 71,\n",
       " 10,\n",
       " 6,\n",
       " 13,\n",
       " 2,\n",
       " 24,\n",
       " 0,\n",
       " 0,\n",
       " 4,\n",
       " 3,\n",
       " 0,\n",
       " 2,\n",
       " 7,\n",
       " 8,\n",
       " 8,\n",
       " 5,\n",
       " 3,\n",
       " 16,\n",
       " 254,\n",
       " 1,\n",
       " 3,\n",
       " 1,\n",
       " 22,\n",
       " 0,\n",
       " 0,\n",
       " 0,\n",
       " 0,\n",
       " 1,\n",
       " 7,\n",
       " 3,\n",
       " 11,\n",
       " 2,\n",
       " 15,\n",
       " 5,\n",
       " 205,\n",
       " 1,\n",
       " 40,\n",
       " 0,\n",
       " 2,\n",
       " 16,\n",
       " 2,\n",
       " 2,\n",
       " 0,\n",
       " 7,\n",
       " 11,\n",
       " 11,\n",
       " 120,\n",
       " 42,\n",
       " 3,\n",
       " 2,\n",
       " 0,\n",
       " 2,\n",
       " 2,\n",
       " 14,\n",
       " 8,\n",
       " 11,\n",
       " 31,\n",
       " 4,\n",
       " 2,\n",
       " 1,\n",
       " 2,\n",
       " 13,\n",
       " 2,\n",
       " 6,\n",
       " 1,\n",
       " 2,\n",
       " 3,\n",
       " 19,\n",
       " 15,\n",
       " 1,\n",
       " 7,\n",
       " 7,\n",
       " 20,\n",
       " 2,\n",
       " 4,\n",
       " 168,\n",
       " 15,\n",
       " 38,\n",
       " 1,\n",
       " 0,\n",
       " 3,\n",
       " 11,\n",
       " 2,\n",
       " 2,\n",
       " 3,\n",
       " 16,\n",
       " 47,\n",
       " 0,\n",
       " 2,\n",
       " 1,\n",
       " 1,\n",
       " 26,\n",
       " 1,\n",
       " 3,\n",
       " 1,\n",
       " 2,\n",
       " 6,\n",
       " 3,\n",
       " 6,\n",
       " 4,\n",
       " 13,\n",
       " 3,\n",
       " 1,\n",
       " 13,\n",
       " 13,\n",
       " 21,\n",
       " 0,\n",
       " 0,\n",
       " 10,\n",
       " 6,\n",
       " 1,\n",
       " 1,\n",
       " 2,\n",
       " 1,\n",
       " 11,\n",
       " 10,\n",
       " 103,\n",
       " 35,\n",
       " 1,\n",
       " 0,\n",
       " 8,\n",
       " 3,\n",
       " 4,\n",
       " 7,\n",
       " 11,\n",
       " 1,\n",
       " 11,\n",
       " 6,\n",
       " 9,\n",
       " 23,\n",
       " 4,\n",
       " 8,\n",
       " 6,\n",
       " 2,\n",
       " 2,\n",
       " 0,\n",
       " 0,\n",
       " 1,\n",
       " 11,\n",
       " 4,\n",
       " 4,\n",
       " 1306,\n",
       " 53,\n",
       " 4,\n",
       " 10,\n",
       " 4,\n",
       " 13,\n",
       " 2,\n",
       " 9,\n",
       " 3,\n",
       " 8,\n",
       " 188,\n",
       " 31,\n",
       " 6,\n",
       " 9,\n",
       " 0,\n",
       " 2,\n",
       " 2,\n",
       " 4,\n",
       " 1,\n",
       " 7,\n",
       " 8,\n",
       " 8,\n",
       " 44,\n",
       " 2,\n",
       " 1,\n",
       " 5,\n",
       " 11,\n",
       " 6,\n",
       " 0,\n",
       " 13,\n",
       " 6,\n",
       " 6,\n",
       " 9,\n",
       " 11,\n",
       " 71,\n",
       " 7,\n",
       " 1,\n",
       " 30,\n",
       " 3,\n",
       " 3,\n",
       " 3,\n",
       " 4,\n",
       " 4,\n",
       " 2,\n",
       " 7,\n",
       " 4,\n",
       " 0,\n",
       " 1,\n",
       " 3,\n",
       " 29,\n",
       " 3,\n",
       " 1,\n",
       " 3,\n",
       " 4,\n",
       " 7,\n",
       " 2,\n",
       " 4,\n",
       " 5,\n",
       " 0,\n",
       " 110,\n",
       " 4,\n",
       " 10,\n",
       " 3,\n",
       " 12,\n",
       " 1,\n",
       " 28,\n",
       " 0,\n",
       " 2,\n",
       " 0,\n",
       " 12,\n",
       " 1,\n",
       " 0,\n",
       " 1,\n",
       " 12,\n",
       " 2,\n",
       " 50,\n",
       " 1,\n",
       " 15,\n",
       " 4,\n",
       " 6,\n",
       " 0,\n",
       " 15,\n",
       " 4,\n",
       " 5,\n",
       " 104,\n",
       " 10,\n",
       " 15,\n",
       " 8,\n",
       " 3,\n",
       " 47,\n",
       " 3,\n",
       " 6,\n",
       " 12,\n",
       " 1,\n",
       " 2,\n",
       " 10,\n",
       " 11,\n",
       " 2,\n",
       " 5,\n",
       " 12,\n",
       " 4,\n",
       " 78,\n",
       " 4,\n",
       " 9,\n",
       " 7,\n",
       " 11,\n",
       " 3,\n",
       " 24,\n",
       " 3,\n",
       " 1,\n",
       " 7,\n",
       " 1,\n",
       " 4,\n",
       " 2,\n",
       " 5,\n",
       " 1,\n",
       " 4,\n",
       " 16,\n",
       " 622,\n",
       " 2,\n",
       " 20,\n",
       " 112,\n",
       " 0,\n",
       " 52,\n",
       " 0,\n",
       " 10,\n",
       " 1,\n",
       " 12,\n",
       " 1,\n",
       " 9,\n",
       " 7,\n",
       " 12,\n",
       " 0,\n",
       " 19,\n",
       " 0,\n",
       " 15,\n",
       " 0,\n",
       " 26,\n",
       " 1,\n",
       " 21,\n",
       " 2,\n",
       " 4,\n",
       " 6,\n",
       " 3,\n",
       " 2,\n",
       " 2,\n",
       " 1,\n",
       " 1,\n",
       " 1,\n",
       " 1,\n",
       " 0,\n",
       " 2,\n",
       " 0,\n",
       " 0,\n",
       " 385,\n",
       " 167,\n",
       " 7,\n",
       " 9,\n",
       " 33,\n",
       " 1,\n",
       " 2,\n",
       " 2,\n",
       " 0,\n",
       " 3,\n",
       " 3,\n",
       " 13,\n",
       " 9,\n",
       " 10,\n",
       " 6,\n",
       " 11,\n",
       " 66,\n",
       " 5,\n",
       " 4,\n",
       " 15,\n",
       " 12,\n",
       " 1,\n",
       " 14,\n",
       " 5,\n",
       " 10,\n",
       " 25,\n",
       " 2,\n",
       " 1,\n",
       " 1,\n",
       " 4,\n",
       " 9,\n",
       " 1,\n",
       " 6,\n",
       " 1,\n",
       " 19,\n",
       " 92,\n",
       " 19,\n",
       " 7,\n",
       " 3,\n",
       " 5,\n",
       " 46,\n",
       " 14,\n",
       " 14,\n",
       " 0,\n",
       " 1,\n",
       " 9,\n",
       " 3,\n",
       " 1,\n",
       " 4,\n",
       " 10,\n",
       " 2,\n",
       " 0,\n",
       " 6,\n",
       " 74,\n",
       " 2,\n",
       " 8,\n",
       " 33,\n",
       " 3,\n",
       " 11,\n",
       " 8,\n",
       " 6,\n",
       " 0,\n",
       " 1,\n",
       " 2,\n",
       " 2,\n",
       " 16,\n",
       " 5,\n",
       " 3,\n",
       " 5,\n",
       " 2,\n",
       " 6,\n",
       " 20,\n",
       " 1,\n",
       " 15,\n",
       " 53,\n",
       " 14,\n",
       " 1,\n",
       " 17,\n",
       " 3,\n",
       " 14,\n",
       " 0,\n",
       " 4,\n",
       " 0,\n",
       " 16,\n",
       " 19,\n",
       " 59,\n",
       " 2,\n",
       " 17,\n",
       " 1,\n",
       " 15,\n",
       " 1,\n",
       " 13,\n",
       " 5,\n",
       " 5,\n",
       " 92,\n",
       " 22,\n",
       " 2,\n",
       " 6,\n",
       " 3,\n",
       " 2,\n",
       " 0,\n",
       " 3,\n",
       " 1,\n",
       " 5,\n",
       " 2,\n",
       " 11,\n",
       " 3,\n",
       " 8,\n",
       " 11,\n",
       " 28,\n",
       " 0,\n",
       " 12,\n",
       " 7,\n",
       " 5,\n",
       " 0,\n",
       " 0,\n",
       " 2,\n",
       " 2,\n",
       " 7,\n",
       " 350,\n",
       " 58,\n",
       " 3,\n",
       " 8,\n",
       " 4,\n",
       " 7,\n",
       " 3,\n",
       " 4,\n",
       " 10,\n",
       " 19,\n",
       " 56,\n",
       " 10,\n",
       " 4,\n",
       " 9,\n",
       " 1,\n",
       " 2,\n",
       " 3,\n",
       " 15,\n",
       " 12,\n",
       " 31,\n",
       " 3,\n",
       " 2,\n",
       " 7,\n",
       " 2,\n",
       " 6,\n",
       " 4,\n",
       " 5,\n",
       " 2,\n",
       " 58,\n",
       " 6,\n",
       " 8,\n",
       " 2,\n",
       " 3,\n",
       " 6,\n",
       " 30,\n",
       " 6,\n",
       " 12,\n",
       " 0,\n",
       " 4,\n",
       " 5,\n",
       " 1,\n",
       " 0,\n",
       " 2,\n",
       " 2,\n",
       " 1,\n",
       " 41,\n",
       " 3,\n",
       " 1,\n",
       " 8,\n",
       " 6,\n",
       " 2,\n",
       " 4,\n",
       " 9,\n",
       " 8,\n",
       " 52,\n",
       " 6,\n",
       " 6,\n",
       " 26,\n",
       " 1,\n",
       " 3,\n",
       " 4,\n",
       " 6,\n",
       " 1,\n",
       " 0,\n",
       " 8,\n",
       " 3,\n",
       " 5,\n",
       " 1,\n",
       " 2,\n",
       " 5,\n",
       " 1,\n",
       " 24,\n",
       " 1,\n",
       " 5,\n",
       " 1,\n",
       " 2,\n",
       " 4,\n",
       " 3,\n",
       " 4,\n",
       " 4,\n",
       " 30,\n",
       " 3,\n",
       " 4,\n",
       " 2,\n",
       " 4,\n",
       " 5,\n",
       " 5,\n",
       " 3,\n",
       " 4,\n",
       " 1697,\n",
       " 216,\n",
       " 2,\n",
       " 7,\n",
       " 4,\n",
       " 1,\n",
       " 6,\n",
       " 157,\n",
       " 2,\n",
       " 19,\n",
       " 0,\n",
       " 22,\n",
       " 1,\n",
       " 1,\n",
       " 0,\n",
       " 1,\n",
       " 0,\n",
       " 11,\n",
       " 0,\n",
       " 8,\n",
       " 24,\n",
       " 5,\n",
       " 4,\n",
       " 1,\n",
       " 6,\n",
       " 2,\n",
       " 2,\n",
       " 3,\n",
       " 1,\n",
       " 20,\n",
       " 3,\n",
       " 67,\n",
       " 2,\n",
       " 10,\n",
       " 1,\n",
       " 37,\n",
       " 1,\n",
       " 5,\n",
       " 2,\n",
       " 11,\n",
       " 5,\n",
       " 2,\n",
       " 4,\n",
       " 7,\n",
       " 3,\n",
       " 3,\n",
       " 4,\n",
       " 7,\n",
       " 9,\n",
       " 30,\n",
       " 0,\n",
       " 3,\n",
       " 0,\n",
       " 0,\n",
       " 6,\n",
       " 15,\n",
       " 3,\n",
       " 3,\n",
       " 412,\n",
       " 0,\n",
       " 3,\n",
       " 11,\n",
       " 5,\n",
       " 240,\n",
       " 35,\n",
       " 0,\n",
       " 0,\n",
       " 1,\n",
       " 1,\n",
       " 11,\n",
       " 3,\n",
       " 19,\n",
       " 0,\n",
       " 0,\n",
       " 36,\n",
       " 2,\n",
       " 0,\n",
       " 1,\n",
       " 0,\n",
       " 16,\n",
       " 0,\n",
       " 16,\n",
       " 1,\n",
       " 3,\n",
       " 38,\n",
       " 13,\n",
       " 7,\n",
       " 13,\n",
       " 1,\n",
       " 3,\n",
       " 0,\n",
       " 1,\n",
       " 0,\n",
       " 1,\n",
       " 123,\n",
       " 15,\n",
       " 4,\n",
       " 50,\n",
       " 9,\n",
       " 5,\n",
       " 6,\n",
       " 2,\n",
       " 7,\n",
       " 7,\n",
       " 5,\n",
       " 9,\n",
       " 18,\n",
       " 10,\n",
       " 4,\n",
       " 21,\n",
       " 3,\n",
       " 6,\n",
       " 4,\n",
       " 1,\n",
       " 2,\n",
       " 4,\n",
       " 1,\n",
       " 0,\n",
       " 1,\n",
       " 4,\n",
       " 9,\n",
       " 128,\n",
       " 15,\n",
       " 6,\n",
       " 14,\n",
       " 10,\n",
       " 33,\n",
       " 13,\n",
       " 5,\n",
       " 1,\n",
       " 5,\n",
       " 1,\n",
       " 2,\n",
       " 1,\n",
       " 5,\n",
       " 2,\n",
       " 26,\n",
       " 0,\n",
       " 9,\n",
       " 0,\n",
       " 5,\n",
       " 1,\n",
       " 5,\n",
       " 0,\n",
       " 6,\n",
       " 22,\n",
       " 3,\n",
       " 2,\n",
       " 5,\n",
       " 3,\n",
       " 1,\n",
       " 0,\n",
       " 7,\n",
       " 1,\n",
       " 16,\n",
       " 43,\n",
       " 4,\n",
       " 1,\n",
       " 6,\n",
       " 6,\n",
       " 6,\n",
       " 8,\n",
       " 10,\n",
       " 2,\n",
       " 543,\n",
       " 11,\n",
       " 15,\n",
       " 13,\n",
       " 22,\n",
       " 2,\n",
       " 4,\n",
       " 7,\n",
       " 0,\n",
       " 6,\n",
       " 1,\n",
       " 2,\n",
       " 0,\n",
       " 139,\n",
       " 12,\n",
       " 13,\n",
       " 0,\n",
       " 4,\n",
       " 41,\n",
       " 1,\n",
       " 8,\n",
       " 1,\n",
       " 12,\n",
       " 0,\n",
       " 12,\n",
       " 1,\n",
       " 6,\n",
       " 33,\n",
       " 6,\n",
       " 8,\n",
       " 1,\n",
       " 2,\n",
       " 7,\n",
       " 0,\n",
       " 8,\n",
       " 1,\n",
       " 15,\n",
       " 21,\n",
       " 1,\n",
       " 7,\n",
       " 1,\n",
       " 9,\n",
       " 1,\n",
       " 2,\n",
       " 0,\n",
       " 0,\n",
       " 273,\n",
       " 27,\n",
       " 4,\n",
       " 0,\n",
       " 0,\n",
       " 2,\n",
       " 5,\n",
       " 0,\n",
       " 1,\n",
       " 15,\n",
       " 35,\n",
       " 0,\n",
       " 0,\n",
       " 2,\n",
       " 2,\n",
       " 2,\n",
       " 1,\n",
       " 23,\n",
       " 0,\n",
       " 2,\n",
       " 2,\n",
       " 2,\n",
       " 3,\n",
       " 0,\n",
       " 10,\n",
       " 4,\n",
       " 5,\n",
       " 14,\n",
       " 55,\n",
       " 11,\n",
       " 1,\n",
       " 0,\n",
       " 0,\n",
       " 34,\n",
       " 3,\n",
       " 3,\n",
       " 2,\n",
       " 6,\n",
       " 4,\n",
       " 7,\n",
       " 3,\n",
       " 6,\n",
       " 8,\n",
       " 1,\n",
       " 0,\n",
       " 16,\n",
       " 40,\n",
       " 1,\n",
       " 2,\n",
       " 28,\n",
       " 3,\n",
       " 1,\n",
       " 5,\n",
       " 4,\n",
       " 2,\n",
       " 2,\n",
       " 6,\n",
       " 5,\n",
       " 8,\n",
       " 0,\n",
       " 0,\n",
       " 0,\n",
       " 1,\n",
       " 31,\n",
       " 3,\n",
       " 12,\n",
       " 12,\n",
       " 3,\n",
       " 0,\n",
       " 1,\n",
       " 0,\n",
       " 0,\n",
       " 55,\n",
       " 32,\n",
       " 5,\n",
       " 9,\n",
       " 0,\n",
       " 5,\n",
       " 4,\n",
       " 6,\n",
       " 0,\n",
       " 3,\n",
       " 18,\n",
       " 1,\n",
       " 0,\n",
       " 3,\n",
       " 1,\n",
       " 0,\n",
       " 0,\n",
       " 48,\n",
       " 0,\n",
       " 4,\n",
       " 0,\n",
       " 2,\n",
       " 3,\n",
       " 25,\n",
       " 1,\n",
       " 10,\n",
       " 1,\n",
       " 6,\n",
       " 1,\n",
       " 3,\n",
       " 2,\n",
       " 1,\n",
       " 2,\n",
       " 12,\n",
       " 22,\n",
       " 5,\n",
       " 0,\n",
       " 0,\n",
       " 0,\n",
       " 8,\n",
       " 2,\n",
       " 5,\n",
       " 2,\n",
       " 117,\n",
       " 15,\n",
       " 16,\n",
       " 9,\n",
       " 45,\n",
       " 6,\n",
       " 4,\n",
       " 20,\n",
       " 8,\n",
       " 1,\n",
       " 0,\n",
       " 5,\n",
       " 1,\n",
       " 11,\n",
       " 7,\n",
       " 7,\n",
       " 7,\n",
       " 15,\n",
       " 286,\n",
       " 19,\n",
       " 125,\n",
       " 14,\n",
       " 8,\n",
       " 8,\n",
       " 21,\n",
       " 1,\n",
       " 2,\n",
       " ...]"
      ]
     },
     "execution_count": 454,
     "metadata": {},
     "output_type": "execute_result"
    }
   ],
   "source": [
    "kdtree['mass_cell']"
   ]
  },
  {
   "cell_type": "code",
   "execution_count": 451,
   "metadata": {},
   "outputs": [
    {
     "data": {
      "text/plain": [
       "[None,\n",
       " <__main__.node at 0x7fb6d3c724a0>,\n",
       " <__main__.node at 0x7fb6db0e7430>,\n",
       " <__main__.node at 0x7fb6d3c71000>,\n",
       " <__main__.node at 0x7fb6d3c72260>,\n",
       " <__main__.node at 0x7fb6d3c72890>,\n",
       " <__main__.node at 0x7fb6d3c71810>,\n",
       " <__main__.node at 0x7fb6d3c739d0>,\n",
       " <__main__.node at 0x7fb6d3c71030>,\n",
       " <__main__.node at 0x7fb6d3c71f30>,\n",
       " <__main__.node at 0x7fb6d3c71720>,\n",
       " <__main__.node at 0x7fb6d3c72b90>,\n",
       " <__main__.node at 0x7fb6d3c713f0>,\n",
       " <__main__.node at 0x7fb6d3c715d0>,\n",
       " <__main__.node at 0x7fb6d3c700a0>,\n",
       " <__main__.node at 0x7fb6d3c736d0>,\n",
       " <__main__.node at 0x7fb6d3c73790>,\n",
       " <__main__.node at 0x7fb6d3c72500>,\n",
       " <__main__.node at 0x7fb6d3c70fa0>,\n",
       " <__main__.node at 0x7fb6d3c71330>,\n",
       " <__main__.node at 0x7fb6d3c70fd0>,\n",
       " <__main__.node at 0x7fb6d3c73fd0>,\n",
       " <__main__.node at 0x7fb6d3c71540>,\n",
       " <__main__.node at 0x7fb6d3c729b0>,\n",
       " <__main__.node at 0x7fb6d3c72200>,\n",
       " <__main__.node at 0x7fb6d3c72470>,\n",
       " <__main__.node at 0x7fb6d3c72290>,\n",
       " <__main__.node at 0x7fb6d3c721a0>,\n",
       " <__main__.node at 0x7fb6d3c72230>,\n",
       " <__main__.node at 0x7fb6d3c72140>]"
      ]
     },
     "execution_count": 451,
     "metadata": {},
     "output_type": "execute_result"
    }
   ],
   "source": [
    "kdtree['mass_cell'][:30][0]"
   ]
  },
  {
   "cell_type": "code",
   "execution_count": 435,
   "metadata": {},
   "outputs": [
    {
     "ename": "AttributeError",
     "evalue": "'node' object has no attribute 'childs'",
     "output_type": "error",
     "traceback": [
      "\u001b[0;31m---------------------------------------------------------------------------\u001b[0m",
      "\u001b[0;31mAttributeError\u001b[0m                            Traceback (most recent call last)",
      "\u001b[1;32m/home/jeon/halomaker_python/test.ipynb Cell 32\u001b[0m line \u001b[0;36m<cell line: 1>\u001b[0;34m()\u001b[0m\n\u001b[0;32m----> <a href='vscode-notebook-cell://ssh-remote%2B7b22686f73744e616d65223a22474336227d/home/jeon/halomaker_python/test.ipynb#Y421sdnNjb2RlLXJlbW90ZQ%3D%3D?line=0'>1</a>\u001b[0m root\u001b[39m.\u001b[39;49mchilds\n",
      "\u001b[0;31mAttributeError\u001b[0m: 'node' object has no attribute 'childs'"
     ]
    }
   ],
   "source": [
    "root.childs"
   ]
  },
  {
   "cell_type": "code",
   "execution_count": 416,
   "metadata": {},
   "outputs": [],
   "source": [
    "def tmpf(given, ilevel, ioct):\n",
    "    mine = given%int( 10**(15-ilevel) )\n",
    "    temp = mine//int(10**(15-ilevel-1))\n",
    "    ncell = np.sum(temp == ioct)\n",
    "    return ncell"
   ]
  },
  {
   "cell_type": "code",
   "execution_count": 411,
   "metadata": {},
   "outputs": [
    {
     "data": {
      "text/plain": [
       "array([111111100000000, 111111100000000, 111111100000000, ...,\n",
       "       888888800000000, 888888800000000, 888888800000000])"
      ]
     },
     "execution_count": 411,
     "metadata": {},
     "output_type": "execute_result"
    }
   ],
   "source": [
    "octree['oct1']"
   ]
  },
  {
   "cell_type": "code",
   "execution_count": 417,
   "metadata": {},
   "outputs": [
    {
     "data": {
      "text/plain": [
       "11134418"
      ]
     },
     "execution_count": 417,
     "metadata": {},
     "output_type": "execute_result"
    }
   ],
   "source": [
    "np.sum([tmpf(octree['oct1'], 0, i+1) for i in range(8)])"
   ]
  },
  {
   "cell_type": "code",
   "execution_count": null,
   "metadata": {},
   "outputs": [],
   "source": []
  },
  {
   "cell_type": "code",
   "execution_count": 418,
   "metadata": {},
   "outputs": [],
   "source": [
    "inccell=0\n",
    "def find_pos_lvl(ilevel,start,end, tmp=None):\n",
    "    global kdtree, octree, inccell\n",
    "    octids = octree['oct1']\n",
    "\n",
    "    if(ilevel==0):\n",
    "        kdtree['mass_cell'] = [0,0]\n",
    "        ncell = np.sum([tmpf(octids, ilevel, i+1) for i in range(8)])\n",
    "        kdtree['mass_cell'][0] = ncell\n",
    "        kdtree['mass_cell'][1] = [[tmpf(octids, ilevel+1, i+1) for i in range(8)]]\n",
    "    else:\n",
    "        ncell = np.sum([tmpf(octids, ilevel, i+1) for i in range(8)])\n",
    "        kdtree['mass_cell'][1].append([tmpf(octids, ilevel+1, i+1) for i in range(8)])"
   ]
  },
  {
   "cell_type": "code",
   "execution_count": 419,
   "metadata": {},
   "outputs": [],
   "source": [
    "find_pos_lvl(0,0,0)"
   ]
  },
  {
   "cell_type": "code",
   "execution_count": 420,
   "metadata": {},
   "outputs": [
    {
     "data": {
      "text/plain": [
       "[11134418,\n",
       " [[240820, 247032, 4312975, 1092899, 259236, 269884, 4314428, 397144]]]"
      ]
     },
     "execution_count": 420,
     "metadata": {},
     "output_type": "execute_result"
    }
   ],
   "source": [
    "kdtree['mass_cell']"
   ]
  },
  {
   "cell_type": "code",
   "execution_count": 387,
   "metadata": {},
   "outputs": [],
   "source": [
    "def searchlvl(givens, mylvl, myoct):\n",
    "    global kdtree\n",
    "    tmp = givens['oct1'] // int( 10**(15-mylvl) )\n",
    "    ind = tmp == myoct\n",
    "    mychild = givens['oct1'][ind] - myoct*int( 10**(15-mylvl) )\n",
    "    for j in range(8):\n",
    "        nchild, chchild = searchlvl(mychild, mylvl+1, j+1)\n",
    "    return np.sum(ind), mychild"
   ]
  },
  {
   "cell_type": "code",
   "execution_count": null,
   "metadata": {},
   "outputs": [],
   "source": [
    "def searchlvl(octarr, lvl):\n",
    "    for i in range(8):\n",
    "        tmp = octarr['oct1'] // 10**(15-lvl)\n"
   ]
  },
  {
   "cell_type": "code",
   "execution_count": 383,
   "metadata": {},
   "outputs": [
    {
     "data": {
      "text/plain": [
       "[11134418,\n",
       " [[4401030, [-1, -1, -1, -1, -1, -1, -1, -1]],\n",
       "  [[4401030, [-1, -1, -1, -1, -1, -1, -1, -1]],\n",
       "   [269003, [-1, -1, -1, -1, -1, -1, -1, -1]]],\n",
       "  [240826, [-1, -1, -1, -1, -1, -1, -1, -1]],\n",
       "  [264320, [-1, -1, -1, -1, -1, -1, -1, -1]],\n",
       "  [5175286, [-1, -1, -1, -1, -1, -1, -1, -1]],\n",
       "  [242939, [-1, -1, -1, -1, -1, -1, -1, -1]],\n",
       "  [260857, [-1, -1, -1, -1, -1, -1, -1, -1]],\n",
       "  [280157, [-1, -1, -1, -1, -1, -1, -1, -1]]]]"
      ]
     },
     "execution_count": 383,
     "metadata": {},
     "output_type": "execute_result"
    }
   ],
   "source": [
    "kdtree['mass_cell']"
   ]
  },
  {
   "cell_type": "code",
   "execution_count": null,
   "metadata": {},
   "outputs": [],
   "source": []
  },
  {
   "cell_type": "code",
   "execution_count": null,
   "metadata": {},
   "outputs": [],
   "source": []
  },
  {
   "cell_type": "code",
   "execution_count": 329,
   "metadata": {},
   "outputs": [
    {
     "data": {
      "text/plain": [
       "array([(111111120000000, 0, 8,  True), (111111150000000, 0, 8,  True),\n",
       "       (111111160000000, 0, 8,  True), ...,\n",
       "       (888888820000000, 0, 8,  True), (888888840000000, 0, 8,  True),\n",
       "       (888888860000000, 0, 8,  True)],\n",
       "      dtype=[('oct1', '<i8'), ('oct2', '<i8'), ('lvl', 'i1'), ('done', '?')])"
      ]
     },
     "execution_count": 329,
     "metadata": {},
     "output_type": "execute_result"
    }
   ],
   "source": []
  },
  {
   "cell_type": "code",
   "execution_count": 327,
   "metadata": {},
   "outputs": [
    {
     "data": {
      "text/plain": [
       "array([111111120000000, 111111150000000, 111111160000000, ...,\n",
       "       888888820000000, 888888840000000, 888888860000000])"
      ]
     },
     "execution_count": 327,
     "metadata": {},
     "output_type": "execute_result"
    }
   ],
   "source": [
    "np.sort(octarr['oct1'])"
   ]
  },
  {
   "cell_type": "code",
   "execution_count": 318,
   "metadata": {},
   "outputs": [
    {
     "data": {
      "text/plain": [
       "array([(176838341453448,  430646668853801415, 36, False),\n",
       "       (176838341453448,  430646668853801415, 36, False),\n",
       "       (176838347612343, 1291940006561404245, 36, False), ...,\n",
       "       (532483265443735, 1291940006561404245, 36, False),\n",
       "       (532436825368454, 1722586675415205660, 36, False),\n",
       "       (532436825368454, 1722586675415205660, 36, False)],\n",
       "      dtype=[('oct1', '<i8'), ('oct2', '<i8'), ('lvl', 'i1'), ('done', '?')])"
      ]
     },
     "execution_count": 318,
     "metadata": {},
     "output_type": "execute_result"
    }
   ],
   "source": [
    "octarr[~octarr['done']]"
   ]
  },
  {
   "cell_type": "code",
   "execution_count": 320,
   "metadata": {},
   "outputs": [
    {
     "data": {
      "text/plain": [
       "array([[-0.29177214, -0.12747123, -0.04635403],\n",
       "       [-0.29177213, -0.12746964, -0.04635318],\n",
       "       [-0.29168515, -0.12671173, -0.04394135],\n",
       "       ...,\n",
       "       [-0.26806529, -0.13870868,  0.03726277],\n",
       "       [-0.28424719, -0.14704044,  0.02618831],\n",
       "       [-0.28424521, -0.14703797,  0.02618508]])"
      ]
     },
     "execution_count": 320,
     "metadata": {},
     "output_type": "execute_result"
    }
   ],
   "source": [
    "pos[~octarr['done']]"
   ]
  },
  {
   "cell_type": "code",
   "execution_count": 321,
   "metadata": {},
   "outputs": [
    {
     "data": {
      "text/plain": [
       "array([[-0.29177094, -0.12746429, -0.04634857],\n",
       "       [-0.29177094, -0.12746429, -0.04634857],\n",
       "       [-0.29167938, -0.12671661, -0.04393768],\n",
       "       ...,\n",
       "       [-0.26805878, -0.13871002,  0.03726959],\n",
       "       [-0.28424835, -0.14704132,  0.02619171],\n",
       "       [-0.28424835, -0.14704132,  0.02619171]], dtype=float128)"
      ]
     },
     "execution_count": 321,
     "metadata": {},
     "output_type": "execute_result"
    }
   ],
   "source": [
    "cpos[~octarr['done']]"
   ]
  },
  {
   "cell_type": "code",
   "execution_count": null,
   "metadata": {},
   "outputs": [],
   "source": [
    "# [lvl=0] 1 -> 8\n",
    "# 11134418\n",
    "# [lvl=1] 8 -> 64\n",
    "# 11134418\n",
    "# [lvl=2] 64 -> 512\n",
    "# 11134418\n",
    "# [lvl=3] 512 -> 4096\n",
    "# 11134418\n",
    "# [lvl=4] 4096 -> 32768\n",
    "# 11134418\n",
    "# [lvl=5] 32768 -> 255707\n",
    "# 11097695\n",
    "# [lvl=6] 255707 -> 928252\n",
    "# 10505614\n",
    "# [lvl=7] 928252 -> 1480365\n",
    "# 9898697"
   ]
  },
  {
   "cell_type": "code",
   "execution_count": 286,
   "metadata": {},
   "outputs": [
    {
     "data": {
      "text/plain": [
       "array([ True, False, False, ..., False, False, False])"
      ]
     },
     "execution_count": 286,
     "metadata": {},
     "output_type": "execute_result"
    }
   ],
   "source": [
    "octarr[['oct1', 'oct2']][0] == octarr[['oct1', 'oct2']]"
   ]
  },
  {
   "cell_type": "code",
   "execution_count": 224,
   "metadata": {},
   "outputs": [
    {
     "data": {
      "text/plain": [
       "array([(111111111, 0, 9, False), (111111111, 0, 9, False),\n",
       "       (111111111, 0, 9, False), ..., (222222222, 0, 9, False),\n",
       "       (222222222, 0, 9, False), (222222222, 0, 9, False)],\n",
       "      dtype=[('oct1', '<i8'), ('oct2', '<i8'), ('lvl', 'i1'), ('done', '?')])"
      ]
     },
     "execution_count": 224,
     "metadata": {},
     "output_type": "execute_result"
    }
   ],
   "source": [
    "octarr"
   ]
  },
  {
   "cell_type": "code",
   "execution_count": 181,
   "metadata": {},
   "outputs": [
    {
     "data": {
      "text/plain": [
       "dtype('<U30')"
      ]
     },
     "execution_count": 181,
     "metadata": {},
     "output_type": "execute_result"
    }
   ],
   "source": [
    "octarr.dtype"
   ]
  },
  {
   "cell_type": "code",
   "execution_count": 199,
   "metadata": {},
   "outputs": [
    {
     "data": {
      "text/plain": [
       "'12345.000000000000000000000000000000'"
      ]
     },
     "execution_count": 199,
     "metadata": {},
     "output_type": "execute_result"
    }
   ],
   "source": [
    "f\"{np.float128(12345):.30f}\""
   ]
  },
  {
   "cell_type": "code",
   "execution_count": 204,
   "metadata": {},
   "outputs": [
    {
     "data": {
      "text/plain": [
       "'               999999999999999'"
      ]
     },
     "execution_count": 204,
     "metadata": {},
     "output_type": "execute_result"
    }
   ],
   "source": [
    "f\"{np.int64(999999999999999):30d}\""
   ]
  },
  {
   "cell_type": "code",
   "execution_count": 169,
   "metadata": {},
   "outputs": [
    {
     "data": {
      "text/plain": [
       "2e+20"
      ]
     },
     "execution_count": 169,
     "metadata": {},
     "output_type": "execute_result"
    }
   ],
   "source": [
    "np.float64(100000000000000000000)+np.float64(100000000000000000000)"
   ]
  },
  {
   "cell_type": "code",
   "execution_count": 166,
   "metadata": {},
   "outputs": [
    {
     "name": "stdout",
     "output_type": "stream",
     "text": [
      "[lvl=0] 1 -> 8\n",
      "11134418\n",
      "[lvl=1] 8 -> 64\n",
      "11134418\n",
      "[lvl=2] 64 -> 512\n",
      "11134418\n",
      "[lvl=3] 512 -> 4096\n",
      "11134418\n",
      "[lvl=4] 4096 -> 32768\n",
      "11134418\n",
      "[lvl=5] 32768 -> 255707\n",
      "11097695\n",
      "[lvl=6] 255707 -> 928252\n",
      "10505614\n",
      "[lvl=7] 928252 -> 1480365\n",
      "9898697\n",
      "[lvl=8] 1480365 -> 1931400\n",
      "9424695\n",
      "[lvl=9] 1931400 -> 2450569\n",
      "8995940\n",
      "[lvl=10] 2450569 -> 3385686\n",
      "8392502\n",
      "[lvl=11] 3385686 -> 5151826\n",
      "7053424\n",
      "[lvl=12] 5151826 -> 7528892\n",
      "4776334\n",
      "[lvl=13] 7528892 -> 9624522\n",
      "2299613\n",
      "[lvl=14] 9624522 -> 10695417\n",
      "721405\n",
      "[lvl=15] 10695417 -> 11021954\n",
      "187342\n",
      "[lvl=16] 11021954 -> 11105725\n",
      "47397\n",
      "[lvl=17] 11105725 -> 11126581\n",
      "12778\n",
      "[lvl=18] 11126581 -> 11128713\n",
      "8833\n",
      "[lvl=19] 11128713 -> 11128713\n",
      "8833\n",
      "[lvl=20] 11128713 -> 11128713\n",
      "8833\n",
      "[lvl=21] 11128713 -> 11127237\n",
      "8833\n",
      "[lvl=22] 11127237 -> 11127237\n",
      "8833\n",
      "[lvl=23] 11127237 -> 11127237\n",
      "8833\n",
      "[lvl=24] 11127237 -> 11126156\n",
      "8833\n",
      "[lvl=25] 11126156 -> 11126156\n",
      "8833\n",
      "[lvl=26] 11126156 -> 11126156\n",
      "8833\n",
      "[lvl=27] 11126156 -> 11125216\n",
      "8833\n",
      "[lvl=28] 11125216 -> 11125216\n",
      "8833\n",
      "[lvl=29] 11125216 -> 11125216\n",
      "8833\n",
      "[lvl=30] 11125216 -> 11124382\n",
      "8833\n",
      "[lvl=31] 11124382 -> 11124382\n",
      "8833\n",
      "[lvl=32] 11124382 -> 11124382\n",
      "8833\n",
      "[lvl=33] 11124382 -> 11123668\n",
      "8833\n"
     ]
    },
    {
     "ename": "KeyboardInterrupt",
     "evalue": "",
     "output_type": "error",
     "traceback": [
      "\u001b[0;31m---------------------------------------------------------------------------\u001b[0m",
      "\u001b[0;31mKeyboardInterrupt\u001b[0m                         Traceback (most recent call last)",
      "\u001b[1;32m/home/jeon/halomaker_python/test.ipynb Cell 14\u001b[0m line \u001b[0;36m<cell line: 1>\u001b[0;34m()\u001b[0m\n\u001b[0;32m----> <a href='vscode-notebook-cell://ssh-remote%2B7b22686f73744e616d65223a22474336227d/home/jeon/halomaker_python/test.ipynb#Y260sdnNjb2RlLXJlbW90ZQ%3D%3D?line=0'>1</a>\u001b[0m octarr \u001b[39m=\u001b[39m refine(pos, octarr, cpos)\n",
      "\u001b[1;32m/home/jeon/halomaker_python/test.ipynb Cell 14\u001b[0m line \u001b[0;36mrefine\u001b[0;34m(pos, octarr, cpos)\u001b[0m\n\u001b[1;32m     <a href='vscode-notebook-cell://ssh-remote%2B7b22686f73744e616d65223a22474336227d/home/jeon/halomaker_python/test.ipynb#Y260sdnNjb2RlLXJlbW90ZQ%3D%3D?line=9'>10</a>\u001b[0m octarr[\u001b[39m~\u001b[39myet] \u001b[39m-\u001b[39m\u001b[39m=\u001b[39m \u001b[39m9\u001b[39m\n\u001b[1;32m     <a href='vscode-notebook-cell://ssh-remote%2B7b22686f73744e616d65223a22474336227d/home/jeon/halomaker_python/test.ipynb#Y260sdnNjb2RlLXJlbW90ZQ%3D%3D?line=10'>11</a>\u001b[0m octarr[yet] \u001b[39m+\u001b[39m\u001b[39m=\u001b[39m icids\n\u001b[0;32m---> <a href='vscode-notebook-cell://ssh-remote%2B7b22686f73744e616d65223a22474336227d/home/jeon/halomaker_python/test.ipynb#Y260sdnNjb2RlLXJlbW90ZQ%3D%3D?line=12'>13</a>\u001b[0m uni, count \u001b[39m=\u001b[39m np\u001b[39m.\u001b[39;49munique(octarr[yet], return_counts\u001b[39m=\u001b[39;49m\u001b[39mTrue\u001b[39;49;00m)\n\u001b[1;32m     <a href='vscode-notebook-cell://ssh-remote%2B7b22686f73744e616d65223a22474336227d/home/jeon/halomaker_python/test.ipynb#Y260sdnNjb2RlLXJlbW90ZQ%3D%3D?line=13'>14</a>\u001b[0m \u001b[39mif\u001b[39;00m(\u001b[39m1\u001b[39m \u001b[39min\u001b[39;00m count):\n\u001b[1;32m     <a href='vscode-notebook-cell://ssh-remote%2B7b22686f73744e616d65223a22474336227d/home/jeon/halomaker_python/test.ipynb#Y260sdnNjb2RlLXJlbW90ZQ%3D%3D?line=14'>15</a>\u001b[0m     leafind \u001b[39m=\u001b[39m np\u001b[39m.\u001b[39mwhere(count\u001b[39m==\u001b[39m\u001b[39m1\u001b[39m)[\u001b[39m0\u001b[39m]\n",
      "File \u001b[0;32m<__array_function__ internals>:177\u001b[0m, in \u001b[0;36munique\u001b[0;34m(*args, **kwargs)\u001b[0m\n",
      "\u001b[0;31mKeyboardInterrupt\u001b[0m: "
     ]
    }
   ],
   "source": [
    "octarr = refine(pos, octarr, cpos)"
   ]
  },
  {
   "cell_type": "code",
   "execution_count": 130,
   "metadata": {},
   "outputs": [
    {
     "name": "stdout",
     "output_type": "stream",
     "text": [
      "[lvl=0] 1 -> 8\n",
      "90.0 False (11134418, 3)\n",
      "[lvl=1] 8 -> 64\n",
      "900.0 False (11134418, 3)\n",
      "[lvl=2] 64 -> 512\n",
      "9000.0 False (11134418, 3)\n",
      "[lvl=3] 512 -> 4096\n",
      "90002.0 False (11134418, 3)\n",
      "[lvl=4] 4096 -> 32768\n",
      "900021.0 False (11134418, 3)\n",
      "[lvl=5] 32768 -> 255707\n",
      "9000212.0 True (11134418, 3)\n",
      "[lvl=6] 255707 -> 928252\n",
      "-90002124.0 True (11134418, 3)\n",
      "[lvl=7] 928252 -> 1480365\n",
      "-900021249.0 True (11134418, 3)\n",
      "[lvl=8] 1480365 -> 1931400\n",
      "-9000212499.0 True (11134418, 3)\n",
      "[lvl=9] 1931400 -> 2450569\n",
      "-90002124999.0 True (11134418, 3)\n"
     ]
    }
   ],
   "source": [
    "for _ in range(10):\n",
    "    octarr, cpos = refine(pos, octarr, cpos)\n",
    "    print(octarr[0], True in (octarr<0), cpos.shape)"
   ]
  },
  {
   "cell_type": "code",
   "execution_count": 131,
   "metadata": {},
   "outputs": [
    {
     "name": "stdout",
     "output_type": "stream",
     "text": [
      "[lvl=10] 2450569 -> 3385686\n",
      "-900021249999.0 True (11134418, 3)\n",
      "[lvl=11] 3385686 -> 5151826\n",
      "-9000212499999.0 True (11134418, 3)\n"
     ]
    }
   ],
   "source": [
    "for _ in range(2):\n",
    "    octarr, cpos = refine(pos, octarr, cpos)\n",
    "    print(octarr[0], True in (octarr<0), cpos.shape)"
   ]
  },
  {
   "cell_type": "code",
   "execution_count": 132,
   "metadata": {},
   "outputs": [
    {
     "name": "stdout",
     "output_type": "stream",
     "text": [
      "[lvl=12] 5151826 -> 7528892\n",
      "-90002124999999.0 True (11134418, 3)\n",
      "[lvl=13] 7528892 -> 9624522\n",
      "-900021249999999.0 True (11134418, 3)\n"
     ]
    }
   ],
   "source": [
    "for _ in range(2):\n",
    "    octarr, cpos = refine(pos, octarr, cpos)\n",
    "    print(octarr[0], True in (octarr<0), cpos.shape)"
   ]
  },
  {
   "cell_type": "code",
   "execution_count": 133,
   "metadata": {},
   "outputs": [
    {
     "name": "stdout",
     "output_type": "stream",
     "text": [
      "[lvl=14] 9624522 -> 10393025\n",
      "-9000212499999999.0 True (11134418, 3)\n",
      "[lvl=15] 10393025 -> 10393025\n",
      "-9.0002125e+16 True (11134418, 3)\n"
     ]
    }
   ],
   "source": [
    "for _ in range(2):\n",
    "    octarr, cpos = refine(pos, octarr, cpos)\n",
    "    print(octarr[0], True in (octarr<0), cpos.shape)"
   ]
  },
  {
   "cell_type": "code",
   "execution_count": 127,
   "metadata": {},
   "outputs": [
    {
     "name": "stdout",
     "output_type": "stream",
     "text": [
      "[lvl=5] 32768 -> 255707\n",
      "9000212.0 True (11134418, 3)\n",
      "[lvl=6] 255707 -> 928252\n",
      "-90002124.0 True (11134418, 3)\n",
      "[lvl=7] 928252 -> 1480365\n",
      "-900021240.0 True (11134418, 3)\n",
      "[lvl=8] 1480365 -> 1931400\n",
      "-9000212400.0 True (11134418, 3)\n",
      "[lvl=9] 1931400 -> 2450569\n",
      "-90002124000.0 True (11134418, 3)\n"
     ]
    }
   ],
   "source": [
    "for _ in range(5):\n",
    "    octarr, cpos = refine(pos, octarr, cpos)\n",
    "    print(octarr[0], True in (octarr<0), cpos.shape)"
   ]
  },
  {
   "cell_type": "code",
   "execution_count": 123,
   "metadata": {},
   "outputs": [
    {
     "data": {
      "text/plain": [
       "(11134418,)"
      ]
     },
     "execution_count": 123,
     "metadata": {},
     "output_type": "execute_result"
    }
   ],
   "source": [
    "octarr.shape"
   ]
  },
  {
   "cell_type": "code",
   "execution_count": 117,
   "metadata": {},
   "outputs": [
    {
     "data": {
      "text/plain": [
       "array([[-0.46253601, -0.41537952, -0.48716066],\n",
       "       [-0.44583337, -0.40721586, -0.49342432],\n",
       "       [-0.46430073, -0.4881639 , -0.409371  ],\n",
       "       ...,\n",
       "       [ 0.36647672, -0.13008   , -0.37999174],\n",
       "       [ 0.36164023, -0.13857022, -0.38843454],\n",
       "       [ 0.36129619, -0.12824863, -0.38781893]])"
      ]
     },
     "execution_count": 117,
     "metadata": {},
     "output_type": "execute_result"
    }
   ],
   "source": [
    "pos"
   ]
  },
  {
   "cell_type": "code",
   "execution_count": 102,
   "metadata": {},
   "outputs": [
    {
     "name": "stdout",
     "output_type": "stream",
     "text": [
      "[lvl=0] 1 -> 8\n"
     ]
    },
    {
     "data": {
      "text/plain": [
       "(90.0, False, (11134418, 3))"
      ]
     },
     "execution_count": 102,
     "metadata": {},
     "output_type": "execute_result"
    }
   ],
   "source": [
    "octarr,cpos = refine(pos, octarr, cpos)\n",
    "octarr[0], True in (octarr<0), cpos.shape"
   ]
  },
  {
   "cell_type": "code",
   "execution_count": 103,
   "metadata": {},
   "outputs": [
    {
     "name": "stdout",
     "output_type": "stream",
     "text": [
      "[lvl=1] 8 -> 64\n"
     ]
    },
    {
     "data": {
      "text/plain": [
       "(900.0, False, (11134418, 3))"
      ]
     },
     "execution_count": 103,
     "metadata": {},
     "output_type": "execute_result"
    }
   ],
   "source": [
    "octarr,cpos = refine(pos, octarr, cpos)\n",
    "octarr[0], True in (octarr<0), cpos.shape"
   ]
  },
  {
   "cell_type": "code",
   "execution_count": 104,
   "metadata": {},
   "outputs": [
    {
     "name": "stdout",
     "output_type": "stream",
     "text": [
      "[lvl=2] 64 -> 512\n"
     ]
    },
    {
     "data": {
      "text/plain": [
       "(9000.0, False, (11134418, 3))"
      ]
     },
     "execution_count": 104,
     "metadata": {},
     "output_type": "execute_result"
    }
   ],
   "source": [
    "octarr,cpos = refine(pos, octarr, cpos)\n",
    "octarr[0], True in (octarr<0), cpos.shape"
   ]
  },
  {
   "cell_type": "code",
   "execution_count": 105,
   "metadata": {},
   "outputs": [
    {
     "name": "stdout",
     "output_type": "stream",
     "text": [
      "[lvl=3] 512 -> 4096\n"
     ]
    },
    {
     "data": {
      "text/plain": [
       "(90002.0, False, (11134418, 3))"
      ]
     },
     "execution_count": 105,
     "metadata": {},
     "output_type": "execute_result"
    }
   ],
   "source": [
    "octarr,cpos = refine(pos, octarr, cpos)\n",
    "octarr[0], True in (octarr<0), cpos.shape"
   ]
  },
  {
   "cell_type": "code",
   "execution_count": 106,
   "metadata": {},
   "outputs": [
    {
     "name": "stdout",
     "output_type": "stream",
     "text": [
      "[lvl=4] 4096 -> 32768\n"
     ]
    },
    {
     "data": {
      "text/plain": [
       "(900021.0, False, (11134418, 3))"
      ]
     },
     "execution_count": 106,
     "metadata": {},
     "output_type": "execute_result"
    }
   ],
   "source": [
    "octarr,cpos = refine(pos, octarr, cpos)\n",
    "octarr[0], True in (octarr<0), cpos.shape"
   ]
  },
  {
   "cell_type": "code",
   "execution_count": 107,
   "metadata": {},
   "outputs": [
    {
     "name": "stdout",
     "output_type": "stream",
     "text": [
      "[lvl=5] 32768 -> 255707\n"
     ]
    },
    {
     "data": {
      "text/plain": [
       "(9000212.0, True, (11134418, 3))"
      ]
     },
     "execution_count": 107,
     "metadata": {},
     "output_type": "execute_result"
    }
   ],
   "source": [
    "octarr,cpos = refine(pos, octarr, cpos)\n",
    "octarr[0], True in (octarr<0), cpos.shape"
   ]
  },
  {
   "cell_type": "code",
   "execution_count": 108,
   "metadata": {},
   "outputs": [
    {
     "name": "stdout",
     "output_type": "stream",
     "text": [
      "[lvl=6] 255707 -> 928252\n"
     ]
    },
    {
     "data": {
      "text/plain": [
       "(-90002124.0, True, (11097695, 3))"
      ]
     },
     "execution_count": 108,
     "metadata": {},
     "output_type": "execute_result"
    }
   ],
   "source": [
    "octarr,cpos = refine(pos, octarr, cpos)\n",
    "octarr[0], True in (octarr<0), cpos.shape"
   ]
  },
  {
   "cell_type": "code",
   "execution_count": 109,
   "metadata": {},
   "outputs": [
    {
     "ename": "IndexError",
     "evalue": "boolean index did not match indexed array along dimension 0; dimension is 11097695 but corresponding boolean dimension is 11134418",
     "output_type": "error",
     "traceback": [
      "\u001b[0;31m---------------------------------------------------------------------------\u001b[0m",
      "\u001b[0;31mIndexError\u001b[0m                                Traceback (most recent call last)",
      "\u001b[1;32m/home/jeon/halomaker_python/test.ipynb Cell 21\u001b[0m line \u001b[0;36m<cell line: 1>\u001b[0;34m()\u001b[0m\n\u001b[0;32m----> <a href='vscode-notebook-cell://ssh-remote%2B7b22686f73744e616d65223a22474336227d/home/jeon/halomaker_python/test.ipynb#Y246sdnNjb2RlLXJlbW90ZQ%3D%3D?line=0'>1</a>\u001b[0m octarr,cpos \u001b[39m=\u001b[39m refine(pos, octarr, cpos)\n\u001b[1;32m      <a href='vscode-notebook-cell://ssh-remote%2B7b22686f73744e616d65223a22474336227d/home/jeon/halomaker_python/test.ipynb#Y246sdnNjb2RlLXJlbW90ZQ%3D%3D?line=1'>2</a>\u001b[0m octarr[\u001b[39m0\u001b[39m], \u001b[39mTrue\u001b[39;00m \u001b[39min\u001b[39;00m (octarr\u001b[39m<\u001b[39m\u001b[39m0\u001b[39m), cpos\u001b[39m.\u001b[39mshape\n",
      "\u001b[1;32m/home/jeon/halomaker_python/test.ipynb Cell 21\u001b[0m line \u001b[0;36mrefine\u001b[0;34m(pos, octarr, cpos)\u001b[0m\n\u001b[1;32m      <a href='vscode-notebook-cell://ssh-remote%2B7b22686f73744e616d65223a22474336227d/home/jeon/halomaker_python/test.ipynb#Y246sdnNjb2RlLXJlbW90ZQ%3D%3D?line=4'>5</a>\u001b[0m yet \u001b[39m=\u001b[39m octarr \u001b[39m>\u001b[39m\u001b[39m=\u001b[39m \u001b[39m0\u001b[39m\n\u001b[1;32m      <a href='vscode-notebook-cell://ssh-remote%2B7b22686f73744e616d65223a22474336227d/home/jeon/halomaker_python/test.ipynb#Y246sdnNjb2RlLXJlbW90ZQ%3D%3D?line=5'>6</a>\u001b[0m ipos \u001b[39m=\u001b[39m pos[yet]\n\u001b[0;32m----> <a href='vscode-notebook-cell://ssh-remote%2B7b22686f73744e616d65223a22474336227d/home/jeon/halomaker_python/test.ipynb#Y246sdnNjb2RlLXJlbW90ZQ%3D%3D?line=6'>7</a>\u001b[0m cpos \u001b[39m=\u001b[39m cpos[yet]\n\u001b[1;32m      <a href='vscode-notebook-cell://ssh-remote%2B7b22686f73744e616d65223a22474336227d/home/jeon/halomaker_python/test.ipynb#Y246sdnNjb2RlLXJlbW90ZQ%3D%3D?line=7'>8</a>\u001b[0m ncell_old \u001b[39m=\u001b[39m \u001b[39mlen\u001b[39m(np\u001b[39m.\u001b[39munique(octarr))\n\u001b[1;32m      <a href='vscode-notebook-cell://ssh-remote%2B7b22686f73744e616d65223a22474336227d/home/jeon/halomaker_python/test.ipynb#Y246sdnNjb2RlLXJlbW90ZQ%3D%3D?line=8'>9</a>\u001b[0m icids \u001b[39m=\u001b[39m icellids(ipos\u001b[39m-\u001b[39mcpos)\n",
      "\u001b[0;31mIndexError\u001b[0m: boolean index did not match indexed array along dimension 0; dimension is 11097695 but corresponding boolean dimension is 11134418"
     ]
    }
   ],
   "source": [
    "octarr,cpos = refine(pos, octarr, cpos)\n",
    "octarr[0], True in (octarr<0), cpos.shape"
   ]
  },
  {
   "cell_type": "code",
   "execution_count": 99,
   "metadata": {},
   "outputs": [
    {
     "ename": "IndexError",
     "evalue": "boolean index did not match indexed array along dimension 0; dimension is 11097695 but corresponding boolean dimension is 11134418",
     "output_type": "error",
     "traceback": [
      "\u001b[0;31m---------------------------------------------------------------------------\u001b[0m",
      "\u001b[0;31mIndexError\u001b[0m                                Traceback (most recent call last)",
      "\u001b[1;32m/home/jeon/halomaker_python/test.ipynb Cell 21\u001b[0m line \u001b[0;36m<cell line: 1>\u001b[0;34m()\u001b[0m\n\u001b[0;32m----> <a href='vscode-notebook-cell://ssh-remote%2B7b22686f73744e616d65223a22474336227d/home/jeon/halomaker_python/test.ipynb#Y245sdnNjb2RlLXJlbW90ZQ%3D%3D?line=0'>1</a>\u001b[0m octarr,cpos \u001b[39m=\u001b[39m refine(pos, octarr, cpos)\n\u001b[1;32m      <a href='vscode-notebook-cell://ssh-remote%2B7b22686f73744e616d65223a22474336227d/home/jeon/halomaker_python/test.ipynb#Y245sdnNjb2RlLXJlbW90ZQ%3D%3D?line=1'>2</a>\u001b[0m np\u001b[39m.\u001b[39munique(octarr, return_counts\u001b[39m=\u001b[39m\u001b[39mTrue\u001b[39;00m), cpos[\u001b[39m0\u001b[39m], \u001b[39mTrue\u001b[39;00m \u001b[39min\u001b[39;00m (octarr\u001b[39m<\u001b[39m\u001b[39m0\u001b[39m), cpos\u001b[39m.\u001b[39mshape\n",
      "\u001b[1;32m/home/jeon/halomaker_python/test.ipynb Cell 21\u001b[0m line \u001b[0;36mrefine\u001b[0;34m(pos, octarr, cpos)\u001b[0m\n\u001b[1;32m      <a href='vscode-notebook-cell://ssh-remote%2B7b22686f73744e616d65223a22474336227d/home/jeon/halomaker_python/test.ipynb#Y245sdnNjb2RlLXJlbW90ZQ%3D%3D?line=4'>5</a>\u001b[0m yet \u001b[39m=\u001b[39m octarr \u001b[39m>\u001b[39m\u001b[39m=\u001b[39m \u001b[39m0\u001b[39m\n\u001b[1;32m      <a href='vscode-notebook-cell://ssh-remote%2B7b22686f73744e616d65223a22474336227d/home/jeon/halomaker_python/test.ipynb#Y245sdnNjb2RlLXJlbW90ZQ%3D%3D?line=5'>6</a>\u001b[0m ipos \u001b[39m=\u001b[39m pos[yet]\n\u001b[0;32m----> <a href='vscode-notebook-cell://ssh-remote%2B7b22686f73744e616d65223a22474336227d/home/jeon/halomaker_python/test.ipynb#Y245sdnNjb2RlLXJlbW90ZQ%3D%3D?line=6'>7</a>\u001b[0m cpos \u001b[39m=\u001b[39m cpos[yet]\n\u001b[1;32m      <a href='vscode-notebook-cell://ssh-remote%2B7b22686f73744e616d65223a22474336227d/home/jeon/halomaker_python/test.ipynb#Y245sdnNjb2RlLXJlbW90ZQ%3D%3D?line=7'>8</a>\u001b[0m ncell_old \u001b[39m=\u001b[39m \u001b[39mlen\u001b[39m(np\u001b[39m.\u001b[39munique(octarr))\n\u001b[1;32m      <a href='vscode-notebook-cell://ssh-remote%2B7b22686f73744e616d65223a22474336227d/home/jeon/halomaker_python/test.ipynb#Y245sdnNjb2RlLXJlbW90ZQ%3D%3D?line=8'>9</a>\u001b[0m icids \u001b[39m=\u001b[39m icellids(ipos\u001b[39m-\u001b[39mcpos)\n",
      "\u001b[0;31mIndexError\u001b[0m: boolean index did not match indexed array along dimension 0; dimension is 11097695 but corresponding boolean dimension is 11134418"
     ]
    }
   ],
   "source": [
    "octarr,cpos = refine(pos, octarr, cpos)\n",
    "np.unique(octarr, return_counts=True), cpos[0], True in (octarr<0), cpos.shape"
   ]
  },
  {
   "cell_type": "code",
   "execution_count": 74,
   "metadata": {},
   "outputs": [
    {
     "data": {
      "text/plain": [
       "((array([90., 91., 92., 93., 94., 95., 96., 97.]),\n",
       "  array([4401030,  269003,  240826,  264320, 5175286,  242939,  260857,\n",
       "          280157])),\n",
       " array([-0.25, -0.25, -0.25]))"
      ]
     },
     "execution_count": 74,
     "metadata": {},
     "output_type": "execute_result"
    }
   ],
   "source": [
    "octarr,cpos = refine(pos, octarr, cpos)\n",
    "np.unique(octarr, return_counts=True), cpos[0]"
   ]
  },
  {
   "cell_type": "code",
   "execution_count": 75,
   "metadata": {},
   "outputs": [
    {
     "data": {
      "text/plain": [
       "((array([900., 901., 902., 903., 904., 905., 906., 907., 910., 911., 912.,\n",
       "         913., 914., 915., 916., 917., 920., 921., 922., 923., 924., 925.,\n",
       "         926., 927., 930., 931., 932., 933., 934., 935., 936., 937., 940.,\n",
       "         941., 942., 943., 944., 945., 946., 947., 950., 951., 952., 953.,\n",
       "         954., 955., 956., 957., 960., 961., 962., 963., 964., 965., 966.,\n",
       "         967., 970., 971., 972., 973., 974., 975., 976., 977.]),\n",
       "  array([  30283,   29256,   44892,   20525,   30450,   31992, 4043562,\n",
       "          170070,   24633,   24289,   30542,   28530,   27185,   40538,\n",
       "           53125,   40161,   32881,   26014,   31083,   26688,   37512,\n",
       "           32139,   30724,   23785,   33333,   47635,   33017,   25276,\n",
       "           22081,   45739,   33495,   23744,   31674,   31389, 4062565,\n",
       "          884216,   46513,   33731,   50767,   34431,   21829,   25621,\n",
       "           31802,   31876,   35320,   18272,   37623,   40596,   28122,\n",
       "           22043,   39143,   39184,   29432,   37180,   32670,   33083,\n",
       "           38065,   40785,   39931,   36604,   30743,   30293,   32462,\n",
       "           31274])),\n",
       " array([-0.375, -0.375, -0.375]))"
      ]
     },
     "execution_count": 75,
     "metadata": {},
     "output_type": "execute_result"
    }
   ],
   "source": [
    "octarr,cpos = refine(pos, octarr, cpos)\n",
    "np.unique(octarr, return_counts=True), cpos[0]"
   ]
  },
  {
   "cell_type": "code",
   "execution_count": 76,
   "metadata": {},
   "outputs": [
    {
     "data": {
      "text/plain": [
       "((array([9000., 9001., 9002., 9003., 9004., 9005., 9006., 9007., 9010.,\n",
       "         9011., 9012., 9013., 9014., 9015., 9016., 9017., 9020., 9021.,\n",
       "         9022., 9023., 9024., 9025., 9026., 9027., 9030., 9031., 9032.,\n",
       "         9033., 9034., 9035., 9036., 9037., 9040., 9041., 9042., 9043.,\n",
       "         9044., 9045., 9046., 9047., 9050., 9051., 9052., 9053., 9054.,\n",
       "         9055., 9056., 9057., 9060., 9061., 9062., 9063., 9064., 9065.,\n",
       "         9066., 9067., 9070., 9071., 9072., 9073., 9074., 9075., 9076.,\n",
       "         9077., 9100., 9101., 9102., 9103., 9104., 9105., 9106., 9107.,\n",
       "         9110., 9111., 9112., 9113., 9114., 9115., 9116., 9117., 9120.,\n",
       "         9121., 9122., 9123., 9124., 9125., 9126., 9127., 9130., 9131.,\n",
       "         9132., 9133., 9134., 9135., 9136., 9137., 9140., 9141., 9142.,\n",
       "         9143., 9144., 9145., 9146., 9147., 9150., 9151., 9152., 9153.,\n",
       "         9154., 9155., 9156., 9157., 9160., 9161., 9162., 9163., 9164.,\n",
       "         9165., 9166., 9167., 9170., 9171., 9172., 9173., 9174., 9175.,\n",
       "         9176., 9177., 9200., 9201., 9202., 9203., 9204., 9205., 9206.,\n",
       "         9207., 9210., 9211., 9212., 9213., 9214., 9215., 9216., 9217.,\n",
       "         9220., 9221., 9222., 9223., 9224., 9225., 9226., 9227., 9230.,\n",
       "         9231., 9232., 9233., 9234., 9235., 9236., 9237., 9240., 9241.,\n",
       "         9242., 9243., 9244., 9245., 9246., 9247., 9250., 9251., 9252.,\n",
       "         9253., 9254., 9255., 9256., 9257., 9260., 9261., 9262., 9263.,\n",
       "         9264., 9265., 9266., 9267., 9270., 9271., 9272., 9273., 9274.,\n",
       "         9275., 9276., 9277., 9300., 9301., 9302., 9303., 9304., 9305.,\n",
       "         9306., 9307., 9310., 9311., 9312., 9313., 9314., 9315., 9316.,\n",
       "         9317., 9320., 9321., 9322., 9323., 9324., 9325., 9326., 9327.,\n",
       "         9330., 9331., 9332., 9333., 9334., 9335., 9336., 9337., 9340.,\n",
       "         9341., 9342., 9343., 9344., 9345., 9346., 9347., 9350., 9351.,\n",
       "         9352., 9353., 9354., 9355., 9356., 9357., 9360., 9361., 9362.,\n",
       "         9363., 9364., 9365., 9366., 9367., 9370., 9371., 9372., 9373.,\n",
       "         9374., 9375., 9376., 9377., 9400., 9401., 9402., 9403., 9404.,\n",
       "         9405., 9406., 9407., 9410., 9411., 9412., 9413., 9414., 9415.,\n",
       "         9416., 9417., 9420., 9421., 9422., 9423., 9424., 9425., 9426.,\n",
       "         9427., 9430., 9431., 9432., 9433., 9434., 9435., 9436., 9437.,\n",
       "         9440., 9441., 9442., 9443., 9444., 9445., 9446., 9447., 9450.,\n",
       "         9451., 9452., 9453., 9454., 9455., 9456., 9457., 9460., 9461.,\n",
       "         9462., 9463., 9464., 9465., 9466., 9467., 9470., 9471., 9472.,\n",
       "         9473., 9474., 9475., 9476., 9477., 9500., 9501., 9502., 9503.,\n",
       "         9504., 9505., 9506., 9507., 9510., 9511., 9512., 9513., 9514.,\n",
       "         9515., 9516., 9517., 9520., 9521., 9522., 9523., 9524., 9525.,\n",
       "         9526., 9527., 9530., 9531., 9532., 9533., 9534., 9535., 9536.,\n",
       "         9537., 9540., 9541., 9542., 9543., 9544., 9545., 9546., 9547.,\n",
       "         9550., 9551., 9552., 9553., 9554., 9555., 9556., 9557., 9560.,\n",
       "         9561., 9562., 9563., 9564., 9565., 9566., 9567., 9570., 9571.,\n",
       "         9572., 9573., 9574., 9575., 9576., 9577., 9600., 9601., 9602.,\n",
       "         9603., 9604., 9605., 9606., 9607., 9610., 9611., 9612., 9613.,\n",
       "         9614., 9615., 9616., 9617., 9620., 9621., 9622., 9623., 9624.,\n",
       "         9625., 9626., 9627., 9630., 9631., 9632., 9633., 9634., 9635.,\n",
       "         9636., 9637., 9640., 9641., 9642., 9643., 9644., 9645., 9646.,\n",
       "         9647., 9650., 9651., 9652., 9653., 9654., 9655., 9656., 9657.,\n",
       "         9660., 9661., 9662., 9663., 9664., 9665., 9666., 9667., 9670.,\n",
       "         9671., 9672., 9673., 9674., 9675., 9676., 9677., 9700., 9701.,\n",
       "         9702., 9703., 9704., 9705., 9706., 9707., 9710., 9711., 9712.,\n",
       "         9713., 9714., 9715., 9716., 9717., 9720., 9721., 9722., 9723.,\n",
       "         9724., 9725., 9726., 9727., 9730., 9731., 9732., 9733., 9734.,\n",
       "         9735., 9736., 9737., 9740., 9741., 9742., 9743., 9744., 9745.,\n",
       "         9746., 9747., 9750., 9751., 9752., 9753., 9754., 9755., 9756.,\n",
       "         9757., 9760., 9761., 9762., 9763., 9764., 9765., 9766., 9767.,\n",
       "         9770., 9771., 9772., 9773., 9774., 9775., 9776., 9777.]),\n",
       "  array([   7327,    4084,    3495,    4719,    3393,    1966,    3651,\n",
       "            1648,    2544,    7149,    3346,    2778,    2282,    3181,\n",
       "            4849,    3127,    7631,    8710,    3508,    4290,    4787,\n",
       "            5888,    3232,    6846,    2065,    1558,    3689,    3491,\n",
       "            4140,    1508,     916,    3158,    2730,    2452,    4295,\n",
       "            1749,    6407,    4361,    6035,    2421,    3384,    6001,\n",
       "            1711,    5533,    2966,    3993,    3134,    5270,    2650,\n",
       "            4701,    5437,    6091,    2793,  341822,    7676, 3672392,\n",
       "            2577,    4074,    3936,    4242,    7194,    3967,  141023,\n",
       "            3057,    3950,    3691,    3630,    2865,    3842,    1653,\n",
       "            3392,    1610,    1971,    1368,    3388,    5141,    2220,\n",
       "            5958,    1624,    2619,    4376,    3396,    4375,    2399,\n",
       "            2826,    4232,    6602,    2336,    3672,    4998,    1832,\n",
       "            4687,    3600,    3960,    1844,    3937,    2244,    3120,\n",
       "            3605,    2167,    3545,    4209,    5445,    2850,    2748,\n",
       "            2289,    3942,    2909,    4806,    8527,    9553,    5764,\n",
       "            5119,    7275,    9463,   12406,    3005,    2260,    7745,\n",
       "            5852,    7952,    5131,    4959,    4084,    5259,    4866,\n",
       "            2629,    5281,    2448,    2603,    4322,    4043,    4725,\n",
       "            5036,    5405,    4299,    3585,    2565,    5130,    2732,\n",
       "            2844,    2418,    3348,    3392,    5539,    5066,    4862,\n",
       "            3647,    4052,    2841,    3057,    2019,    2641,    4368,\n",
       "            2533,    4979,    1876,    3975,    2028,    4288,   12192,\n",
       "            3857,    3282,    3319,    4297,    2672,    4812,    3081,\n",
       "            2561,    6041,    2561,    3956,    2765,    5516,    2126,\n",
       "            6613,    4747,    4194,    2093,    3422,    4742,    2009,\n",
       "            4501,    5016,    1809,    2373,    2397,    3891,    3292,\n",
       "            3238,    2910,    3875,    3380,    3670,    5559,    8244,\n",
       "            2215,    4293,    3731,    2241,    3275,    4541,   11305,\n",
       "            4237,    7814,    9677,    3155,    3631,    3165,    2938,\n",
       "            2658,    4123,    6095,    2447,    8220,    3371,    4111,\n",
       "            2679,    3630,    4107,    2073,    3681,    1678,    3317,\n",
       "            4669,    2876,    4378,    1955,    2462,    1878,    2441,\n",
       "            1422,    9129,    5175,    2845,    2734,    5738,    8551,\n",
       "            4123,    7444,    6561,    2781,    5608,    4446,    4297,\n",
       "            2704,    4104,    2994,    2969,    4682,    3432,    2207,\n",
       "            1978,    2476,    2517,    3483,    7393,    6014,    2710,\n",
       "            3316,    5200,    2496,    1826,    2719,    4029,    1918,\n",
       "            3397,    2585,    2068,    5372,    4564,    7456,    2747,\n",
       "          203510,    2314, 3842864,    2846,    4163,    1297,    2824,\n",
       "           12790,    3064,  850776,    2609,    2860,    6302,    3176,\n",
       "            2639,    5396,    4906,    5554,    5740,    4898,    2943,\n",
       "            5534,   11542,    3598,    2518,    7206,    5421,    2129,\n",
       "            4818,    4865,    3176,   10581,    7682,    6151,    5005,\n",
       "            9114,    3699,    4609,    3926,    5091,    3355,    6330,\n",
       "            2179,    3700,    2911,    6685,    4180,    2602,    2667,\n",
       "            2607,    2360,    3820,    3642,    2150,    1981,    2968,\n",
       "            2200,    3519,    5762,    2538,    3982,    2205,    2447,\n",
       "            4840,    2308,    5490,    3929,    6563,    3105,    3432,\n",
       "            2135,    2171,    5806,    2650,    2815,    2834,    6334,\n",
       "            3163,    6103,    3285,    4352,    3653,    4940,    2769,\n",
       "            3151,    5251,    7919,    1274,    2085,    2337,    4048,\n",
       "            1856,    1723,    3208,    1741,    8394,    3659,    2943,\n",
       "            3067,    7434,    5640,    4496,    1990,    5977,    5619,\n",
       "            5517,    5709,    5381,    5935,    2664,    3794,    2026,\n",
       "            2436,    5407,    4465,    4140,    2773,    3418,    3457,\n",
       "            1553,    3261,    2961,    1926,    2497,    2482,    2987,\n",
       "            4376,    3791,    4438,    6778,    4740,    6176,    4496,\n",
       "            4027,    4697,    6677,    3252,    3404,    5830,    2798,\n",
       "            3422,    4297,    9504,    5313,    5243,    3085,    2105,\n",
       "            4922,    2941,    3577,    2246,    3962,    5487,    3695,\n",
       "            6671,    2167,    2770,    5179,    7249,    5472,    3711,\n",
       "            4974,    5039,    2165,    6725,    2164,    2420,    3982,\n",
       "            8130,    3445,    2297,    3904,    6007,    1945,    3373,\n",
       "            5832,    3343,    5614,    9612,    4692,    3824,    2909,\n",
       "            2239,    6933,    7480,    5534,    5646,    4934,    3892,\n",
       "            4215,    2151,    8686,   10100,    1582,    2834,    4089,\n",
       "            7116,    2866,    2658,    2498,    4229,    3980,    4250,\n",
       "            6822,    5216,    4248,    5361,    3572,    2808,    3823,\n",
       "            3085,    3916,    8087,    3176,    2276,    3759,    6676,\n",
       "            3487,    2895,    3661,    3692,    3690,    2433,    4930,\n",
       "            3665,    3614,    3156,    5413,    2829,    3515,    5340,\n",
       "            3160,    6026,    2665,    2506,    4921,    3900,    3954,\n",
       "            4142])),\n",
       " array([-0.4375, -0.4375, -0.4375]))"
      ]
     },
     "execution_count": 76,
     "metadata": {},
     "output_type": "execute_result"
    }
   ],
   "source": [
    "octarr,cpos = refine(pos, octarr, cpos)\n",
    "np.unique(octarr, return_counts=True), cpos[0]"
   ]
  },
  {
   "cell_type": "code",
   "execution_count": 77,
   "metadata": {},
   "outputs": [
    {
     "data": {
      "text/plain": [
       "((array([90000., 90001., 90002., ..., 97775., 97776., 97777.]),\n",
       "  array([ 510,  724, 1306, ...,  261, 1137,  734])),\n",
       " array([-0.46875, -0.40625, -0.46875]))"
      ]
     },
     "execution_count": 77,
     "metadata": {},
     "output_type": "execute_result"
    }
   ],
   "source": [
    "octarr,cpos = refine(pos, octarr, cpos)\n",
    "np.unique(octarr, return_counts=True), cpos[0]"
   ]
  },
  {
   "cell_type": "code",
   "execution_count": 78,
   "metadata": {},
   "outputs": [
    {
     "data": {
      "text/plain": [
       "((array([900000., 900001., 900002., ..., 977775., 977776., 977777.]),\n",
       "  array([ 81,  31,  81, ...,  55,  74, 166])),\n",
       " array([-0.453125, -0.421875, -0.484375]),\n",
       " False)"
      ]
     },
     "execution_count": 78,
     "metadata": {},
     "output_type": "execute_result"
    }
   ],
   "source": [
    "octarr,cpos = refine(pos, octarr, cpos)\n",
    "np.unique(octarr, return_counts=True), cpos[0], True in octarr<0"
   ]
  },
  {
   "cell_type": "code",
   "execution_count": 79,
   "metadata": {},
   "outputs": [
    {
     "data": {
      "text/plain": [
       "((array([-9777714., -9777677., -9777662., ...,  9777775.,  9777776.,\n",
       "          9777777.]),\n",
       "  array([ 1,  1,  1, ..., 21, 13, 24])),\n",
       " array([-0.4609375, -0.4140625, -0.4921875]),\n",
       " False)"
      ]
     },
     "execution_count": 79,
     "metadata": {},
     "output_type": "execute_result"
    }
   ],
   "source": [
    "octarr,cpos = refine(pos, octarr, cpos)\n",
    "np.unique(octarr, return_counts=True), cpos[0], True in (octarr<0)"
   ]
  },
  {
   "cell_type": "code",
   "execution_count": 80,
   "metadata": {},
   "outputs": [
    {
     "data": {
      "text/plain": [
       "((array([-97777776., -97777767., -97777766., ...,  97777774.,  97777775.,\n",
       "          97777777.]),\n",
       "  array([1, 1, 1, ..., 8, 4, 3])),\n",
       " array([-0.46484375, -0.41796875, -0.48828125]),\n",
       " True)"
      ]
     },
     "execution_count": 80,
     "metadata": {},
     "output_type": "execute_result"
    }
   ],
   "source": [
    "octarr,cpos = refine(pos, octarr, cpos)\n",
    "np.unique(octarr, return_counts=True), cpos[0], True in (octarr<0), cpos.shape"
   ]
  },
  {
   "cell_type": "code",
   "execution_count": 83,
   "metadata": {},
   "outputs": [
    {
     "name": "stderr",
     "output_type": "stream",
     "text": [
      "/tmp/ipykernel_17469/1562178021.py:3: RuntimeWarning: invalid value encountered in log10\n",
      "  nlevel = int(np.log10(octarr[0]))\n"
     ]
    },
    {
     "ename": "ValueError",
     "evalue": "cannot convert float NaN to integer",
     "output_type": "error",
     "traceback": [
      "\u001b[0;31m---------------------------------------------------------------------------\u001b[0m",
      "\u001b[0;31mValueError\u001b[0m                                Traceback (most recent call last)",
      "\u001b[1;32m/home/jeon/halomaker_python/test.ipynb Cell 21\u001b[0m line \u001b[0;36m<cell line: 1>\u001b[0;34m()\u001b[0m\n\u001b[0;32m----> <a href='vscode-notebook-cell://ssh-remote%2B7b22686f73744e616d65223a22474336227d/home/jeon/halomaker_python/test.ipynb#Y234sdnNjb2RlLXJlbW90ZQ%3D%3D?line=0'>1</a>\u001b[0m octarr,cpos \u001b[39m=\u001b[39m refine(pos, octarr, cpos)\n\u001b[1;32m      <a href='vscode-notebook-cell://ssh-remote%2B7b22686f73744e616d65223a22474336227d/home/jeon/halomaker_python/test.ipynb#Y234sdnNjb2RlLXJlbW90ZQ%3D%3D?line=1'>2</a>\u001b[0m np\u001b[39m.\u001b[39munique(octarr, return_counts\u001b[39m=\u001b[39m\u001b[39mTrue\u001b[39;00m), cpos[\u001b[39m0\u001b[39m], \u001b[39mTrue\u001b[39;00m \u001b[39min\u001b[39;00m (octarr\u001b[39m<\u001b[39m\u001b[39m0\u001b[39m), cpos\u001b[39m.\u001b[39mshape\n",
      "\u001b[1;32m/home/jeon/halomaker_python/test.ipynb Cell 21\u001b[0m line \u001b[0;36mrefine\u001b[0;34m(pos, octarr, cpos)\u001b[0m\n\u001b[1;32m      <a href='vscode-notebook-cell://ssh-remote%2B7b22686f73744e616d65223a22474336227d/home/jeon/halomaker_python/test.ipynb#Y234sdnNjb2RlLXJlbW90ZQ%3D%3D?line=0'>1</a>\u001b[0m \u001b[39mdef\u001b[39;00m \u001b[39mrefine\u001b[39m(pos, octarr, cpos):\n\u001b[1;32m      <a href='vscode-notebook-cell://ssh-remote%2B7b22686f73744e616d65223a22474336227d/home/jeon/halomaker_python/test.ipynb#Y234sdnNjb2RlLXJlbW90ZQ%3D%3D?line=1'>2</a>\u001b[0m     \u001b[39mfrom\u001b[39;00m \u001b[39mnum_rec\u001b[39;00m \u001b[39mimport\u001b[39;00m icellid, icellids\n\u001b[0;32m----> <a href='vscode-notebook-cell://ssh-remote%2B7b22686f73744e616d65223a22474336227d/home/jeon/halomaker_python/test.ipynb#Y234sdnNjb2RlLXJlbW90ZQ%3D%3D?line=2'>3</a>\u001b[0m     nlevel \u001b[39m=\u001b[39m \u001b[39mint\u001b[39;49m(np\u001b[39m.\u001b[39;49mlog10(octarr[\u001b[39m0\u001b[39;49m]))\n\u001b[1;32m      <a href='vscode-notebook-cell://ssh-remote%2B7b22686f73744e616d65223a22474336227d/home/jeon/halomaker_python/test.ipynb#Y234sdnNjb2RlLXJlbW90ZQ%3D%3D?line=3'>4</a>\u001b[0m     sizeroot\u001b[39m=\u001b[39m\u001b[39m1\u001b[39m\n\u001b[1;32m      <a href='vscode-notebook-cell://ssh-remote%2B7b22686f73744e616d65223a22474336227d/home/jeon/halomaker_python/test.ipynb#Y234sdnNjb2RlLXJlbW90ZQ%3D%3D?line=4'>5</a>\u001b[0m     yet \u001b[39m=\u001b[39m octarr \u001b[39m>\u001b[39m\u001b[39m=\u001b[39m \u001b[39m0\u001b[39m\n",
      "\u001b[0;31mValueError\u001b[0m: cannot convert float NaN to integer"
     ]
    }
   ],
   "source": [
    "octarr,cpos = refine(pos, octarr, cpos)\n",
    "np.unique(octarr, return_counts=True), cpos[0], True in (octarr<0), cpos.shape"
   ]
  },
  {
   "cell_type": "code",
   "execution_count": 54,
   "metadata": {},
   "outputs": [
    {
     "data": {
      "text/plain": [
       "array([90., 90., 90., ..., 91., 91., 91.])"
      ]
     },
     "execution_count": 54,
     "metadata": {},
     "output_type": "execute_result"
    }
   ],
   "source": [
    "octarr,cpos = refine(pos, octarr, 0, cpos)\n",
    "octarr"
   ]
  },
  {
   "cell_type": "code",
   "execution_count": 55,
   "metadata": {},
   "outputs": [
    {
     "data": {
      "text/plain": [
       "array([900., 900., 900., ..., 913., 913., 913.])"
      ]
     },
     "execution_count": 55,
     "metadata": {},
     "output_type": "execute_result"
    }
   ],
   "source": [
    "octarr,cpos = refine(pos, octarr, 0, cpos)\n",
    "octarr"
   ]
  },
  {
   "cell_type": "code",
   "execution_count": 58,
   "metadata": {},
   "outputs": [
    {
     "data": {
      "text/plain": [
       "array([90070., 90161., 90252., 90343., 90434., 90525., 90616., 90707.,\n",
       "       91070., 91161., 91252., 91343., 91434., 91525., 91616., 91707.,\n",
       "       92070., 92161., 92252., 92343., 92434., 92525., 92616., 92707.,\n",
       "       93070., 93161., 93252., 93343., 93434., 93525., 93616., 93707.,\n",
       "       94070., 94161., 94252., 94343., 94434., 94525., 94616., 94707.,\n",
       "       95070., 95161., 95252., 95343., 95434., 95525., 95616., 95707.,\n",
       "       96070., 96161., 96252., 96343., 96434., 96525., 96616., 96707.,\n",
       "       97070., 97161., 97252., 97343., 97434., 97525., 97616., 97707.])"
      ]
     },
     "execution_count": 58,
     "metadata": {},
     "output_type": "execute_result"
    }
   ],
   "source": [
    "octarr,cpos = refine(pos, octarr, 0, cpos)\n",
    "np.unique(octarr)"
   ]
  },
  {
   "cell_type": "code",
   "execution_count": 59,
   "metadata": {},
   "outputs": [
    {
     "data": {
      "text/plain": [
       "array([900707., 901616., 902525., 903434., 904343., 905252., 906161.,\n",
       "       907070., 910707., 911616., 912525., 913434., 914343., 915252.,\n",
       "       916161., 917070., 920707., 921616., 922525., 923434., 924343.,\n",
       "       925252., 926161., 927070., 930707., 931616., 932525., 933434.,\n",
       "       934343., 935252., 936161., 937070., 940707., 941616., 942525.,\n",
       "       943434., 944343., 945252., 946161., 947070., 950707., 951616.,\n",
       "       952525., 953434., 954343., 955252., 956161., 957070., 960707.,\n",
       "       961616., 962525., 963434., 964343., 965252., 966161., 967070.,\n",
       "       970707., 971616., 972525., 973434., 974343., 975252., 976161.,\n",
       "       977070.])"
      ]
     },
     "execution_count": 59,
     "metadata": {},
     "output_type": "execute_result"
    }
   ],
   "source": [
    "octarr,cpos = refine(pos, octarr, 0, cpos)\n",
    "np.unique(octarr)"
   ]
  },
  {
   "cell_type": "code",
   "execution_count": 60,
   "metadata": {},
   "outputs": [
    {
     "data": {
      "text/plain": [
       "array([9007070., 9016161., 9025252., 9034343., 9043434., 9052525.,\n",
       "       9061616., 9070707., 9107070., 9116161., 9125252., 9134343.,\n",
       "       9143434., 9152525., 9161616., 9170707., 9207070., 9216161.,\n",
       "       9225252., 9234343., 9243434., 9252525., 9261616., 9270707.,\n",
       "       9307070., 9316161., 9325252., 9334343., 9343434., 9352525.,\n",
       "       9361616., 9370707., 9407070., 9416161., 9425252., 9434343.,\n",
       "       9443434., 9452525., 9461616., 9470707., 9507070., 9516161.,\n",
       "       9525252., 9534343., 9543434., 9552525., 9561616., 9570707.,\n",
       "       9607070., 9616161., 9625252., 9634343., 9643434., 9652525.,\n",
       "       9661616., 9670707., 9707070., 9716161., 9725252., 9734343.,\n",
       "       9743434., 9752525., 9761616., 9770707.])"
      ]
     },
     "execution_count": 60,
     "metadata": {},
     "output_type": "execute_result"
    }
   ],
   "source": [
    "octarr,cpos = refine(pos, octarr, 0, cpos)\n",
    "np.unique(octarr)"
   ]
  },
  {
   "cell_type": "code",
   "execution_count": 61,
   "metadata": {},
   "outputs": [
    {
     "data": {
      "text/plain": [
       "array([90070707., 90161616., 90252525., 90343434., 90434343., 90525252.,\n",
       "       90616161., 90707070., 91070707., 91161616., 91252525., 91343434.,\n",
       "       91434343., 91525252., 91616161., 91707070., 92070707., 92161616.,\n",
       "       92252525., 92343434., 92434343., 92525252., 92616161., 92707070.,\n",
       "       93070707., 93161616., 93252525., 93343434., 93434343., 93525252.,\n",
       "       93616161., 93707070., 94070707., 94161616., 94252525., 94343434.,\n",
       "       94434343., 94525252., 94616161., 94707070., 95070707., 95161616.,\n",
       "       95252525., 95343434., 95434343., 95525252., 95616161., 95707070.,\n",
       "       96070707., 96161616., 96252525., 96343434., 96434343., 96525252.,\n",
       "       96616161., 96707070., 97070707., 97161616., 97252525., 97343434.,\n",
       "       97434343., 97525252., 97616161., 97707070.])"
      ]
     },
     "execution_count": 61,
     "metadata": {},
     "output_type": "execute_result"
    }
   ],
   "source": [
    "octarr,cpos = refine(pos, octarr, 0, cpos)\n",
    "np.unique(octarr)"
   ]
  },
  {
   "cell_type": "code",
   "execution_count": 63,
   "metadata": {},
   "outputs": [
    {
     "data": {
      "text/plain": [
       "(array([9.00707071e+09, 9.01616162e+09, 9.02525252e+09, 9.03434343e+09,\n",
       "        9.04343434e+09, 9.05252525e+09, 9.06161616e+09, 9.07070707e+09,\n",
       "        9.10707071e+09, 9.11616162e+09, 9.12525252e+09, 9.13434343e+09,\n",
       "        9.14343434e+09, 9.15252525e+09, 9.16161616e+09, 9.17070707e+09,\n",
       "        9.20707071e+09, 9.21616162e+09, 9.22525252e+09, 9.23434343e+09,\n",
       "        9.24343434e+09, 9.25252525e+09, 9.26161616e+09, 9.27070707e+09,\n",
       "        9.30707071e+09, 9.31616162e+09, 9.32525252e+09, 9.33434343e+09,\n",
       "        9.34343434e+09, 9.35252525e+09, 9.36161616e+09, 9.37070707e+09,\n",
       "        9.40707071e+09, 9.41616162e+09, 9.42525252e+09, 9.43434343e+09,\n",
       "        9.44343434e+09, 9.45252525e+09, 9.46161616e+09, 9.47070707e+09,\n",
       "        9.50707071e+09, 9.51616162e+09, 9.52525252e+09, 9.53434343e+09,\n",
       "        9.54343434e+09, 9.55252525e+09, 9.56161616e+09, 9.57070707e+09,\n",
       "        9.60707071e+09, 9.61616162e+09, 9.62525252e+09, 9.63434343e+09,\n",
       "        9.64343434e+09, 9.65252525e+09, 9.66161616e+09, 9.67070707e+09,\n",
       "        9.70707071e+09, 9.71616162e+09, 9.72525252e+09, 9.73434343e+09,\n",
       "        9.74343434e+09, 9.75252525e+09, 9.76161616e+09, 9.77070707e+09]),\n",
       " array([  30283,   29256,   44892,   20525,   30450,   31992, 4043562,\n",
       "         170070,   24633,   24289,   30542,   28530,   27185,   40538,\n",
       "          53125,   40161,   32881,   26014,   31083,   26688,   37512,\n",
       "          32139,   30724,   23785,   33333,   47635,   33017,   25276,\n",
       "          22081,   45739,   33495,   23744,   31674,   31389, 4062565,\n",
       "         884216,   46513,   33731,   50767,   34431,   21829,   25621,\n",
       "          31802,   31876,   35320,   18272,   37623,   40596,   28122,\n",
       "          22043,   39143,   39184,   29432,   37180,   32670,   33083,\n",
       "          38065,   40785,   39931,   36604,   30743,   30293,   32462,\n",
       "          31274]))"
      ]
     },
     "execution_count": 63,
     "metadata": {},
     "output_type": "execute_result"
    }
   ],
   "source": [
    "octarr,cpos = refine(pos, octarr, 0, cpos)\n",
    "np.unique(octarr, return_counts=True)"
   ]
  },
  {
   "cell_type": "code",
   "execution_count": 64,
   "metadata": {},
   "outputs": [
    {
     "data": {
      "text/plain": [
       "(array([9.00707071e+10, 9.01616162e+10, 9.02525253e+10, 9.03434343e+10,\n",
       "        9.04343434e+10, 9.05252525e+10, 9.06161616e+10, 9.07070707e+10,\n",
       "        9.10707071e+10, 9.11616162e+10, 9.12525253e+10, 9.13434343e+10,\n",
       "        9.14343434e+10, 9.15252525e+10, 9.16161616e+10, 9.17070707e+10,\n",
       "        9.20707071e+10, 9.21616162e+10, 9.22525253e+10, 9.23434343e+10,\n",
       "        9.24343434e+10, 9.25252525e+10, 9.26161616e+10, 9.27070707e+10,\n",
       "        9.30707071e+10, 9.31616162e+10, 9.32525253e+10, 9.33434343e+10,\n",
       "        9.34343434e+10, 9.35252525e+10, 9.36161616e+10, 9.37070707e+10,\n",
       "        9.40707071e+10, 9.41616162e+10, 9.42525253e+10, 9.43434343e+10,\n",
       "        9.44343434e+10, 9.45252525e+10, 9.46161616e+10, 9.47070707e+10,\n",
       "        9.50707071e+10, 9.51616162e+10, 9.52525253e+10, 9.53434343e+10,\n",
       "        9.54343434e+10, 9.55252525e+10, 9.56161616e+10, 9.57070707e+10,\n",
       "        9.60707071e+10, 9.61616162e+10, 9.62525253e+10, 9.63434343e+10,\n",
       "        9.64343434e+10, 9.65252525e+10, 9.66161616e+10, 9.67070707e+10,\n",
       "        9.70707071e+10, 9.71616162e+10, 9.72525253e+10, 9.73434343e+10,\n",
       "        9.74343434e+10, 9.75252525e+10, 9.76161616e+10, 9.77070707e+10]),\n",
       " array([  30283,   29256,   44892,   20525,   30450,   31992, 4043562,\n",
       "         170070,   24633,   24289,   30542,   28530,   27185,   40538,\n",
       "          53125,   40161,   32881,   26014,   31083,   26688,   37512,\n",
       "          32139,   30724,   23785,   33333,   47635,   33017,   25276,\n",
       "          22081,   45739,   33495,   23744,   31674,   31389, 4062565,\n",
       "         884216,   46513,   33731,   50767,   34431,   21829,   25621,\n",
       "          31802,   31876,   35320,   18272,   37623,   40596,   28122,\n",
       "          22043,   39143,   39184,   29432,   37180,   32670,   33083,\n",
       "          38065,   40785,   39931,   36604,   30743,   30293,   32462,\n",
       "          31274]))"
      ]
     },
     "execution_count": 64,
     "metadata": {},
     "output_type": "execute_result"
    }
   ],
   "source": [
    "octarr,cpos = refine(pos, octarr, 0, cpos)\n",
    "np.unique(octarr, return_counts=True)"
   ]
  },
  {
   "cell_type": "code",
   "execution_count": 65,
   "metadata": {},
   "outputs": [
    {
     "data": {
      "text/plain": [
       "(array([9.00707071e+11, 9.01616162e+11, 9.02525253e+11, 9.03434343e+11,\n",
       "        9.04343434e+11, 9.05252525e+11, 9.06161616e+11, 9.07070707e+11,\n",
       "        9.10707071e+11, 9.11616162e+11, 9.12525253e+11, 9.13434343e+11,\n",
       "        9.14343434e+11, 9.15252525e+11, 9.16161616e+11, 9.17070707e+11,\n",
       "        9.20707071e+11, 9.21616162e+11, 9.22525253e+11, 9.23434343e+11,\n",
       "        9.24343434e+11, 9.25252525e+11, 9.26161616e+11, 9.27070707e+11,\n",
       "        9.30707071e+11, 9.31616162e+11, 9.32525253e+11, 9.33434343e+11,\n",
       "        9.34343434e+11, 9.35252525e+11, 9.36161616e+11, 9.37070707e+11,\n",
       "        9.40707071e+11, 9.41616162e+11, 9.42525253e+11, 9.43434343e+11,\n",
       "        9.44343434e+11, 9.45252525e+11, 9.46161616e+11, 9.47070707e+11,\n",
       "        9.50707071e+11, 9.51616162e+11, 9.52525253e+11, 9.53434343e+11,\n",
       "        9.54343434e+11, 9.55252525e+11, 9.56161616e+11, 9.57070707e+11,\n",
       "        9.60707071e+11, 9.61616162e+11, 9.62525253e+11, 9.63434343e+11,\n",
       "        9.64343434e+11, 9.65252525e+11, 9.66161616e+11, 9.67070707e+11,\n",
       "        9.70707071e+11, 9.71616162e+11, 9.72525253e+11, 9.73434343e+11,\n",
       "        9.74343434e+11, 9.75252525e+11, 9.76161616e+11, 9.77070707e+11]),\n",
       " array([  30283,   29256,   44892,   20525,   30450,   31992, 4043562,\n",
       "         170070,   24633,   24289,   30542,   28530,   27185,   40538,\n",
       "          53125,   40161,   32881,   26014,   31083,   26688,   37512,\n",
       "          32139,   30724,   23785,   33333,   47635,   33017,   25276,\n",
       "          22081,   45739,   33495,   23744,   31674,   31389, 4062565,\n",
       "         884216,   46513,   33731,   50767,   34431,   21829,   25621,\n",
       "          31802,   31876,   35320,   18272,   37623,   40596,   28122,\n",
       "          22043,   39143,   39184,   29432,   37180,   32670,   33083,\n",
       "          38065,   40785,   39931,   36604,   30743,   30293,   32462,\n",
       "          31274]))"
      ]
     },
     "execution_count": 65,
     "metadata": {},
     "output_type": "execute_result"
    }
   ],
   "source": [
    "octarr,cpos = refine(pos, octarr, 0, cpos)\n",
    "np.unique(octarr, return_counts=True)"
   ]
  },
  {
   "cell_type": "code",
   "execution_count": 57,
   "metadata": {},
   "outputs": [
    {
     "data": {
      "text/plain": [
       "array([9007., 9016., 9025., 9034., 9043., 9052., 9061., 9070., 9107.,\n",
       "       9116., 9125., 9134., 9143., 9152., 9161., 9170., 9207., 9216.,\n",
       "       9225., 9234., 9243., 9252., 9261., 9270., 9307., 9316., 9325.,\n",
       "       9334., 9343., 9352., 9361., 9370., 9407., 9416., 9425., 9434.,\n",
       "       9443., 9452., 9461., 9470., 9507., 9516., 9525., 9534., 9543.,\n",
       "       9552., 9561., 9570., 9607., 9616., 9625., 9634., 9643., 9652.,\n",
       "       9661., 9670., 9707., 9716., 9725., 9734., 9743., 9752., 9761.,\n",
       "       9770.])"
      ]
     },
     "execution_count": 57,
     "metadata": {},
     "output_type": "execute_result"
    }
   ],
   "source": [
    "np.unique(octarr)"
   ]
  },
  {
   "cell_type": "code",
   "execution_count": 68,
   "metadata": {},
   "outputs": [
    {
     "data": {
      "text/plain": [
       "array([[-0.25, -0.25, -0.25],\n",
       "       [-0.25, -0.25, -0.25],\n",
       "       [-0.25, -0.25, -0.25],\n",
       "       ...,\n",
       "       [ 0.25, -0.25, -0.25],\n",
       "       [ 0.25, -0.25, -0.25],\n",
       "       [ 0.25, -0.25, -0.25]])"
      ]
     },
     "execution_count": 68,
     "metadata": {},
     "output_type": "execute_result"
    }
   ],
   "source": [
    "cpos"
   ]
  },
  {
   "cell_type": "code",
   "execution_count": null,
   "metadata": {},
   "outputs": [],
   "source": [
    "octarr, cpos"
   ]
  },
  {
   "cell_type": "code",
   "execution_count": 10,
   "metadata": {},
   "outputs": [
    {
     "data": {
      "text/plain": [
       "(11134418,)"
      ]
     },
     "execution_count": 10,
     "metadata": {},
     "output_type": "execute_result"
    }
   ],
   "source": [
    "dm.shape"
   ]
  },
  {
   "cell_type": "code",
   "execution_count": 33,
   "metadata": {},
   "outputs": [
    {
     "name": "stdout",
     "output_type": "stream",
     "text": [
      "0 [0 0 0 0 0]\n",
      "1 [0 0 0 0 0]\n",
      "2 [0 0 0 0 0]\n",
      "3 [2 2 4 6 2]\n",
      "4 [1 1 1 0 1]\n",
      "5 [2 3 4 3 7]\n"
     ]
    }
   ],
   "source": [
    "octarr = pos2oct(dm['pos']-np.array([0.5,0.5,0.5]))"
   ]
  },
  {
   "cell_type": "code",
   "execution_count": 34,
   "metadata": {},
   "outputs": [
    {
     "data": {
      "text/plain": [
       "array([  138,   139,   268, ..., 45567, 45567, 45567])"
      ]
     },
     "execution_count": 34,
     "metadata": {},
     "output_type": "execute_result"
    }
   ],
   "source": [
    "octarr"
   ]
  },
  {
   "cell_type": "code",
   "execution_count": 35,
   "metadata": {},
   "outputs": [
    {
     "data": {
      "text/plain": [
       "'0o212'"
      ]
     },
     "execution_count": 35,
     "metadata": {},
     "output_type": "execute_result"
    }
   ],
   "source": [
    "oct(octarr[0])"
   ]
  },
  {
   "cell_type": "code",
   "execution_count": null,
   "metadata": {},
   "outputs": [],
   "source": []
  },
  {
   "cell_type": "code",
   "execution_count": 62,
   "metadata": {},
   "outputs": [
    {
     "data": {
      "text/plain": [
       "array(['0o00001', '0o00024'], dtype='<U7')"
      ]
     },
     "execution_count": 62,
     "metadata": {},
     "output_type": "execute_result"
    }
   ],
   "source": [
    "arr = np.array(['0o00001', '0o00024'])\n",
    "arr"
   ]
  },
  {
   "cell_type": "code",
   "execution_count": 77,
   "metadata": {},
   "outputs": [
    {
     "ename": "TypeError",
     "evalue": "Cannot interpret '<built-in function oct>' as a data type",
     "output_type": "error",
     "traceback": [
      "\u001b[0;31m---------------------------------------------------------------------------\u001b[0m",
      "\u001b[0;31mTypeError\u001b[0m                                 Traceback (most recent call last)",
      "\u001b[1;32m/home/jeon/halomaker_python/test.ipynb Cell 10\u001b[0m line \u001b[0;36m<cell line: 1>\u001b[0;34m()\u001b[0m\n\u001b[0;32m----> <a href='vscode-notebook-cell://ssh-remote%2B7b22686f73744e616d65223a22474336227d/home/jeon/halomaker_python/test.ipynb#Y152sdnNjb2RlLXJlbW90ZQ%3D%3D?line=0'>1</a>\u001b[0m arr \u001b[39m=\u001b[39m np\u001b[39m.\u001b[39;49marray([\u001b[39m'\u001b[39;49m\u001b[39m0o00001\u001b[39;49m\u001b[39m'\u001b[39;49m, \u001b[39m'\u001b[39;49m\u001b[39m0o00024\u001b[39;49m\u001b[39m'\u001b[39;49m], dtype\u001b[39m=\u001b[39;49m\u001b[39moct\u001b[39;49m)\n\u001b[1;32m      <a href='vscode-notebook-cell://ssh-remote%2B7b22686f73744e616d65223a22474336227d/home/jeon/halomaker_python/test.ipynb#Y152sdnNjb2RlLXJlbW90ZQ%3D%3D?line=1'>2</a>\u001b[0m arr\n",
      "\u001b[0;31mTypeError\u001b[0m: Cannot interpret '<built-in function oct>' as a data type"
     ]
    }
   ],
   "source": [
    "arr = np.array(['0o00001', '0o00024'], dtype=oct)\n",
    "arr"
   ]
  },
  {
   "cell_type": "code",
   "execution_count": 85,
   "metadata": {},
   "outputs": [
    {
     "data": {
      "text/plain": [
       "array([0, 1, 2, 3, 4])"
      ]
     },
     "execution_count": 85,
     "metadata": {},
     "output_type": "execute_result"
    }
   ],
   "source": [
    "np.arange(5)"
   ]
  },
  {
   "cell_type": "code",
   "execution_count": 84,
   "metadata": {},
   "outputs": [
    {
     "data": {
      "text/plain": [
       "1237940039285380274899124224"
      ]
     },
     "execution_count": 84,
     "metadata": {},
     "output_type": "execute_result"
    }
   ],
   "source": [
    "8**30"
   ]
  },
  {
   "cell_type": "code",
   "execution_count": 70,
   "metadata": {},
   "outputs": [
    {
     "ename": "ValueError",
     "evalue": "invalid literal for int() with base 10: '0o00001'",
     "output_type": "error",
     "traceback": [
      "\u001b[0;31m---------------------------------------------------------------------------\u001b[0m",
      "\u001b[0;31mValueError\u001b[0m                                Traceback (most recent call last)",
      "\u001b[1;32m/home/jeon/halomaker_python/test.ipynb Cell 10\u001b[0m line \u001b[0;36m<cell line: 1>\u001b[0;34m()\u001b[0m\n\u001b[0;32m----> <a href='vscode-notebook-cell://ssh-remote%2B7b22686f73744e616d65223a22474336227d/home/jeon/halomaker_python/test.ipynb#Y144sdnNjb2RlLXJlbW90ZQ%3D%3D?line=0'>1</a>\u001b[0m np\u001b[39m.\u001b[39;49mint_(arr)\n",
      "\u001b[0;31mValueError\u001b[0m: invalid literal for int() with base 10: '0o00001'"
     ]
    }
   ],
   "source": [
    "np.int_(arr)"
   ]
  },
  {
   "cell_type": "code",
   "execution_count": 73,
   "metadata": {},
   "outputs": [
    {
     "data": {
      "text/plain": [
       "'0o00001'"
      ]
     },
     "execution_count": 73,
     "metadata": {},
     "output_type": "execute_result"
    }
   ],
   "source": [
    "'0o00001'"
   ]
  },
  {
   "cell_type": "code",
   "execution_count": 76,
   "metadata": {},
   "outputs": [
    {
     "data": {
      "text/plain": [
       "('0o64', str)"
      ]
     },
     "execution_count": 76,
     "metadata": {},
     "output_type": "execute_result"
    }
   ],
   "source": [
    "oct(52), type(oct(52))"
   ]
  },
  {
   "cell_type": "code",
   "execution_count": 72,
   "metadata": {},
   "outputs": [
    {
     "ename": "ValueError",
     "evalue": "invalid literal for int() with base 10: '0o00001'",
     "output_type": "error",
     "traceback": [
      "\u001b[0;31m---------------------------------------------------------------------------\u001b[0m",
      "\u001b[0;31mValueError\u001b[0m                                Traceback (most recent call last)",
      "\u001b[1;32m/home/jeon/halomaker_python/test.ipynb Cell 11\u001b[0m line \u001b[0;36m<cell line: 1>\u001b[0;34m()\u001b[0m\n\u001b[0;32m----> <a href='vscode-notebook-cell://ssh-remote%2B7b22686f73744e616d65223a22474336227d/home/jeon/halomaker_python/test.ipynb#Y145sdnNjb2RlLXJlbW90ZQ%3D%3D?line=0'>1</a>\u001b[0m np\u001b[39m.\u001b[39;49mint0(arr)\n",
      "\u001b[0;31mValueError\u001b[0m: invalid literal for int() with base 10: '0o00001'"
     ]
    }
   ],
   "source": [
    "np.int0(arr)"
   ]
  },
  {
   "cell_type": "code",
   "execution_count": 68,
   "metadata": {},
   "outputs": [
    {
     "name": "stdout",
     "output_type": "stream",
     "text": [
      "1\n"
     ]
    },
    {
     "ename": "TypeError",
     "evalue": "Cannot interpret 'functools.partial(<class 'int'>, base=8)' as a data type",
     "output_type": "error",
     "traceback": [
      "\u001b[0;31m---------------------------------------------------------------------------\u001b[0m",
      "\u001b[0;31mTypeError\u001b[0m                                 Traceback (most recent call last)",
      "\u001b[1;32m/home/jeon/halomaker_python/test.ipynb Cell 10\u001b[0m line \u001b[0;36m<cell line: 4>\u001b[0;34m()\u001b[0m\n\u001b[1;32m      <a href='vscode-notebook-cell://ssh-remote%2B7b22686f73744e616d65223a22474336227d/home/jeon/halomaker_python/test.ipynb#Y143sdnNjb2RlLXJlbW90ZQ%3D%3D?line=1'>2</a>\u001b[0m intoct \u001b[39m=\u001b[39m partial(\u001b[39mint\u001b[39m, base\u001b[39m=\u001b[39m\u001b[39m8\u001b[39m)\n\u001b[1;32m      <a href='vscode-notebook-cell://ssh-remote%2B7b22686f73744e616d65223a22474336227d/home/jeon/halomaker_python/test.ipynb#Y143sdnNjb2RlLXJlbW90ZQ%3D%3D?line=2'>3</a>\u001b[0m \u001b[39mprint\u001b[39m(intoct(\u001b[39m'\u001b[39m\u001b[39m0o00001\u001b[39m\u001b[39m'\u001b[39m))\n\u001b[0;32m----> <a href='vscode-notebook-cell://ssh-remote%2B7b22686f73744e616d65223a22474336227d/home/jeon/halomaker_python/test.ipynb#Y143sdnNjb2RlLXJlbW90ZQ%3D%3D?line=3'>4</a>\u001b[0m arr\u001b[39m.\u001b[39;49mastype(intoct)\n",
      "\u001b[0;31mTypeError\u001b[0m: Cannot interpret 'functools.partial(<class 'int'>, base=8)' as a data type"
     ]
    }
   ],
   "source": [
    "from functools import partial\n",
    "intoct = partial(int, base=8)\n",
    "print(intoct('0o00001'))\n",
    "arr.astype(intoct)"
   ]
  },
  {
   "cell_type": "code",
   "execution_count": 59,
   "metadata": {},
   "outputs": [
    {
     "data": {
      "text/plain": [
       "'0o00001'"
      ]
     },
     "execution_count": 59,
     "metadata": {},
     "output_type": "execute_result"
    }
   ],
   "source": [
    "val = f\"0o00001\"\n",
    "val"
   ]
  },
  {
   "cell_type": "code",
   "execution_count": 60,
   "metadata": {},
   "outputs": [
    {
     "data": {
      "text/plain": [
       "1"
      ]
     },
     "execution_count": 60,
     "metadata": {},
     "output_type": "execute_result"
    }
   ],
   "source": [
    "int(val,8)"
   ]
  },
  {
   "cell_type": "code",
   "execution_count": 55,
   "metadata": {},
   "outputs": [
    {
     "ename": "NameError",
     "evalue": "name 'temp' is not defined",
     "output_type": "error",
     "traceback": [
      "\u001b[0;31m---------------------------------------------------------------------------\u001b[0m",
      "\u001b[0;31mNameError\u001b[0m                                 Traceback (most recent call last)",
      "\u001b[1;32m/home/jeon/halomaker_python/test.ipynb Cell 9\u001b[0m line \u001b[0;36m<cell line: 1>\u001b[0;34m()\u001b[0m\n\u001b[0;32m----> <a href='vscode-notebook-cell://ssh-remote%2B7b22686f73744e616d65223a22474336227d/home/jeon/halomaker_python/test.ipynb#Y135sdnNjb2RlLXJlbW90ZQ%3D%3D?line=0'>1</a>\u001b[0m val \u001b[39m=\u001b[39m \u001b[39mf\u001b[39m\u001b[39m\"\u001b[39m\u001b[39m0o\u001b[39m\u001b[39m{\u001b[39;00mnp\u001b[39m.\u001b[39msum(a\u001b[39m*\u001b[39mtemp)\u001b[39m:\u001b[39;00m\u001b[39mo\u001b[39m\u001b[39m}\u001b[39;00m\u001b[39m\"\u001b[39m\n",
      "\u001b[0;31mNameError\u001b[0m: name 'temp' is not defined"
     ]
    }
   ],
   "source": []
  },
  {
   "cell_type": "code",
   "execution_count": null,
   "metadata": {},
   "outputs": [],
   "source": []
  },
  {
   "cell_type": "code",
   "execution_count": 54,
   "metadata": {},
   "outputs": [
    {
     "data": {
      "text/plain": [
       "6.603528584956341"
      ]
     },
     "execution_count": 54,
     "metadata": {},
     "output_type": "execute_result"
    }
   ],
   "source": [
    "np.log(919561)/np.log(8)"
   ]
  },
  {
   "cell_type": "code",
   "execution_count": null,
   "metadata": {},
   "outputs": [],
   "source": [
    "val = f\"0o{np.sum(a*temp):o}\"\n",
    "val"
   ]
  },
  {
   "cell_type": "code",
   "execution_count": 53,
   "metadata": {},
   "outputs": [
    {
     "name": "stdout",
     "output_type": "stream",
     "text": [
      "919561\n",
      "1950703\n",
      "958946\n",
      "1255438\n",
      "1156953\n",
      "1795803\n",
      "870711\n"
     ]
    },
    {
     "data": {
      "text/plain": [
       "array(['0o3404011', '0o7341757', '0o3520742', '0o4624016', '0o4323531',\n",
       "       '0o6663333', '0o3244467'], dtype='<U23')"
      ]
     },
     "execution_count": 53,
     "metadata": {},
     "output_type": "execute_result"
    }
   ],
   "source": [
    "arrs = np.zeros(7, dtype='<U23')\n",
    "for i in range(7):\n",
    "    arr = np.random.randint(0,8,7)\n",
    "    arrs[i] = arr2oct(arr)\n",
    "arrs\n"
   ]
  },
  {
   "cell_type": "code",
   "execution_count": 35,
   "metadata": {},
   "outputs": [
    {
     "data": {
      "text/plain": [
       "8"
      ]
     },
     "execution_count": 35,
     "metadata": {},
     "output_type": "execute_result"
    }
   ],
   "source": [
    "len( arr2oct(a) )"
   ]
  },
  {
   "cell_type": "code",
   "execution_count": 36,
   "metadata": {},
   "outputs": [
    {
     "data": {
      "text/plain": [
       "'0o123456'"
      ]
     },
     "execution_count": 36,
     "metadata": {},
     "output_type": "execute_result"
    }
   ],
   "source": [
    "val=arr2oct(a)\n",
    "val"
   ]
  },
  {
   "cell_type": "code",
   "execution_count": 46,
   "metadata": {},
   "outputs": [
    {
     "data": {
      "text/plain": [
       "42798"
      ]
     },
     "execution_count": 46,
     "metadata": {},
     "output_type": "execute_result"
    }
   ],
   "source": [
    "int(val,8)"
   ]
  },
  {
   "cell_type": "code",
   "execution_count": 43,
   "metadata": {},
   "outputs": [
    {
     "ename": "TypeError",
     "evalue": "unsupported operand type(s) for /: 'str' and 'int'",
     "output_type": "error",
     "traceback": [
      "\u001b[0;31m---------------------------------------------------------------------------\u001b[0m",
      "\u001b[0;31mTypeError\u001b[0m                                 Traceback (most recent call last)",
      "\u001b[1;32m/home/jeon/halomaker_python/test.ipynb Cell 11\u001b[0m line \u001b[0;36m<cell line: 1>\u001b[0;34m()\u001b[0m\n\u001b[0;32m----> <a href='vscode-notebook-cell://ssh-remote%2B7b22686f73744e616d65223a22474336227d/home/jeon/halomaker_python/test.ipynb#Y126sdnNjb2RlLXJlbW90ZQ%3D%3D?line=0'>1</a>\u001b[0m val\u001b[39m/\u001b[39;49m\u001b[39m8\u001b[39;49m\n",
      "\u001b[0;31mTypeError\u001b[0m: unsupported operand type(s) for /: 'str' and 'int'"
     ]
    }
   ],
   "source": []
  },
  {
   "cell_type": "code",
   "execution_count": 41,
   "metadata": {},
   "outputs": [
    {
     "ename": "ValueError",
     "evalue": "invalid literal for int() with base 10: '0o123456'",
     "output_type": "error",
     "traceback": [
      "\u001b[0;31m---------------------------------------------------------------------------\u001b[0m",
      "\u001b[0;31mValueError\u001b[0m                                Traceback (most recent call last)",
      "\u001b[1;32m/home/jeon/halomaker_python/test.ipynb Cell 11\u001b[0m line \u001b[0;36m<cell line: 1>\u001b[0;34m()\u001b[0m\n\u001b[0;32m----> <a href='vscode-notebook-cell://ssh-remote%2B7b22686f73744e616d65223a22474336227d/home/jeon/halomaker_python/test.ipynb#Y125sdnNjb2RlLXJlbW90ZQ%3D%3D?line=0'>1</a>\u001b[0m \u001b[39mint\u001b[39;49m(val)\n",
      "\u001b[0;31mValueError\u001b[0m: invalid literal for int() with base 10: '0o123456'"
     ]
    }
   ],
   "source": [
    "int(val)"
   ]
  },
  {
   "cell_type": "code",
   "execution_count": null,
   "metadata": {},
   "outputs": [],
   "source": []
  },
  {
   "cell_type": "code",
   "execution_count": 32,
   "metadata": {},
   "outputs": [
    {
     "ename": "TypeError",
     "evalue": "'str' object cannot be interpreted as an integer",
     "output_type": "error",
     "traceback": [
      "\u001b[0;31m---------------------------------------------------------------------------\u001b[0m",
      "\u001b[0;31mTypeError\u001b[0m                                 Traceback (most recent call last)",
      "\u001b[1;32m/home/jeon/halomaker_python/test.ipynb Cell 7\u001b[0m line \u001b[0;36m<cell line: 2>\u001b[0;34m()\u001b[0m\n\u001b[1;32m      <a href='vscode-notebook-cell://ssh-remote%2B7b22686f73744e616d65223a22474336227d/home/jeon/halomaker_python/test.ipynb#Y116sdnNjb2RlLXJlbW90ZQ%3D%3D?line=0'>1</a>\u001b[0m ss \u001b[39m=\u001b[39m \u001b[39mf\u001b[39m\u001b[39m\"\u001b[39m\u001b[39m0o\u001b[39m\u001b[39m{\u001b[39;00ma[\u001b[39m0\u001b[39m]\u001b[39m}\u001b[39;00m\u001b[39m\"\u001b[39m\n\u001b[0;32m----> <a href='vscode-notebook-cell://ssh-remote%2B7b22686f73744e616d65223a22474336227d/home/jeon/halomaker_python/test.ipynb#Y116sdnNjb2RlLXJlbW90ZQ%3D%3D?line=1'>2</a>\u001b[0m ss, \u001b[39mbin\u001b[39;49m(ss)\n",
      "\u001b[0;31mTypeError\u001b[0m: 'str' object cannot be interpreted as an integer"
     ]
    }
   ],
   "source": [
    "ss = f\"0o{a[0]}\"\n",
    "ss, "
   ]
  },
  {
   "cell_type": "code",
   "execution_count": 24,
   "metadata": {},
   "outputs": [
    {
     "ename": "AssertionError",
     "evalue": "daemonic processes are not allowed to have children",
     "output_type": "error",
     "traceback": [
      "\u001b[0;31m---------------------------------------------------------------------------\u001b[0m",
      "\u001b[0;31mRemoteTraceback\u001b[0m                           Traceback (most recent call last)",
      "\u001b[0;31mRemoteTraceback\u001b[0m: \n\"\"\"\nTraceback (most recent call last):\n  File \"/home/jeon/.conda/envs/jeonpy/lib/python3.10/multiprocessing/pool.py\", line 125, in worker\n    result = (True, func(*args, **kwds))\n  File \"/home/jeon/.conda/envs/jeonpy/lib/python3.10/multiprocessing/pool.py\", line 48, in mapstar\n    return list(map(*args))\n  File \"/tmp/ipykernel_2276/4294641251.py\", line 10, in factorial\n    with multiprocessing.Pool(processes=4) as pool:  # Use 4 processes as an example\n  File \"/home/jeon/.conda/envs/jeonpy/lib/python3.10/multiprocessing/context.py\", line 119, in Pool\n    return Pool(processes, initializer, initargs, maxtasksperchild,\n  File \"/home/jeon/.conda/envs/jeonpy/lib/python3.10/multiprocessing/pool.py\", line 212, in __init__\n    self._repopulate_pool()\n  File \"/home/jeon/.conda/envs/jeonpy/lib/python3.10/multiprocessing/pool.py\", line 303, in _repopulate_pool\n    return self._repopulate_pool_static(self._ctx, self.Process,\n  File \"/home/jeon/.conda/envs/jeonpy/lib/python3.10/multiprocessing/pool.py\", line 326, in _repopulate_pool_static\n    w.start()\n  File \"/home/jeon/.conda/envs/jeonpy/lib/python3.10/multiprocessing/process.py\", line 118, in start\n    assert not _current_process._config.get('daemon'), \\\nAssertionError: daemonic processes are not allowed to have children\n\"\"\"",
      "\nThe above exception was the direct cause of the following exception:\n",
      "\u001b[0;31mAssertionError\u001b[0m                            Traceback (most recent call last)",
      "\u001b[1;32m/home/jeon/halomaker_python/test.ipynb Cell 5\u001b[0m line \u001b[0;36m<cell line: 2>\u001b[0;34m()\u001b[0m\n\u001b[1;32m      <a href='vscode-notebook-cell://ssh-remote%2B7b22686f73744e616d65223a22474336227d/home/jeon/halomaker_python/test.ipynb#Y112sdnNjb2RlLXJlbW90ZQ%3D%3D?line=0'>1</a>\u001b[0m ref \u001b[39m=\u001b[39m time\u001b[39m.\u001b[39mtime()\n\u001b[0;32m----> <a href='vscode-notebook-cell://ssh-remote%2B7b22686f73744e616d65223a22474336227d/home/jeon/halomaker_python/test.ipynb#Y112sdnNjb2RlLXJlbW90ZQ%3D%3D?line=1'>2</a>\u001b[0m factorial(\u001b[39m60\u001b[39;49m)\n\u001b[1;32m      <a href='vscode-notebook-cell://ssh-remote%2B7b22686f73744e616d65223a22474336227d/home/jeon/halomaker_python/test.ipynb#Y112sdnNjb2RlLXJlbW90ZQ%3D%3D?line=2'>3</a>\u001b[0m \u001b[39mprint\u001b[39m(time\u001b[39m.\u001b[39mtime() \u001b[39m-\u001b[39m ref)\n",
      "\u001b[1;32m/home/jeon/halomaker_python/test.ipynb Cell 5\u001b[0m line \u001b[0;36mfactorial\u001b[0;34m(n)\u001b[0m\n\u001b[1;32m      <a href='vscode-notebook-cell://ssh-remote%2B7b22686f73744e616d65223a22474336227d/home/jeon/halomaker_python/test.ipynb#Y112sdnNjb2RlLXJlbW90ZQ%3D%3D?line=8'>9</a>\u001b[0m     multiprocessing\u001b[39m.\u001b[39mset_start_method(\u001b[39m'\u001b[39m\u001b[39mfork\u001b[39m\u001b[39m'\u001b[39m)\n\u001b[1;32m     <a href='vscode-notebook-cell://ssh-remote%2B7b22686f73744e616d65223a22474336227d/home/jeon/halomaker_python/test.ipynb#Y112sdnNjb2RlLXJlbW90ZQ%3D%3D?line=9'>10</a>\u001b[0m \u001b[39mwith\u001b[39;00m multiprocessing\u001b[39m.\u001b[39mPool(processes\u001b[39m=\u001b[39m\u001b[39m4\u001b[39m) \u001b[39mas\u001b[39;00m pool:  \u001b[39m# Use 4 processes as an example\u001b[39;00m\n\u001b[0;32m---> <a href='vscode-notebook-cell://ssh-remote%2B7b22686f73744e616d65223a22474336227d/home/jeon/halomaker_python/test.ipynb#Y112sdnNjb2RlLXJlbW90ZQ%3D%3D?line=10'>11</a>\u001b[0m     \u001b[39mreturn\u001b[39;00m n \u001b[39m*\u001b[39m pool\u001b[39m.\u001b[39;49mmap(factorial, \u001b[39mrange\u001b[39;49m(\u001b[39m1\u001b[39;49m, n))\n",
      "File \u001b[0;32m~/.conda/envs/jeonpy/lib/python3.10/multiprocessing/pool.py:364\u001b[0m, in \u001b[0;36mPool.map\u001b[0;34m(self, func, iterable, chunksize)\u001b[0m\n\u001b[1;32m    359\u001b[0m \u001b[39mdef\u001b[39;00m \u001b[39mmap\u001b[39m(\u001b[39mself\u001b[39m, func, iterable, chunksize\u001b[39m=\u001b[39m\u001b[39mNone\u001b[39;00m):\n\u001b[1;32m    360\u001b[0m     \u001b[39m'''\u001b[39;00m\n\u001b[1;32m    361\u001b[0m \u001b[39m    Apply `func` to each element in `iterable`, collecting the results\u001b[39;00m\n\u001b[1;32m    362\u001b[0m \u001b[39m    in a list that is returned.\u001b[39;00m\n\u001b[1;32m    363\u001b[0m \u001b[39m    '''\u001b[39;00m\n\u001b[0;32m--> 364\u001b[0m     \u001b[39mreturn\u001b[39;00m \u001b[39mself\u001b[39;49m\u001b[39m.\u001b[39;49m_map_async(func, iterable, mapstar, chunksize)\u001b[39m.\u001b[39;49mget()\n",
      "File \u001b[0;32m~/.conda/envs/jeonpy/lib/python3.10/multiprocessing/pool.py:771\u001b[0m, in \u001b[0;36mApplyResult.get\u001b[0;34m(self, timeout)\u001b[0m\n\u001b[1;32m    769\u001b[0m     \u001b[39mreturn\u001b[39;00m \u001b[39mself\u001b[39m\u001b[39m.\u001b[39m_value\n\u001b[1;32m    770\u001b[0m \u001b[39melse\u001b[39;00m:\n\u001b[0;32m--> 771\u001b[0m     \u001b[39mraise\u001b[39;00m \u001b[39mself\u001b[39m\u001b[39m.\u001b[39m_value\n",
      "\u001b[0;31mAssertionError\u001b[0m: daemonic processes are not allowed to have children"
     ]
    }
   ],
   "source": [
    "ref = time.time()\n",
    "factorial(60)\n",
    "print(time.time() - ref)"
   ]
  },
  {
   "cell_type": "code",
   "execution_count": 5,
   "metadata": {},
   "outputs": [],
   "source": [
    "import numpy as np"
   ]
  },
  {
   "cell_type": "code",
   "execution_count": 2,
   "metadata": {},
   "outputs": [
    {
     "data": {
      "text/plain": [
       "7990000.417859464"
      ]
     },
     "execution_count": 2,
     "metadata": {},
     "output_type": "execute_result"
    }
   ],
   "source": [
    "float(2866038.84679049) * float(2.78782)"
   ]
  },
  {
   "cell_type": "code",
   "execution_count": 3,
   "metadata": {},
   "outputs": [
    {
     "data": {
      "text/plain": [
       "2.78782"
      ]
     },
     "execution_count": 3,
     "metadata": {},
     "output_type": "execute_result"
    }
   ],
   "source": [
    "float(2.78782)"
   ]
  },
  {
   "cell_type": "code",
   "execution_count": 6,
   "metadata": {},
   "outputs": [
    {
     "data": {
      "text/plain": [
       "2.78782"
      ]
     },
     "execution_count": 6,
     "metadata": {},
     "output_type": "execute_result"
    }
   ],
   "source": [
    "np.float32(2.78782)"
   ]
  },
  {
   "cell_type": "code",
   "execution_count": 9,
   "metadata": {},
   "outputs": [
    {
     "name": "stdout",
     "output_type": "stream",
     "text": [
      "2.7878200000000000\n"
     ]
    }
   ],
   "source": [
    "print(f\"{np.float64(2.78782):.16f}\")"
   ]
  },
  {
   "cell_type": "code",
   "execution_count": 1,
   "metadata": {},
   "outputs": [],
   "source": [
    "from rur import uri, uhmi\n",
    "import numpy as np"
   ]
  },
  {
   "cell_type": "code",
   "execution_count": 2,
   "metadata": {},
   "outputs": [
    {
     "data": {
      "text/plain": [
       "array([0, 1, 1])"
      ]
     },
     "execution_count": 2,
     "metadata": {},
     "output_type": "execute_result"
    }
   ],
   "source": [
    "xtest = np.array([-1,0,1])\n",
    "arr = (xtest>=0).astype(int)\n",
    "arr"
   ]
  },
  {
   "cell_type": "code",
   "execution_count": 3,
   "metadata": {},
   "outputs": [
    {
     "name": "stdout",
     "output_type": "stream",
     "text": [
      "0\n"
     ]
    }
   ],
   "source": [
    "for i in range(0,1):\n",
    "    print(i)"
   ]
  },
  {
   "cell_type": "code",
   "execution_count": 9,
   "metadata": {},
   "outputs": [
    {
     "data": {
      "text/plain": [
       "(array([0, 1, 2, 3, 4, 5, 6, 7]),\n",
       " array([ 0,  2,  3,  4, 13,  5, 10,  9]),\n",
       " array([2, 4, 4, 3, 2, 3, 2, 2]))"
      ]
     },
     "execution_count": 9,
     "metadata": {},
     "output_type": "execute_result"
    }
   ],
   "source": [
    "a = np.array([0,0,1,2,3,5,1,2,3,7,6,5,1,4,7,4,2,5,6,3,2,1])\n",
    "ids = np.arange(len(a))+1\n",
    "np.unique(a, return_counts=True,return_index=True)"
   ]
  },
  {
   "cell_type": "code",
   "execution_count": 23,
   "metadata": {},
   "outputs": [
    {
     "data": {
      "text/plain": [
       "-68.2484026551247"
      ]
     },
     "execution_count": 23,
     "metadata": {},
     "output_type": "execute_result"
    }
   ],
   "source": [
    "np.double(-68.2484026551247)"
   ]
  },
  {
   "cell_type": "code",
   "execution_count": 24,
   "metadata": {},
   "outputs": [
    {
     "data": {
      "text/plain": [
       "-68.2484026551247"
      ]
     },
     "execution_count": 24,
     "metadata": {},
     "output_type": "execute_result"
    }
   ],
   "source": [
    "np.float64(-68.2484026551247)"
   ]
  },
  {
   "cell_type": "code",
   "execution_count": 25,
   "metadata": {},
   "outputs": [
    {
     "data": {
      "text/plain": [
       "-68.248405"
      ]
     },
     "execution_count": 25,
     "metadata": {},
     "output_type": "execute_result"
    }
   ],
   "source": [
    "np.float32(-68.2484026551247)"
   ]
  },
  {
   "cell_type": "code",
   "execution_count": 26,
   "metadata": {},
   "outputs": [
    {
     "data": {
      "text/plain": [
       "float"
      ]
     },
     "execution_count": 26,
     "metadata": {},
     "output_type": "execute_result"
    }
   ],
   "source": [
    "type(0.0)"
   ]
  },
  {
   "cell_type": "code",
   "execution_count": 12,
   "metadata": {},
   "outputs": [
    {
     "name": "stdout",
     "output_type": "stream",
     "text": [
      "[0 0 1 2 3 5 1 2 3 7 6 5 1 4 7 4 2 5 6 3 2 1]\n",
      "[ 1  2  3  4  5  6  7  8  9 10 11 12 13 14 15 16 17 18 19 20 21 22]\n"
     ]
    }
   ],
   "source": [
    "print(a)\n",
    "print(ids)"
   ]
  },
  {
   "cell_type": "code",
   "execution_count": 22,
   "metadata": {},
   "outputs": [
    {
     "data": {
      "text/plain": [
       "array([2., 4., 4., 3., 2., 3., 2., 2.])"
      ]
     },
     "execution_count": 22,
     "metadata": {},
     "output_type": "execute_result"
    }
   ],
   "source": [
    "arr = np.zeros(8)\n",
    "for i in a:\n",
    "    arr[i] += 1\n",
    "arr"
   ]
  },
  {
   "cell_type": "code",
   "execution_count": 19,
   "metadata": {},
   "outputs": [
    {
     "data": {
      "text/plain": [
       "array([ 0,  1,  2,  6, 12, 21,  3,  7, 16, 20,  4,  8, 19, 13, 15,  5, 11,\n",
       "       17, 10, 18,  9, 14])"
      ]
     },
     "execution_count": 19,
     "metadata": {},
     "output_type": "execute_result"
    }
   ],
   "source": [
    "arg = np.argsort(a, kind='mergesort')\n",
    "arg"
   ]
  },
  {
   "cell_type": "code",
   "execution_count": 13,
   "metadata": {},
   "outputs": [
    {
     "data": {
      "text/plain": [
       "array([ 0,  1,  2,  6, 12, 21,  3,  7, 16, 20,  4,  8, 19, 13, 15,  5, 11,\n",
       "       17, 10, 18,  9, 14])"
      ]
     },
     "execution_count": 13,
     "metadata": {},
     "output_type": "execute_result"
    }
   ],
   "source": [
    "arg = np.argsort(a, kind='stable')\n",
    "arg"
   ]
  },
  {
   "cell_type": "code",
   "execution_count": 8,
   "metadata": {},
   "outputs": [
    {
     "data": {
      "text/plain": [
       "array([0, 0, 1, 1, 1, 1, 2, 2, 2, 2, 3, 3, 3, 4, 4, 5, 5, 5, 6, 6, 7, 7])"
      ]
     },
     "execution_count": 8,
     "metadata": {},
     "output_type": "execute_result"
    }
   ],
   "source": [
    "a[arg]"
   ]
  },
  {
   "cell_type": "code",
   "execution_count": 14,
   "metadata": {},
   "outputs": [
    {
     "data": {
      "text/plain": [
       "array([ 1,  2,  3,  7, 13, 22,  4,  8, 17, 21,  5,  9, 20, 14, 16,  6, 12,\n",
       "       18, 11, 19, 10, 15])"
      ]
     },
     "execution_count": 14,
     "metadata": {},
     "output_type": "execute_result"
    }
   ],
   "source": [
    "ids[arg]"
   ]
  },
  {
   "cell_type": "code",
   "execution_count": 8,
   "metadata": {},
   "outputs": [
    {
     "name": "stdout",
     "output_type": "stream",
     "text": [
      "9\n",
      "8\n",
      "7\n",
      "6\n",
      "5\n",
      "4\n",
      "3\n",
      "2\n",
      "1\n",
      "0\n"
     ]
    }
   ],
   "source": [
    "for i in range(10-1, 1-2,-1):\n",
    "    print(i)"
   ]
  },
  {
   "cell_type": "code",
   "execution_count": 17,
   "metadata": {},
   "outputs": [
    {
     "name": "stdout",
     "output_type": "stream",
     "text": [
      "[Output 00150] Age (Gyr) : 4.310 / 13.773, z = 1.48304 (a = 0.4027)\n"
     ]
    },
    {
     "data": {
      "text/plain": [
       "42"
      ]
     },
     "execution_count": 17,
     "metadata": {},
     "output_type": "execute_result"
    }
   ],
   "source": [
    "repo = '/storage5/FORNAX/KISTI_OUTPUT/l10006'\n",
    "snap = uri.RamsesSnapshot(repo, iout=150, mode='fornax')\n",
    "hals = uhmi.HaloMaker.load(snap, galaxy=False)\n",
    "np.sum(hals['mvir'] > 10**13)"
   ]
  },
  {
   "cell_type": "code",
   "execution_count": 16,
   "metadata": {},
   "outputs": [
    {
     "name": "stdout",
     "output_type": "stream",
     "text": [
      "[Output 00299] Age (Gyr) : 4.406 / 13.761, z = 1.48701 (a = 0.4021)\n"
     ]
    },
    {
     "data": {
      "text/plain": [
       "35"
      ]
     },
     "execution_count": 16,
     "metadata": {},
     "output_type": "execute_result"
    }
   ],
   "source": [
    "repo = '/storage7/NewCluster'\n",
    "snap = uri.RamsesSnapshot(repo, iout=-1, mode='nc')\n",
    "hals = uhmi.HaloMaker.load(snap, galaxy=False)\n",
    "np.sum(hals['mvir'] > 10**13)"
   ]
  },
  {
   "cell_type": "code",
   "execution_count": null,
   "metadata": {},
   "outputs": [],
   "source": []
  },
  {
   "cell_type": "code",
   "execution_count": 2,
   "metadata": {},
   "outputs": [],
   "source": [
    "from collections import defaultdict\n",
    "import time\n",
    "import numpy as np\n",
    "from multiprocessing import shared_memory\n",
    "\n",
    "mem = defaultdict(lambda: None)\n",
    "mem_address = defaultdict(lambda: None)\n",
    "\n",
    "def allocate(name, shape, dtype=np.float64):\n",
    "    global mem\n",
    "    print(f\"Allocate `{name}`\");time.sleep(1)\n",
    "    arr = np.empty(shape, dtype=dtype)\n",
    "    temp = shared_memory.SharedMemory(create=True, size=arr.nbytes, name=name)\n",
    "    assert mem_address[name] is None\n",
    "    mem_address[name] = temp\n",
    "    mem[name] = np.ndarray(arr.shape, dtype=dtype, buffer=mem_address[name].buf)\n",
    "    arr = None\n",
    "\n",
    "def deallocate(*names):\n",
    "    for name in names:\n",
    "        print(f\"Deallocate `{name}`\");time.sleep(1)\n",
    "        if mem_address[name] is not None:\n",
    "            mem[name] = None\n",
    "            mem_address[name].shm.close()\n",
    "            mem_address[name].shm.unlink()\n",
    "            mem_address[name] = None"
   ]
  },
  {
   "cell_type": "code",
   "execution_count": 8,
   "metadata": {},
   "outputs": [
    {
     "data": {
      "text/plain": [
       "(array([9]), array([2]), array([2]))"
      ]
     },
     "execution_count": 8,
     "metadata": {},
     "output_type": "execute_result"
    }
   ],
   "source": [
    "a = np.random.rand(10,10,10)\n",
    "i,j,k = np.where(a == a.max())\n",
    "i,j,k"
   ]
  },
  {
   "cell_type": "code",
   "execution_count": 1,
   "metadata": {},
   "outputs": [
    {
     "name": "stdout",
     "output_type": "stream",
     "text": [
      "10\n",
      "9\n",
      "8\n",
      "7\n",
      "6\n",
      "5\n",
      "4\n",
      "3\n",
      "2\n",
      "1\n"
     ]
    }
   ],
   "source": [
    "from halo_defs import frange\n",
    "for i in frange(10,1,-1):\n",
    "    print(i)"
   ]
  },
  {
   "cell_type": "code",
   "execution_count": null,
   "metadata": {},
   "outputs": [],
   "source": []
  },
  {
   "cell_type": "code",
   "execution_count": 16,
   "metadata": {},
   "outputs": [
    {
     "name": "stdout",
     "output_type": "stream",
     "text": [
      "> af : 1.000\n",
      "> lbox : 142.04546\n",
      "> H_f : 70.400\n",
      "> omega_f : 0.272\n",
      "> lambda_f : 0.728\n",
      "> npart : 100\n",
      "> method : MSM\n",
      "> cdm : .false.\n",
      "> b : 0.02\n",
      "> nvoisins : 20\n",
      "> nhop : 20\n",
      "> rhot : 178.0\n",
      "> fudge : 5.\n",
      "> fudgepsilon : 0.00002\n",
      "> alphap : 2.5\n",
      "> verbose : .false.\n",
      "> megaverbose : .false.\n",
      "> nsteps : 1026\n",
      "> FlagPeriod : 1\n",
      "> dump_stars : .true.\n",
      ">   dont recognise parameter: dump_stars\n",
      "> nchem : 0\n",
      ">   dont recognise parameter: nchem\n",
      "> SC : .true.\n",
      "> dcell_min : 4e-05\n",
      "> eps_SC : 0.3\n"
     ]
    }
   ],
   "source": [
    "    f20 = open(f'input_HaloMaker.dat', 'r')\n",
    "    for line in f20:\n",
    "        i = line.find('=')\n",
    "        if (i == -1 or line[0] == '#'): continue\n",
    "        name  = line[:i].strip()\n",
    "        value = line[i+1:].strip()\n",
    "        # check for a comment at end of line\n",
    "        i     = value.find('!')\n",
    "        if (i != -1): value = value[:i].strip()\n",
    "        print(f'> {name} : {value}')\n",
    "        if (name == 'omega_0' or name == 'Omega_0' or name == 'omega_f'):\n",
    "            omega_f = float(value)\n",
    "        elif (name == 'omega_l' or name == 'lambda_0' or name == 'lambda_f'):\n",
    "            omega_lambda_f = float(value)\n",
    "        elif (name == 'af' or name == 'afinal' or name == 'a_f'):\n",
    "            af = float(value)\n",
    "        elif (name == 'Lf' or name == 'lf' or name == 'lbox'):\n",
    "            Lf = float(value)\n",
    "        elif (name == 'H_f' or name == 'H_0' or name == 'H'):\n",
    "            H_f = float(value)\n",
    "        elif (name == 'FlagPeriod'):\n",
    "            FlagPeriod = int(value)\n",
    "        elif (name == 'n' or name == 'N' or name == 'npart'):\n",
    "            nMembers = int(value)\n",
    "        elif (name == 'cdm'):\n",
    "            cdm = value=='.true.'\n",
    "        elif (name == 'method'):\n",
    "            method = value\n",
    "        elif (name == 'b'):\n",
    "            b_init = float(value)\n",
    "        elif (name == 'nvoisins'):\n",
    "            nvoisins = int(value)\n",
    "        elif (name == 'nhop'):\n",
    "            nhop = int(value)\n",
    "        elif (name == 'rhot'):\n",
    "            rho_threshold = float(value)\n",
    "        elif (name == 'fudge'):\n",
    "            fudge = float(value)\n",
    "        elif (name == 'fudgepsilon'):\n",
    "            fudgepsilon = float(value)\n",
    "        elif (name == 'alphap'):\n",
    "            alphap = float(value)\n",
    "        elif (name == 'verbose'):\n",
    "            verbose = value=='.true.'\n",
    "        elif (name == 'megaverbose'):\n",
    "            megaverbose = value=='.true.'\n",
    "        elif (name == 'DPMMC'):\n",
    "            DPMMC = value=='.true.'\n",
    "        elif (name == 'SC'):\n",
    "            SC = value=='.true.'\n",
    "        elif (name == 'dcell_min'):\n",
    "            dcell_min = float(value)\n",
    "        elif (name == 'eps_SC'):\n",
    "            eps_SC = float(value)\n",
    "        elif (name == 'nsteps' or name == 'nsteps_do'):\n",
    "            nsteps = int(value)\n",
    "        elif (name == 'dump_DMs'):\n",
    "            dump_dms = value=='.true.'; print(dump_dms)\n",
    "        elif (name == 'agor_file'):\n",
    "            if(ANG_MOM_OF_R): agor_file = f\"{data_dir}/{value}\"\n",
    "        else:\n",
    "            print(f'>   dont recognise parameter: {name}')\n",
    "    f20.close()"
   ]
  },
  {
   "cell_type": "code",
   "execution_count": 11,
   "metadata": {},
   "outputs": [
    {
     "data": {
      "text/plain": [
       "True"
      ]
     },
     "execution_count": 11,
     "metadata": {},
     "output_type": "execute_result"
    }
   ],
   "source": [
    "bool('.false.')"
   ]
  },
  {
   "cell_type": "code",
   "execution_count": 10,
   "metadata": {},
   "outputs": [
    {
     "data": {
      "text/plain": [
       "3"
      ]
     },
     "execution_count": 10,
     "metadata": {},
     "output_type": "execute_result"
    }
   ],
   "source": [
    "a = {'a': 1, 'b': 2, 'c': 3}\n",
    "len(a.keys())"
   ]
  },
  {
   "cell_type": "code",
   "execution_count": 2,
   "metadata": {},
   "outputs": [
    {
     "name": "stdout",
     "output_type": "stream",
     "text": [
      "Allocate `a`\n"
     ]
    }
   ],
   "source": [
    "allocate(\"a\", (1000, 1000))"
   ]
  },
  {
   "cell_type": "code",
   "execution_count": 8,
   "metadata": {},
   "outputs": [],
   "source": [
    "mem_address['a'].unlink()"
   ]
  },
  {
   "cell_type": "code",
   "execution_count": 9,
   "metadata": {},
   "outputs": [
    {
     "data": {
      "text/plain": [
       "array([[0., 0., 0., ..., 0., 0., 0.],\n",
       "       [0., 0., 0., ..., 0., 0., 0.],\n",
       "       [0., 0., 0., ..., 0., 0., 0.],\n",
       "       ...,\n",
       "       [0., 0., 0., ..., 0., 0., 0.],\n",
       "       [0., 0., 0., ..., 0., 0., 0.],\n",
       "       [0., 0., 0., ..., 0., 0., 0.]])"
      ]
     },
     "execution_count": 9,
     "metadata": {},
     "output_type": "execute_result"
    }
   ],
   "source": [
    "mem['a']"
   ]
  },
  {
   "cell_type": "code",
   "execution_count": 1,
   "metadata": {},
   "outputs": [],
   "source": [
    "import numpy as np"
   ]
  },
  {
   "cell_type": "code",
   "execution_count": 2,
   "metadata": {},
   "outputs": [],
   "source": [
    "import input_output"
   ]
  },
  {
   "cell_type": "code",
   "execution_count": 3,
   "metadata": {},
   "outputs": [
    {
     "name": "stdout",
     "output_type": "stream",
     "text": [
      "\n",
      " > In read_data: timestep  ---> 1\n",
      "> data_dir: `.`\n",
      "> name_of_file: `/storage7/NH2/snapshots/output_00760/`\n",
      " > From AMR file: `/storage7/NH2/snapshots/output_00760//info_00760.txt`\n",
      " \tncpu=480, ndim=3, nstep=41323\n",
      " \tnx=1, ny=1, nz=1\n",
      " \tnlevelmax=21, ngridmax=3000000\n",
      " \tt=-2.238e-01, aexp=0.000e+00, hexp=7.040e+01\n",
      " \tomega_m=0.272, omega_l=0.728, omega_k=0.000, omega_b=0.045\n",
      " \tboxlen=3.609e+26 h-1 Mpc\n",
      "> Found 198022204 non-stellar particles\n",
      "> Found 106893518 star particles\n",
      "> Reading positions and masses...\n",
      "Allocate `pos_tmp`\n",
      "Allocate `vel_tmp`\n",
      "Allocate `mass_tmp`\n"
     ]
    },
    {
     "name": "stderr",
     "output_type": "stream",
     "text": [
      "Reading particles:   0%|          | 0/480 [00:00<?, ?cpu/s]"
     ]
    },
    {
     "name": "stdout",
     "output_type": "stream",
     "text": [
      "Allocate `tmpp`\n"
     ]
    },
    {
     "ename": "",
     "evalue": "",
     "output_type": "error",
     "traceback": [
      "\u001b[1;31mThe Kernel crashed while executing code in the the current cell or a previous cell. Please review the code in the cell(s) to identify a possible cause of the failure. Click <a href='https://aka.ms/vscodeJupyterKernelCrash'>here</a> for more info. View Jupyter <a href='command:jupyter.viewOutput'>log</a> for further details."
     ]
    }
   ],
   "source": [
    "input_output.read_data()"
   ]
  },
  {
   "cell_type": "code",
   "execution_count": null,
   "metadata": {},
   "outputs": [
    {
     "data": {
      "text/plain": [
       "31"
      ]
     },
     "execution_count": 3,
     "metadata": {},
     "output_type": "execute_result"
    }
   ],
   "source": [
    "repository = f\"/storage7/NewCluster/snapshots/output_00001/\"\n",
    "# Find the index where the `output_` string starts\n",
    "index = repository.find(\"output_\")\n",
    "index"
   ]
  },
  {
   "cell_type": "code",
   "execution_count": null,
   "metadata": {},
   "outputs": [],
   "source": [
    "var = {}"
   ]
  },
  {
   "cell_type": "code",
   "execution_count": null,
   "metadata": {},
   "outputs": [],
   "source": [
    "from collections import defaultdict\n",
    "var = defaultdict(lambda: None)\n",
    "\n",
    "var[0]"
   ]
  },
  {
   "cell_type": "code",
   "execution_count": null,
   "metadata": {},
   "outputs": [],
   "source": [
    "from rur.fortranfile import FortranFile\n",
    "import numpy as np"
   ]
  },
  {
   "cell_type": "code",
   "execution_count": null,
   "metadata": {},
   "outputs": [
    {
     "name": "stdout",
     "output_type": "stream",
     "text": [
      "[-6.26297462e-09  1.67279403e-01  9.99999829e-01]\n",
      "[2.72000015e-01 7.27999985e-01 0.00000000e+00 4.55000000e-02\n",
      " 7.04000015e+01 2.19320115e-02 1.00000003e+02]\n",
      "[ 8.63772048e-01  8.00127613e-01  8.63731715e-01 -3.46636006e-04\n",
      " -9.32188145e-04]\n",
      "[2.43423569e-12]\n"
     ]
    }
   ],
   "source": [
    "fname = \"/storage7/NH2/snapshots/output_00811/amr_00811.out00001\"\n",
    "with FortranFile(fname, 'r') as f:\n",
    "    ncpu, = f.read_ints()\n",
    "    ndim, = f.read_ints()\n",
    "    nx,ny,nz = f.read_ints()\n",
    "    nlevelmax, = f.read_ints()\n",
    "    ngridmax, = f.read_ints()\n",
    "    idum, = f.read_ints()\n",
    "    idum, = f.read_ints()\n",
    "    boxlen, = f.read_reals()\n",
    "    nout,idum,idum = f.read_ints()\n",
    "    idum = f.read_reals()\n",
    "    idum = f.read_reals()\n",
    "    tco, = f.read_reals()\n",
    "    idum = f.read_reals()\n",
    "    idum = f.read_reals()\n",
    "    idum, nstep_coarse = f.read_ints()\n",
    "    idum = f.read_reals(); print(idum)\n",
    "    print(f.read_reals())\n",
    "    print(f.read_reals())\n",
    "    print(f.read_reals())"
   ]
  },
  {
   "cell_type": "code",
   "execution_count": null,
   "metadata": {},
   "outputs": [
    {
     "name": "stdout",
     "output_type": "stream",
     "text": [
      "[-6.28479468e-09  1.67279403e-01  9.99999998e-01]\n",
      "[2.72000015e-01 7.27999985e-01 0.00000000e+00 4.55000000e-02\n",
      " 7.04000015e+01 2.19320115e-02 1.00000003e+02]\n",
      "[ 8.53613930e-01  7.86582186e-01  8.53572106e-01 -3.59677480e-04\n",
      " -9.90379068e-04]\n",
      "[2.43423569e-12]\n"
     ]
    }
   ],
   "source": [
    "fname = \"/storage6/NewHorizon/snapshots/output_01026/amr_01026.out00001\"\n",
    "with FortranFile(fname, 'r') as f:\n",
    "    ncpu, = f.read_ints()\n",
    "    ndim, = f.read_ints()\n",
    "    nx,ny,nz = f.read_ints()\n",
    "    nlevelmax, = f.read_ints()\n",
    "    ngridmax, = f.read_ints()\n",
    "    idum, = f.read_ints()\n",
    "    idum, = f.read_ints()\n",
    "    boxlen, = f.read_reals()\n",
    "    nout,idum,idum = f.read_ints()\n",
    "    idum = f.read_reals()\n",
    "    idum = f.read_reals()\n",
    "    tco, = f.read_reals()\n",
    "    idum = f.read_reals()\n",
    "    idum = f.read_reals()\n",
    "    idum, nstep_coarse = f.read_ints()\n",
    "    idum = f.read_reals(); print(idum)\n",
    "    print(f.read_reals())\n",
    "    print(f.read_reals())\n",
    "    print(f.read_reals())"
   ]
  },
  {
   "cell_type": "code",
   "execution_count": null,
   "metadata": {},
   "outputs": [
    {
     "ename": "ValueError",
     "evalue": "not enough values to unpack (expected 3, got 1)",
     "output_type": "error",
     "traceback": [
      "\u001b[0;31m---------------------------------------------------------------------------\u001b[0m",
      "\u001b[0;31mValueError\u001b[0m                                Traceback (most recent call last)",
      "\u001b[1;32m/home/jeon/halomaker_python/test.ipynb Cell 10\u001b[0m line \u001b[0;36m<cell line: 2>\u001b[0;34m()\u001b[0m\n\u001b[1;32m      <a href='vscode-notebook-cell://ssh-remote%2B7b22686f73744e616d65223a22474336227d/home/jeon/halomaker_python/test.ipynb#X11sdnNjb2RlLXJlbW90ZQ%3D%3D?line=2'>3</a>\u001b[0m ncpu, \u001b[39m=\u001b[39m f\u001b[39m.\u001b[39mread_ints()\n\u001b[1;32m      <a href='vscode-notebook-cell://ssh-remote%2B7b22686f73744e616d65223a22474336227d/home/jeon/halomaker_python/test.ipynb#X11sdnNjb2RlLXJlbW90ZQ%3D%3D?line=3'>4</a>\u001b[0m ndim, \u001b[39m=\u001b[39m f\u001b[39m.\u001b[39mread_ints()\n\u001b[0;32m----> <a href='vscode-notebook-cell://ssh-remote%2B7b22686f73744e616d65223a22474336227d/home/jeon/halomaker_python/test.ipynb#X11sdnNjb2RlLXJlbW90ZQ%3D%3D?line=4'>5</a>\u001b[0m nx,ny,nz \u001b[39m=\u001b[39m f\u001b[39m.\u001b[39mread_ints()\n\u001b[1;32m      <a href='vscode-notebook-cell://ssh-remote%2B7b22686f73744e616d65223a22474336227d/home/jeon/halomaker_python/test.ipynb#X11sdnNjb2RlLXJlbW90ZQ%3D%3D?line=5'>6</a>\u001b[0m nlevelmax, \u001b[39m=\u001b[39m f\u001b[39m.\u001b[39mread_ints()\n\u001b[1;32m      <a href='vscode-notebook-cell://ssh-remote%2B7b22686f73744e616d65223a22474336227d/home/jeon/halomaker_python/test.ipynb#X11sdnNjb2RlLXJlbW90ZQ%3D%3D?line=6'>7</a>\u001b[0m ngridmax, \u001b[39m=\u001b[39m f\u001b[39m.\u001b[39mread_ints()\n",
      "\u001b[0;31mValueError\u001b[0m: not enough values to unpack (expected 3, got 1)"
     ]
    }
   ],
   "source": [
    "fname = \"/storage6/NewHorizon/snapshots/output_00001/part_00001.out00001\"\n",
    "with FortranFile(fname, 'r') as f:\n",
    "    ncpu, = f.read_ints()\n",
    "    ndim, = f.read_ints()\n",
    "    nx,ny,nz = f.read_ints()\n",
    "    nlevelmax, = f.read_ints()\n",
    "    ngridmax, = f.read_ints()\n",
    "    idum, = f.read_ints()\n",
    "    idum, = f.read_ints()\n",
    "    boxlen, = f.read_reals()\n",
    "    nout,idum,idum = f.read_ints()\n",
    "    idum = f.read_reals()\n",
    "    idum = f.read_reals()\n",
    "    tco, = f.read_reals()\n",
    "    idum = f.read_reals()\n",
    "    idum = f.read_reals()\n",
    "    idum, nstep_coarse = f.read_ints()\n",
    "    idum = f.read_reals(); print(idum)\n",
    "    print(f.read_reals())\n",
    "    print(f.read_reals())\n",
    "    print(f.read_reals())\n"
   ]
  },
  {
   "cell_type": "code",
   "execution_count": null,
   "metadata": {},
   "outputs": [],
   "source": [
    "var['allocated'] = np.array([])\n"
   ]
  },
  {
   "cell_type": "code",
   "execution_count": null,
   "metadata": {},
   "outputs": [],
   "source": [
    "def func():\n",
    "    var['allocated'] = np.empty((1,3))\n",
    "\n",
    "func()"
   ]
  },
  {
   "cell_type": "code",
   "execution_count": null,
   "metadata": {},
   "outputs": [
    {
     "name": "stdout",
     "output_type": "stream",
     "text": [
      "{'allocated': array([[4.66809194e-310, 0.00000000e+000, 1.58101007e-322]])}\n"
     ]
    }
   ],
   "source": [
    "print(var)"
   ]
  },
  {
   "cell_type": "code",
   "execution_count": null,
   "metadata": {},
   "outputs": [],
   "source": []
  },
  {
   "cell_type": "code",
   "execution_count": null,
   "metadata": {},
   "outputs": [],
   "source": [
    "import numpy as np\n",
    "\n",
    "def polint(xa, ya, x):\n",
    "    n = len(xa)\n",
    "    if n > 10:\n",
    "        raise ValueError(\"Maximum allowed size for xa and ya is 10\")\n",
    "    \n",
    "    c = ya.copy()\n",
    "    d = ya.copy()\n",
    "\n",
    "    # Find the index of the closest value in xa to x\n",
    "    ns = np.abs(xa - x).argmin()\n",
    "    y = ya[ns]\n",
    "    \n",
    "    for m in range(1, n):\n",
    "        den = xa[:n-m] - x - xa[m:] + x\n",
    "        w = c[1:n-m+1] - d[:n-m]\n",
    "        with np.errstate(divide='raise'):\n",
    "            try:\n",
    "                den = w / den\n",
    "            except FloatingPointError:\n",
    "                raise ValueError(\"Denominator is zero!\")\n",
    "\n",
    "        d[:n-m] = (xa[m:] - x) * den\n",
    "        c[:n-m] = (xa[:n-m] - x) * den\n",
    "\n",
    "        if 2 * ns < n - m:\n",
    "            dy = c[ns]\n",
    "        else:\n",
    "            dy = d[ns-1]\n",
    "            ns -= 1\n",
    "        \n",
    "        y += dy\n",
    "        \n",
    "    return y, dy\n"
   ]
  },
  {
   "cell_type": "code",
   "execution_count": null,
   "metadata": {},
   "outputs": [],
   "source": [
    "def qromo(func, a, b, **kwargs):\n",
    "    def midpnt(func, a, b, s, n, **kwargs):\n",
    "        # If `it` was a static or saved variable in Fortran subroutine,\n",
    "        # then in Python, it can be made an attribute of the function to mimic this behavior.\n",
    "        if not hasattr(midpnt, \"it\"):\n",
    "            midpnt.it = 0\n",
    "\n",
    "        if n == 1:\n",
    "            s = (b - a) * func(0.5 * (a + b), **kwargs)\n",
    "            midpnt.it = 1\n",
    "        else:\n",
    "            tnm = midpnt.it\n",
    "            del_ = (b - a) / (3.0 * tnm)  # using del_ instead of del because del is a keyword in Python\n",
    "            ddel = del_ + del_\n",
    "            x = a + 0.5 * del_\n",
    "            sum_ = 0.0  # using sum_ instead of sum because sum is a built-in function in Python\n",
    "\n",
    "            for j in range(midpnt.it):\n",
    "                sum_ += func(x, **kwargs)\n",
    "                x += ddel\n",
    "                sum_ += func(x, **kwargs)\n",
    "                x += del_\n",
    "            \n",
    "            s = (s + (b - a) * sum_ / tnm) / 3.0\n",
    "            midpnt.it *= 3\n",
    "\n",
    "        return s\n",
    "\n",
    "    jmax = 14; k = 5; km = k - 1; jmaxp = jmax + 1; dss=0\n",
    "    eps = 1e-6\n",
    "    s = np.zeros(jmaxp)\n",
    "    h = np.zeros(jmaxp)\n",
    "    h[0] = 1.0\n",
    "    for j in range(jmax):\n",
    "        s[j] = midpnt(func, a, b, s[j], j+1, **kwargs)\n",
    "        if j >= k:\n",
    "            ss, dss = polint(h[j-km : j-km+k], s[j-km : j-km+k], 0.0)\n",
    "            if abs(dss) < eps * abs(ss):\n",
    "                return ss\n",
    "        s[j+1] = s[j]\n",
    "        h[j+1] = h[j] / 9.0\n",
    "    print('> too many steps in qromo')\n",
    "    return ss"
   ]
  },
  {
   "cell_type": "code",
   "execution_count": null,
   "metadata": {},
   "outputs": [],
   "source": [
    "# def midpnt(func, a, b, s, n, **kwargs):\n",
    "#     # If `it` was a static or saved variable in Fortran subroutine,\n",
    "#     # then in Python, it can be made an attribute of the function to mimic this behavior.\n",
    "#     if not hasattr(midpnt, \"it\"):\n",
    "#         midpnt.it = 0\n",
    "\n",
    "#     if n == 1:\n",
    "#         s = (b - a) * func(0.5 * (a + b), **kwargs)\n",
    "#         midpnt.it = 1\n",
    "#     else:\n",
    "#         tnm = midpnt.it\n",
    "#         del_ = (b - a) / (3.0 * tnm)  # using del_ instead of del because del is a keyword in Python\n",
    "#         ddel = del_ + del_\n",
    "#         x = a + 0.5 * del_\n",
    "#         sum_ = 0.0  # using sum_ instead of sum because sum is a built-in function in Python\n",
    "\n",
    "#         for j in range(midpnt.it):\n",
    "#             sum_ += func(x, **kwargs)\n",
    "#             x += ddel\n",
    "#             sum_ += func(x, **kwargs)\n",
    "#             x += del_\n",
    "        \n",
    "#         s = (s + (b - a) * sum_ / tnm) / 3.0\n",
    "#         midpnt.it *= 3\n",
    "\n",
    "#     return s\n"
   ]
  },
  {
   "cell_type": "code",
   "execution_count": null,
   "metadata": {},
   "outputs": [],
   "source": [
    "def age_temps(x,omm=0,oml=0):\n",
    "    return 1/np.sqrt(omm*x**5 + (1.0-omm-oml)*x**4 + oml*x**2)\n",
    "\n",
    "def age_temps_turn_around(x,omm=0,oml=0):\n",
    "    temps = omm*x**5 + (-omm-oml)*x**4 + oml*x**2\n",
    "    if(temps > 0.0):\n",
    "       return 1/np.sqrt(temps)\n",
    "    else:\n",
    "       return 0.0"
   ]
  },
  {
   "cell_type": "code",
   "execution_count": null,
   "metadata": {},
   "outputs": [
    {
     "name": "stdout",
     "output_type": "stream",
     "text": [
      "0.9906541773545013\n",
      "13.759117067239833\n"
     ]
    }
   ],
   "source": [
    "somme0 = qromo(age_temps, 1, 10001, omm=0.272, oml=0.728)\n",
    "print(somme0)\n",
    "print(977.78*somme0/70.4)"
   ]
  },
  {
   "cell_type": "code",
   "execution_count": null,
   "metadata": {},
   "outputs": [
    {
     "name": "stdout",
     "output_type": "stream",
     "text": [
      "0.0012719822478692107\n",
      "0.4751694125467955\n",
      "0.47644139479466474\n"
     ]
    }
   ],
   "source": [
    "a = qromo(age_temps_turn_around, 101, 10001, omm=0.272, oml=0.728)\n",
    "b = qromo(age_temps_turn_around, 1, 101, omm=0.272, oml=0.728)\n",
    "print(a)\n",
    "print(b)\n",
    "print(a+b)"
   ]
  },
  {
   "cell_type": "code",
   "execution_count": null,
   "metadata": {},
   "outputs": [
    {
     "ename": "KeyboardInterrupt",
     "evalue": "",
     "output_type": "error",
     "traceback": [
      "\u001b[0;31m---------------------------------------------------------------------------\u001b[0m",
      "\u001b[0;31mKeyboardInterrupt\u001b[0m                         Traceback (most recent call last)",
      "\u001b[1;32m/home/jeon/halomaker_python/test.ipynb Cell 8\u001b[0m line \u001b[0;36m<cell line: 1>\u001b[0;34m()\u001b[0m\n\u001b[0;32m----> <a href='vscode-notebook-cell://ssh-remote%2B7b22686f73744e616d65223a22474336227d/home/jeon/halomaker_python/test.ipynb#X16sdnNjb2RlLXJlbW90ZQ%3D%3D?line=0'>1</a>\u001b[0m qromo(age_temps_turn_around, \u001b[39m1\u001b[39;49m, \u001b[39m10001\u001b[39;49m, omm\u001b[39m=\u001b[39;49m\u001b[39m0.272\u001b[39;49m, oml\u001b[39m=\u001b[39;49m\u001b[39m0.728\u001b[39;49m)\n",
      "\u001b[1;32m/home/jeon/halomaker_python/test.ipynb Cell 8\u001b[0m line \u001b[0;36mqromo\u001b[0;34m(func, a, b, **kwargs)\u001b[0m\n\u001b[1;32m     <a href='vscode-notebook-cell://ssh-remote%2B7b22686f73744e616d65223a22474336227d/home/jeon/halomaker_python/test.ipynb#X16sdnNjb2RlLXJlbW90ZQ%3D%3D?line=32'>33</a>\u001b[0m h[\u001b[39m0\u001b[39m] \u001b[39m=\u001b[39m \u001b[39m1.0\u001b[39m\n\u001b[1;32m     <a href='vscode-notebook-cell://ssh-remote%2B7b22686f73744e616d65223a22474336227d/home/jeon/halomaker_python/test.ipynb#X16sdnNjb2RlLXJlbW90ZQ%3D%3D?line=33'>34</a>\u001b[0m \u001b[39mfor\u001b[39;00m j \u001b[39min\u001b[39;00m \u001b[39mrange\u001b[39m(jmax):\n\u001b[0;32m---> <a href='vscode-notebook-cell://ssh-remote%2B7b22686f73744e616d65223a22474336227d/home/jeon/halomaker_python/test.ipynb#X16sdnNjb2RlLXJlbW90ZQ%3D%3D?line=34'>35</a>\u001b[0m     s[j] \u001b[39m=\u001b[39m midpnt(func, a, b, s[j], j\u001b[39m+\u001b[39;49m\u001b[39m1\u001b[39;49m, \u001b[39m*\u001b[39;49m\u001b[39m*\u001b[39;49mkwargs)\n\u001b[1;32m     <a href='vscode-notebook-cell://ssh-remote%2B7b22686f73744e616d65223a22474336227d/home/jeon/halomaker_python/test.ipynb#X16sdnNjb2RlLXJlbW90ZQ%3D%3D?line=35'>36</a>\u001b[0m     \u001b[39mif\u001b[39;00m j \u001b[39m>\u001b[39m\u001b[39m=\u001b[39m k:\n\u001b[1;32m     <a href='vscode-notebook-cell://ssh-remote%2B7b22686f73744e616d65223a22474336227d/home/jeon/halomaker_python/test.ipynb#X16sdnNjb2RlLXJlbW90ZQ%3D%3D?line=36'>37</a>\u001b[0m         ss, dss \u001b[39m=\u001b[39m polint(h[j\u001b[39m-\u001b[39mkm : j\u001b[39m-\u001b[39mkm\u001b[39m+\u001b[39mk], s[j\u001b[39m-\u001b[39mkm : j\u001b[39m-\u001b[39mkm\u001b[39m+\u001b[39mk], \u001b[39m0.0\u001b[39m)\n",
      "\u001b[1;32m/home/jeon/halomaker_python/test.ipynb Cell 8\u001b[0m line \u001b[0;36mqromo.<locals>.midpnt\u001b[0;34m(func, a, b, s, n, **kwargs)\u001b[0m\n\u001b[1;32m     <a href='vscode-notebook-cell://ssh-remote%2B7b22686f73744e616d65223a22474336227d/home/jeon/halomaker_python/test.ipynb#X16sdnNjb2RlLXJlbW90ZQ%3D%3D?line=15'>16</a>\u001b[0m sum_ \u001b[39m=\u001b[39m \u001b[39m0.0\u001b[39m  \u001b[39m# using sum_ instead of sum because sum is a built-in function in Python\u001b[39;00m\n\u001b[1;32m     <a href='vscode-notebook-cell://ssh-remote%2B7b22686f73744e616d65223a22474336227d/home/jeon/halomaker_python/test.ipynb#X16sdnNjb2RlLXJlbW90ZQ%3D%3D?line=17'>18</a>\u001b[0m \u001b[39mfor\u001b[39;00m j \u001b[39min\u001b[39;00m \u001b[39mrange\u001b[39m(midpnt\u001b[39m.\u001b[39mit):\n\u001b[0;32m---> <a href='vscode-notebook-cell://ssh-remote%2B7b22686f73744e616d65223a22474336227d/home/jeon/halomaker_python/test.ipynb#X16sdnNjb2RlLXJlbW90ZQ%3D%3D?line=18'>19</a>\u001b[0m     sum_ \u001b[39m+\u001b[39m\u001b[39m=\u001b[39m func(x, \u001b[39m*\u001b[39;49m\u001b[39m*\u001b[39;49mkwargs)\n\u001b[1;32m     <a href='vscode-notebook-cell://ssh-remote%2B7b22686f73744e616d65223a22474336227d/home/jeon/halomaker_python/test.ipynb#X16sdnNjb2RlLXJlbW90ZQ%3D%3D?line=19'>20</a>\u001b[0m     x \u001b[39m+\u001b[39m\u001b[39m=\u001b[39m ddel\n\u001b[1;32m     <a href='vscode-notebook-cell://ssh-remote%2B7b22686f73744e616d65223a22474336227d/home/jeon/halomaker_python/test.ipynb#X16sdnNjb2RlLXJlbW90ZQ%3D%3D?line=20'>21</a>\u001b[0m     sum_ \u001b[39m+\u001b[39m\u001b[39m=\u001b[39m func(x, \u001b[39m*\u001b[39m\u001b[39m*\u001b[39mkwargs)\n",
      "\u001b[1;32m/home/jeon/halomaker_python/test.ipynb Cell 8\u001b[0m line \u001b[0;36mage_temps_turn_around\u001b[0;34m(x, omm, oml)\u001b[0m\n\u001b[1;32m      <a href='vscode-notebook-cell://ssh-remote%2B7b22686f73744e616d65223a22474336227d/home/jeon/halomaker_python/test.ipynb#X16sdnNjb2RlLXJlbW90ZQ%3D%3D?line=4'>5</a>\u001b[0m temps \u001b[39m=\u001b[39m omm\u001b[39m*\u001b[39mx\u001b[39m*\u001b[39m\u001b[39m*\u001b[39m\u001b[39m5\u001b[39m \u001b[39m+\u001b[39m (\u001b[39m-\u001b[39momm\u001b[39m-\u001b[39moml)\u001b[39m*\u001b[39mx\u001b[39m*\u001b[39m\u001b[39m*\u001b[39m\u001b[39m4\u001b[39m \u001b[39m+\u001b[39m oml\u001b[39m*\u001b[39mx\u001b[39m*\u001b[39m\u001b[39m*\u001b[39m\u001b[39m2\u001b[39m\n\u001b[1;32m      <a href='vscode-notebook-cell://ssh-remote%2B7b22686f73744e616d65223a22474336227d/home/jeon/halomaker_python/test.ipynb#X16sdnNjb2RlLXJlbW90ZQ%3D%3D?line=5'>6</a>\u001b[0m \u001b[39mif\u001b[39;00m(temps \u001b[39m>\u001b[39m \u001b[39m0.0\u001b[39m):\n\u001b[0;32m----> <a href='vscode-notebook-cell://ssh-remote%2B7b22686f73744e616d65223a22474336227d/home/jeon/halomaker_python/test.ipynb#X16sdnNjb2RlLXJlbW90ZQ%3D%3D?line=6'>7</a>\u001b[0m    \u001b[39mreturn\u001b[39;00m \u001b[39m1\u001b[39m\u001b[39m/\u001b[39mnp\u001b[39m.\u001b[39;49msqrt(temps)\n\u001b[1;32m      <a href='vscode-notebook-cell://ssh-remote%2B7b22686f73744e616d65223a22474336227d/home/jeon/halomaker_python/test.ipynb#X16sdnNjb2RlLXJlbW90ZQ%3D%3D?line=7'>8</a>\u001b[0m \u001b[39melse\u001b[39;00m:\n\u001b[1;32m      <a href='vscode-notebook-cell://ssh-remote%2B7b22686f73744e616d65223a22474336227d/home/jeon/halomaker_python/test.ipynb#X16sdnNjb2RlLXJlbW90ZQ%3D%3D?line=8'>9</a>\u001b[0m    \u001b[39mreturn\u001b[39;00m \u001b[39m0.0\u001b[39m\n",
      "\u001b[0;31mKeyboardInterrupt\u001b[0m: "
     ]
    }
   ],
   "source": [
    "qromo(age_temps_turn_around, 1, 10001, omm=0.272, oml=0.728)"
   ]
  },
  {
   "cell_type": "code",
   "execution_count": null,
   "metadata": {},
   "outputs": [
    {
     "name": "stdout",
     "output_type": "stream",
     "text": [
      "1.0\n"
     ]
    }
   ],
   "source": [
    "import numpy as np\n",
    "\n",
    "def cubic(a1, a2, a3, a4):\n",
    "    \"\"\"\n",
    "    Function for evaluating a cubic equation. In the case where\n",
    "    there is one real root, this routine returns it. If there are three\n",
    "    roots, it returns the smallest positive one.\n",
    "\n",
    "    The cubic equation is a1*x**3 + a2*x**2 + a3*x + a4 = 0.\n",
    "\n",
    "    Ref: Tallarida, R. J., \"Pocket Book of Integrals and Mathematical\n",
    "    Formulas,\" 2nd ed., Boca Raton: CRC Press 1992, pp. 8-9.\n",
    "    \"\"\"\n",
    "\n",
    "    if a1 == 0.0:\n",
    "        raise ValueError('Quadratic/linear equation passed to cubic function')\n",
    "\n",
    "    p = a3/a1 - (a2/a1)**2/3.0\n",
    "    q = a4/a1 - a2*a3/a1**2/3.0 + 2.0*(a2/a1)**3/27.0\n",
    "    d = p**3/27.0 + q**2/4.0\n",
    "\n",
    "    if d > 0.0:\n",
    "        a = -0.5*q + np.sqrt(d)\n",
    "        b = -0.5*q - np.sqrt(d)\n",
    "        a = a**(1/3) if a > 0 else -(-a)**(1/3)\n",
    "        b = b**(1/3) if b > 0 else -(-b)**(1/3)\n",
    "        y = a + b\n",
    "    else:\n",
    "        ar = -0.5 * q\n",
    "        ai = np.sqrt(-d)\n",
    "        r = (ar**2 + ai**2)**(1/6)\n",
    "        theta = np.arctan2(ai, ar)\n",
    "        y1 = 2.0 * r * np.cos(theta/3.0) - a2/a1/3.0\n",
    "        y = y1\n",
    "        y2 = 2.0 * r * np.cos(theta/3.0 + 2.0*np.pi/3.0) - a2/a1/3.0\n",
    "        if y < 0 or (y2 > 0 and y2 < y): y = y2\n",
    "        y3 = 2.0 * r * np.cos(theta/3.0 - 2.0*np.pi/3.0) - a2/a1/3.0\n",
    "        if y < 0 or (y3 > 0 and y3 < y): y = y3\n",
    "\n",
    "    return y\n",
    "\n",
    "# Example\n",
    "print(cubic(1, -6, 11, -6))  # It should return 3.0 which is the smallest positive root for x^3 - 6x^2 + 11x - 6 = 0"
   ]
  }
 ],
 "metadata": {
  "kernelspec": {
   "display_name": "jeonpy",
   "language": "python",
   "name": "python3"
  },
  "language_info": {
   "codemirror_mode": {
    "name": "ipython",
    "version": 3
   },
   "file_extension": ".py",
   "mimetype": "text/x-python",
   "name": "python",
   "nbconvert_exporter": "python",
   "pygments_lexer": "ipython3",
   "version": "3.10.4"
  },
  "orig_nbformat": 4
 },
 "nbformat": 4,
 "nbformat_minor": 2
}
